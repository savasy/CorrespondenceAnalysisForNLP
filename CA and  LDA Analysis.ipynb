{
 "cells": [
  {
   "cell_type": "markdown",
   "metadata": {},
   "source": [
    "# Applying Corresponding Analysis to Textual Data\n"
   ]
  },
  {
   "cell_type": "code",
   "execution_count": 1,
   "metadata": {},
   "outputs": [],
   "source": [
    "import pandas as pd"
   ]
  },
  {
   "cell_type": "markdown",
   "metadata": {},
   "source": [
    "# read data"
   ]
  },
  {
   "cell_type": "code",
   "execution_count": 5,
   "metadata": {},
   "outputs": [],
   "source": [
    "d=pd.read_csv(\"df_preliminary_covid.csv\")\n",
    "#d=pd.read_csv(\"small.csv\")"
   ]
  },
  {
   "cell_type": "code",
   "execution_count": 6,
   "metadata": {},
   "outputs": [
    {
     "data": {
      "text/html": [
       "<div>\n",
       "<style scoped>\n",
       "    .dataframe tbody tr th:only-of-type {\n",
       "        vertical-align: middle;\n",
       "    }\n",
       "\n",
       "    .dataframe tbody tr th {\n",
       "        vertical-align: top;\n",
       "    }\n",
       "\n",
       "    .dataframe thead th {\n",
       "        text-align: right;\n",
       "    }\n",
       "</style>\n",
       "<table border=\"1\" class=\"dataframe\">\n",
       "  <thead>\n",
       "    <tr style=\"text-align: right;\">\n",
       "      <th></th>\n",
       "      <th>canonical_url</th>\n",
       "      <th>domain</th>\n",
       "      <th>title</th>\n",
       "      <th>article_text</th>\n",
       "      <th>published_date</th>\n",
       "      <th>tags</th>\n",
       "      <th>article_text_lemmatized</th>\n",
       "      <th>title_lemmatized</th>\n",
       "      <th>tags_lemmatized</th>\n",
       "    </tr>\n",
       "  </thead>\n",
       "  <tbody>\n",
       "    <tr>\n",
       "      <th>0</th>\n",
       "      <td>https://www.novilist.hr/novosti/hrvatska/kbc-r...</td>\n",
       "      <td>novilist.hr</td>\n",
       "      <td>KBC Rijeka povećao broj postelja za zaražene: ...</td>\n",
       "      <td>RIJEKA – Od koronavirusa jučer je u Hrvatskoj ...</td>\n",
       "      <td>2020-11-10 06:33:00</td>\n",
       "      <td>krunoslav capak,epidemija koronavirusa,koronav...</td>\n",
       "      <td>rijeka – od koronavirusa jučer je u hrvatski u...</td>\n",
       "      <td>kbc rijeka povećati brojati postelja za zaraže...</td>\n",
       "      <td>krunoslav capak , epidemija koronavirusa , kor...</td>\n",
       "    </tr>\n",
       "    <tr>\n",
       "      <th>1</th>\n",
       "      <td>https://www.jutarnji.hr/vijesti/svijet/svedski...</td>\n",
       "      <td>jutarnji.hr</td>\n",
       "      <td>Švedski koronastrateg na udaru zbog emailova o...</td>\n",
       "      <td>Švedska strategija za borbu protiv epidemije k...</td>\n",
       "      <td>2020-08-17 18:50:00</td>\n",
       "      <td>anders tegnell,švedska</td>\n",
       "      <td>švedski strategija za borba protiv epidemija k...</td>\n",
       "      <td>švedski koronastrateg na udar zbog emailova o ...</td>\n",
       "      <td>anders tegnell , švedski</td>\n",
       "    </tr>\n",
       "    <tr>\n",
       "      <th>2</th>\n",
       "      <td>https://www.index.hr/clanak.aspx?id=2208246</td>\n",
       "      <td>index.hr</td>\n",
       "      <td>Britanski epidemiolog: Lockdown je bio monumen...</td>\n",
       "      <td>Lockdown će se smatrati \"monumentalnom pogrešk...</td>\n",
       "      <td>2020-08-27 00:00:00</td>\n",
       "      <td>koronavirus,karantena,lockdown,markwoolhouse,k...</td>\n",
       "      <td>lockdown će se smatrati \" monumentalan pogrešk...</td>\n",
       "      <td>britanski epidemiolog : lockdown je biti monum...</td>\n",
       "      <td>koronavirus , karantena , lockdown , markwoolh...</td>\n",
       "    </tr>\n",
       "    <tr>\n",
       "      <th>3</th>\n",
       "      <td>https://www.jutarnji.hr/vijesti/hrvatska/umrla...</td>\n",
       "      <td>jutarnji.hr</td>\n",
       "      <td>UMRLA ŠTIĆENICA IZ DOMA UMIROVLJENIKA U SPLITU...</td>\n",
       "      <td>Županijski stožeri i danas objavljuju nove pod...</td>\n",
       "      <td>2020-04-10 09:49:00</td>\n",
       "      <td>županije,koronavirus,zaraza,krizni stožer</td>\n",
       "      <td>županijski stožer i danas objavljivati nov pod...</td>\n",
       "      <td>umro štićenica iz dom umirovljenik u split rav...</td>\n",
       "      <td>županija , koronavirus , zaraza , krizan stožer</td>\n",
       "    </tr>\n",
       "    <tr>\n",
       "      <th>4</th>\n",
       "      <td>https://dnevnik.hr/vijesti/koronavirus/iz-minu...</td>\n",
       "      <td>dnevnik.hr</td>\n",
       "      <td>Zaražen i ruski premijer, završio u izolaciji....</td>\n",
       "      <td>Više od tri milijuna ljudi diljem svijeta zara...</td>\n",
       "      <td>2020-04-30 22:29:00</td>\n",
       "      <td>coronavirus,koronavirus,svijet,regija,covid-19</td>\n",
       "      <td>više od tri milijun čovjek dilj svijet zaražen...</td>\n",
       "      <td>zaražen i ruski premijer , završiti u izolacij...</td>\n",
       "      <td>coronavirus , koronavirus , svijet , regija , ...</td>\n",
       "    </tr>\n",
       "  </tbody>\n",
       "</table>\n",
       "</div>"
      ],
      "text/plain": [
       "                                       canonical_url       domain  \\\n",
       "0  https://www.novilist.hr/novosti/hrvatska/kbc-r...  novilist.hr   \n",
       "1  https://www.jutarnji.hr/vijesti/svijet/svedski...  jutarnji.hr   \n",
       "2        https://www.index.hr/clanak.aspx?id=2208246     index.hr   \n",
       "3  https://www.jutarnji.hr/vijesti/hrvatska/umrla...  jutarnji.hr   \n",
       "4  https://dnevnik.hr/vijesti/koronavirus/iz-minu...   dnevnik.hr   \n",
       "\n",
       "                                               title  \\\n",
       "0  KBC Rijeka povećao broj postelja za zaražene: ...   \n",
       "1  Švedski koronastrateg na udaru zbog emailova o...   \n",
       "2  Britanski epidemiolog: Lockdown je bio monumen...   \n",
       "3  UMRLA ŠTIĆENICA IZ DOMA UMIROVLJENIKA U SPLITU...   \n",
       "4  Zaražen i ruski premijer, završio u izolaciji....   \n",
       "\n",
       "                                        article_text       published_date  \\\n",
       "0  RIJEKA – Od koronavirusa jučer je u Hrvatskoj ...  2020-11-10 06:33:00   \n",
       "1  Švedska strategija za borbu protiv epidemije k...  2020-08-17 18:50:00   \n",
       "2  Lockdown će se smatrati \"monumentalnom pogrešk...  2020-08-27 00:00:00   \n",
       "3  Županijski stožeri i danas objavljuju nove pod...  2020-04-10 09:49:00   \n",
       "4  Više od tri milijuna ljudi diljem svijeta zara...  2020-04-30 22:29:00   \n",
       "\n",
       "                                                tags  \\\n",
       "0  krunoslav capak,epidemija koronavirusa,koronav...   \n",
       "1                             anders tegnell,švedska   \n",
       "2  koronavirus,karantena,lockdown,markwoolhouse,k...   \n",
       "3          županije,koronavirus,zaraza,krizni stožer   \n",
       "4     coronavirus,koronavirus,svijet,regija,covid-19   \n",
       "\n",
       "                             article_text_lemmatized  \\\n",
       "0  rijeka – od koronavirusa jučer je u hrvatski u...   \n",
       "1  švedski strategija za borba protiv epidemija k...   \n",
       "2  lockdown će se smatrati \" monumentalan pogrešk...   \n",
       "3  županijski stožer i danas objavljivati nov pod...   \n",
       "4  više od tri milijun čovjek dilj svijet zaražen...   \n",
       "\n",
       "                                    title_lemmatized  \\\n",
       "0  kbc rijeka povećati brojati postelja za zaraže...   \n",
       "1  švedski koronastrateg na udar zbog emailova o ...   \n",
       "2  britanski epidemiolog : lockdown je biti monum...   \n",
       "3  umro štićenica iz dom umirovljenik u split rav...   \n",
       "4  zaražen i ruski premijer , završiti u izolacij...   \n",
       "\n",
       "                                     tags_lemmatized  \n",
       "0  krunoslav capak , epidemija koronavirusa , kor...  \n",
       "1                           anders tegnell , švedski  \n",
       "2  koronavirus , karantena , lockdown , markwoolh...  \n",
       "3    županija , koronavirus , zaraza , krizan stožer  \n",
       "4  coronavirus , koronavirus , svijet , regija , ...  "
      ]
     },
     "execution_count": 6,
     "metadata": {},
     "output_type": "execute_result"
    }
   ],
   "source": [
    "d.head(5)"
   ]
  },
  {
   "cell_type": "code",
   "execution_count": 9,
   "metadata": {},
   "outputs": [
    {
     "data": {
      "text/plain": [
       "(19399, 9)"
      ]
     },
     "execution_count": 9,
     "metadata": {},
     "output_type": "execute_result"
    }
   ],
   "source": [
    "d.shape"
   ]
  },
  {
   "cell_type": "code",
   "execution_count": null,
   "metadata": {},
   "outputs": [],
   "source": []
  },
  {
   "cell_type": "markdown",
   "metadata": {},
   "source": []
  },
  {
   "cell_type": "code",
   "execution_count": 7,
   "metadata": {},
   "outputs": [],
   "source": [
    "d=d.sample(frac=1)\n",
    "domains= d.domain"
   ]
  },
  {
   "cell_type": "code",
   "execution_count": 8,
   "metadata": {},
   "outputs": [],
   "source": [
    "classes=list(domains.value_counts().index[:10]                          )"
   ]
  },
  {
   "cell_type": "code",
   "execution_count": 55,
   "metadata": {},
   "outputs": [
    {
     "data": {
      "text/plain": [
       "<AxesSubplot:title={'center':'Media Outlers'}>"
      ]
     },
     "execution_count": 55,
     "metadata": {},
     "output_type": "execute_result"
    },
    {
     "data": {
      "image/png": "[encoded data removed]",
      "text/plain": [
       "<Figure size 576x360 with 1 Axes>"
      ]
     },
     "metadata": {
      "needs_background": "light"
     },
     "output_type": "display_data"
    }
   ],
   "source": [
    "domains.value_counts()[classes].plot(kind='bar', color=[\"r\",\"b\",\"g\",\"y\",\"c\"], title=\"Media Outlers\", grid=True, figsize=(8,5))"
   ]
  },
  {
   "cell_type": "code",
   "execution_count": 56,
   "metadata": {},
   "outputs": [
    {
     "data": {
      "text/plain": [
       "['direktno.hr',\n",
       " 'index.hr',\n",
       " 'jutarnji.hr',\n",
       " 'net.hr',\n",
       " 'dnevnik.hr',\n",
       " 'vecernji.hr',\n",
       " 'slobodnadalmacija.hr',\n",
       " '24sata.hr',\n",
       " 'novilist.hr',\n",
       " 'rtl.hr']"
      ]
     },
     "execution_count": 56,
     "metadata": {},
     "output_type": "execute_result"
    }
   ],
   "source": [
    "classes"
   ]
  },
  {
   "cell_type": "code",
   "execution_count": null,
   "metadata": {},
   "outputs": [],
   "source": []
  },
  {
   "cell_type": "code",
   "execution_count": 57,
   "metadata": {},
   "outputs": [
    {
     "data": {
      "text/plain": [
       "(177, 9)"
      ]
     },
     "execution_count": 57,
     "metadata": {},
     "output_type": "execute_result"
    }
   ],
   "source": [
    "d2=d[d.domain.map(lambda x: x in classes)]\n",
    "d2.shape"
   ]
  },
  {
   "cell_type": "code",
   "execution_count": 58,
   "metadata": {},
   "outputs": [
    {
     "data": {
      "text/plain": [
       "(177,)"
      ]
     },
     "execution_count": 58,
     "metadata": {},
     "output_type": "execute_result"
    }
   ],
   "source": [
    "titles= d2.title_lemmatized\n",
    "titles.shape"
   ]
  },
  {
   "cell_type": "code",
   "execution_count": null,
   "metadata": {},
   "outputs": [],
   "source": []
  },
  {
   "cell_type": "code",
   "execution_count": 59,
   "metadata": {},
   "outputs": [],
   "source": [
    "from sklearn.feature_extraction.text import TfidfVectorizer\n",
    "vectorizer= TfidfVectorizer(ngram_range=(1,2), max_df=0.9, max_features=15000, min_df=5, lowercase=False)\n",
    "X=vectorizer.fit_transform(titles)"
   ]
  },
  {
   "cell_type": "code",
   "execution_count": 60,
   "metadata": {},
   "outputs": [
    {
     "data": {
      "text/plain": [
       "(177, 106)"
      ]
     },
     "execution_count": 60,
     "metadata": {},
     "output_type": "execute_result"
    }
   ],
   "source": [
    "X.shape"
   ]
  },
  {
   "cell_type": "code",
   "execution_count": 61,
   "metadata": {},
   "outputs": [],
   "source": [
    "from sklearn.ensemble import GradientBoostingClassifier\n",
    "clf=GradientBoostingClassifier()"
   ]
  },
  {
   "cell_type": "code",
   "execution_count": 62,
   "metadata": {},
   "outputs": [
    {
     "name": "stdout",
     "output_type": "stream",
     "text": [
      "132 177\n"
     ]
    }
   ],
   "source": [
    "domains=d2.domain\n",
    "cut= X.shape[0]*3//4\n",
    "print(cut,X.shape[0])\n",
    "trainX= X[:cut]\n",
    "trainY= domains[:cut]\n",
    "testX= X[cut:]\n",
    "testY= domains[cut:]"
   ]
  },
  {
   "cell_type": "code",
   "execution_count": 63,
   "metadata": {},
   "outputs": [
    {
     "data": {
      "text/plain": [
       "((132, 106), (132,), (45, 106), (45,))"
      ]
     },
     "execution_count": 63,
     "metadata": {},
     "output_type": "execute_result"
    }
   ],
   "source": [
    "trainX.shape, trainY.shape, testX.shape, testY.shape"
   ]
  },
  {
   "cell_type": "code",
   "execution_count": null,
   "metadata": {},
   "outputs": [],
   "source": []
  },
  {
   "cell_type": "code",
   "execution_count": 64,
   "metadata": {},
   "outputs": [],
   "source": [
    "clf.fit(trainX,trainY)\n",
    "pred=clf.predict(testX)"
   ]
  },
  {
   "cell_type": "code",
   "execution_count": null,
   "metadata": {},
   "outputs": [],
   "source": []
  },
  {
   "cell_type": "code",
   "execution_count": 65,
   "metadata": {},
   "outputs": [
    {
     "name": "stdout",
     "output_type": "stream",
     "text": [
      "                      precision    recall  f1-score   support\n",
      "\n",
      "           24sata.hr       0.00      0.00      0.00         2\n",
      "         direktno.hr       0.46      0.67      0.55         9\n",
      "          dnevnik.hr       0.00      0.00      0.00         6\n",
      "            index.hr       0.20      0.11      0.14         9\n",
      "         jutarnji.hr       0.00      0.00      0.00         4\n",
      "              net.hr       0.33      0.17      0.22         6\n",
      "         novilist.hr       0.00      0.00      0.00         1\n",
      "              rtl.hr       0.00      0.00      0.00         3\n",
      "slobodnadalmacija.hr       0.00      0.00      0.00         3\n",
      "         vecernji.hr       0.00      0.00      0.00         2\n",
      "\n",
      "            accuracy                           0.18        45\n",
      "           macro avg       0.10      0.09      0.09        45\n",
      "        weighted avg       0.18      0.18      0.17        45\n",
      "\n"
     ]
    }
   ],
   "source": [
    "from sklearn.metrics import classification_report \n",
    "print(classification_report(y_true=testY, y_pred= pred))"
   ]
  },
  {
   "cell_type": "code",
   "execution_count": 66,
   "metadata": {},
   "outputs": [],
   "source": [
    "from sklearn.metrics import plot_confusion_matrix\n",
    "from sklearn.metrics import ConfusionMatrixDisplay\n",
    "from sklearn.metrics import confusion_matrix\n",
    "cm=confusion_matrix(y_true=testY, y_pred= pred)"
   ]
  },
  {
   "cell_type": "code",
   "execution_count": 67,
   "metadata": {},
   "outputs": [
    {
     "data": {
      "text/plain": [
       "<sklearn.metrics._plot.confusion_matrix.ConfusionMatrixDisplay at 0x7f57bba76700>"
      ]
     },
     "execution_count": 67,
     "metadata": {},
     "output_type": "execute_result"
    },
    {
     "data": {
      "image/png": "[encoded data removed]",
      "text/plain": [
       "<Figure size 720x720 with 2 Axes>"
      ]
     },
     "metadata": {
      "needs_background": "light"
     },
     "output_type": "display_data"
    }
   ],
   "source": [
    "import matplotlib.pyplot as plt\n",
    "disp = ConfusionMatrixDisplay(confusion_matrix=cm, display_labels=clf.classes_)\n",
    "fig, ax = plt.subplots(figsize=(10,10))\n",
    "disp.plot(ax=ax)"
   ]
  },
  {
   "cell_type": "code",
   "execution_count": null,
   "metadata": {},
   "outputs": [],
   "source": []
  },
  {
   "cell_type": "code",
   "execution_count": null,
   "metadata": {},
   "outputs": [],
   "source": []
  },
  {
   "cell_type": "code",
   "execution_count": null,
   "metadata": {},
   "outputs": [],
   "source": []
  },
  {
   "cell_type": "code",
   "execution_count": null,
   "metadata": {},
   "outputs": [],
   "source": []
  },
  {
   "cell_type": "code",
   "execution_count": null,
   "metadata": {},
   "outputs": [],
   "source": []
  },
  {
   "cell_type": "code",
   "execution_count": 68,
   "metadata": {},
   "outputs": [
    {
     "data": {
      "text/plain": [
       "GradientBoostingClassifier()"
      ]
     },
     "execution_count": 68,
     "metadata": {},
     "output_type": "execute_result"
    }
   ],
   "source": [
    "clf.fit(X,domains)"
   ]
  },
  {
   "cell_type": "code",
   "execution_count": 69,
   "metadata": {},
   "outputs": [],
   "source": [
    "def show_most_informative_features(vectorizer, clf, n=20):\n",
    "    feature_names = vectorizer.get_feature_names()\n",
    "    coefs_with_fns = sorted(zip(clf.feature_importances_, feature_names))\n",
    "    top = coefs_with_fns[:-(n + 1):-1] \n",
    "    return top"
   ]
  },
  {
   "cell_type": "code",
   "execution_count": 70,
   "metadata": {},
   "outputs": [],
   "source": [
    "topn=show_most_informative_features(vectorizer,clf, n=350)\n",
    "VOC=[e[1] for e in topn if len(e[1])>3]"
   ]
  },
  {
   "cell_type": "code",
   "execution_count": 71,
   "metadata": {},
   "outputs": [
    {
     "data": {
      "text/plain": [
       "78"
      ]
     },
     "execution_count": 71,
     "metadata": {},
     "output_type": "execute_result"
    }
   ],
   "source": [
    "len(VOC)"
   ]
  },
  {
   "cell_type": "code",
   "execution_count": 72,
   "metadata": {},
   "outputs": [],
   "source": [
    "# null control"
   ]
  },
  {
   "cell_type": "code",
   "execution_count": null,
   "metadata": {},
   "outputs": [],
   "source": []
  },
  {
   "cell_type": "code",
   "execution_count": 73,
   "metadata": {},
   "outputs": [],
   "source": [
    "## find the tags from the lists"
   ]
  },
  {
   "cell_type": "code",
   "execution_count": null,
   "metadata": {},
   "outputs": [],
   "source": []
  },
  {
   "cell_type": "code",
   "execution_count": null,
   "metadata": {},
   "outputs": [],
   "source": []
  },
  {
   "cell_type": "code",
   "execution_count": 74,
   "metadata": {},
   "outputs": [
    {
     "name": "stdout",
     "output_type": "stream",
     "text": [
      "('korona virus | slovenija | koronavirusa | pacijent | čovjek | dati | najviše '\n",
      " '| covid 19 | znanstvenik | testiranje | koronavirusom | možda | covid | '\n",
      " 'zaražen | novozaraženih | capak | imati | liječnik | zemlja | simptom | '\n",
      " 'hrvatski | svijet | više od | ukupan | cjepivo | beroš | posto | zadnji | '\n",
      " 'mjera | epidemija | širenje | splitski | mjeriti | koji | država | velik | '\n",
      " 'slučaj | trebati | samoizolacija | koronavirus | otkriti | samo | '\n",
      " 'dalmatinski | protiv | virus | dati je | rekordan brojati | respirator | '\n",
      " 'osoba | zašto | karantena | nakon | korona | splitski dalmatinski | moći | '\n",
      " 'biti | na respirator | je dati | brojati | županija | više | koronom | nije '\n",
      " '| kako | umro | nego | rekordan | stožer | preminuti | brojka | zaraziti | '\n",
      " 'dobar | nov slučaj | plenković | oboljeo | borba | žarište | ministar')\n"
     ]
    }
   ],
   "source": [
    "from pprint import pprint\n",
    "pprint(\" | \".join(VOC))"
   ]
  },
  {
   "cell_type": "code",
   "execution_count": 75,
   "metadata": {},
   "outputs": [
    {
     "data": {
      "text/plain": [
       "78"
      ]
     },
     "execution_count": 75,
     "metadata": {},
     "output_type": "execute_result"
    }
   ],
   "source": [
    "len(VOC)"
   ]
  },
  {
   "cell_type": "markdown",
   "metadata": {},
   "source": [
    "## What about domian - news source ?"
   ]
  },
  {
   "cell_type": "code",
   "execution_count": null,
   "metadata": {},
   "outputs": [],
   "source": []
  },
  {
   "cell_type": "markdown",
   "metadata": {},
   "source": [
    "it is not uniformly distributed. Now lets select only 10 domains"
   ]
  },
  {
   "cell_type": "code",
   "execution_count": 76,
   "metadata": {},
   "outputs": [],
   "source": [
    "domain=list(d.domain.value_counts().index[:10])"
   ]
  },
  {
   "cell_type": "code",
   "execution_count": 77,
   "metadata": {},
   "outputs": [
    {
     "data": {
      "text/plain": [
       "['direktno.hr',\n",
       " 'index.hr',\n",
       " 'jutarnji.hr',\n",
       " 'net.hr',\n",
       " 'dnevnik.hr',\n",
       " 'vecernji.hr',\n",
       " 'slobodnadalmacija.hr',\n",
       " '24sata.hr',\n",
       " 'novilist.hr',\n",
       " 'rtl.hr']"
      ]
     },
     "execution_count": 77,
     "metadata": {},
     "output_type": "execute_result"
    }
   ],
   "source": [
    "classes"
   ]
  },
  {
   "cell_type": "code",
   "execution_count": null,
   "metadata": {},
   "outputs": [],
   "source": []
  },
  {
   "cell_type": "code",
   "execution_count": null,
   "metadata": {},
   "outputs": [],
   "source": []
  },
  {
   "cell_type": "markdown",
   "metadata": {},
   "source": [
    "## building a cross matrix"
   ]
  },
  {
   "cell_type": "code",
   "execution_count": 78,
   "metadata": {},
   "outputs": [],
   "source": [
    "import numpy as np\n",
    "cross=np.zeros((len(classes) , len(VOC))) \n",
    "for dom,title in zip(d2.domain, d2.title_lemmatized):\n",
    "    if not pd.isnull(title):\n",
    "        if dom in classes:\n",
    "            domi=classes.index(dom)\n",
    "            #print(\"2 \",)\n",
    "            for v in VOC:\n",
    "                #print(\"3\\t\\t\",t)\n",
    "                vi=VOC.index(v)\n",
    "                if \" \"+v+\" \" in \" \"+title+\" \":\n",
    "                    cross[domi, vi]=cross[domi, vi]+1"
   ]
  },
  {
   "cell_type": "code",
   "execution_count": 79,
   "metadata": {},
   "outputs": [
    {
     "data": {
      "text/plain": [
       "array([[14.,  4.,  0.,  0.,  2.,  8.,  0.,  0.,  2.,  0.,  0.,  1.,  2.,\n",
       "         1.,  2.,  0.,  2.,  0.,  1.,  0.,  3.,  0.,  1.,  0.,  2.,  4.,\n",
       "         1.,  0.,  2.,  4.,  1.,  2.,  2.,  1.,  1.,  1.,  8.,  1.,  2.,\n",
       "         0.,  2.,  1.,  2.,  3., 15.,  2.,  0.,  0.,  2.,  0.,  0.,  2.,\n",
       "        15.,  0.,  1.,  2.,  0.,  2.,  1.,  2.,  1.,  0.,  1.,  3.,  1.,\n",
       "         0.,  1.,  1.,  2.,  2.,  5.,  0.,  5.,  1.,  1.,  1.,  2.,  0.],\n",
       "       [ 0.,  0.,  5.,  0.,  0.,  0.,  0.,  0.,  0.,  1.,  0.,  0.,  0.,\n",
       "         3.,  0.,  0.,  4.,  1.,  0.,  0.,  3.,  1.,  0.,  1.,  3.,  1.,\n",
       "         0.,  0.,  1.,  1.,  0.,  0.,  3.,  3.,  1.,  2.,  3.,  2.,  0.,\n",
       "         0.,  1.,  0.,  0.,  2.,  2.,  0.,  1.,  0.,  0.,  0.,  2.,  0.,\n",
       "         0.,  0.,  1.,  2.,  0.,  0.,  1.,  0.,  0.,  1.,  0.,  0.,  0.,\n",
       "         0.,  1.,  0.,  0.,  1.,  0.,  2.,  2.,  1.,  0.,  1.,  1.,  2.],\n",
       "       [ 0.,  1.,  2.,  4.,  3.,  4.,  1.,  0.,  2.,  0.,  2.,  0.,  1.,\n",
       "         3.,  0.,  2.,  4.,  2.,  2.,  2.,  2.,  1.,  0.,  0.,  1.,  2.,\n",
       "         3.,  1.,  1.,  1.,  1.,  0.,  3.,  4.,  1.,  0.,  2.,  0.,  2.,\n",
       "         2.,  1.,  2.,  0.,  1.,  5.,  0.,  0.,  2.,  3.,  2.,  2.,  1.,\n",
       "         1.,  0.,  3.,  2.,  2.,  1.,  1.,  0.,  0.,  2.,  2.,  1.,  2.,\n",
       "         1.,  0.,  2.,  1.,  0.,  0.,  1.,  0.,  1.,  0.,  2.,  0.,  1.],\n",
       "       [ 0.,  2.,  1.,  2.,  5.,  2.,  0.,  0.,  3.,  2.,  0.,  0.,  4.,\n",
       "         3.,  4.,  0.,  3.,  2.,  0.,  0.,  2.,  1.,  0.,  1.,  2.,  3.,\n",
       "         0.,  1.,  1.,  1.,  0.,  0.,  2.,  2.,  0.,  1.,  0.,  0.,  0.,\n",
       "         2.,  0.,  1.,  0.,  1.,  0.,  2.,  2.,  1.,  1.,  1.,  1.,  2.,\n",
       "         0.,  0.,  2.,  0.,  1.,  1.,  2.,  1.,  0.,  0.,  1.,  1.,  1.,\n",
       "         2.,  2.,  1.,  2.,  0.,  1.,  1.,  0.,  1.,  1.,  1.,  1.,  1.],\n",
       "       [ 0.,  0.,  1.,  1.,  3.,  2.,  2.,  0.,  1.,  2.,  2.,  1.,  0.,\n",
       "         5.,  1.,  0.,  2.,  0.,  1.,  0.,  5.,  0.,  1.,  1.,  0.,  5.,\n",
       "         0.,  2.,  0.,  2.,  0.,  2.,  0.,  0.,  2.,  1.,  3.,  0.,  2.,\n",
       "         0.,  0.,  1.,  2.,  0.,  1.,  0.,  1.,  1.,  2.,  1.,  2.,  1.,\n",
       "         1.,  0.,  1.,  3.,  1.,  0.,  3.,  1.,  2.,  1.,  1.,  0.,  2.,\n",
       "         0.,  1.,  0.,  3.,  1.,  2.,  1.,  2.,  1.,  2.,  0.,  1.,  1.],\n",
       "       [ 0.,  0.,  3.,  0.,  1.,  1.,  0.,  0.,  0.,  0.,  0.,  0.,  0.,\n",
       "         3.,  0.,  2.,  1.,  1.,  0.,  1.,  1.,  1.,  1.,  0.,  2.,  0.,\n",
       "         0.,  0.,  0.,  0.,  0.,  0.,  0.,  1.,  1.,  0.,  1.,  0.,  0.,\n",
       "         1.,  0.,  0.,  0.,  3.,  0.,  1.,  1.,  1.,  0.,  0.,  0.,  2.,\n",
       "         0.,  0.,  2.,  0.,  1.,  0.,  1.,  0.,  1.,  0.,  0.,  0.,  1.,\n",
       "         1.,  1.,  0.,  1.,  0.,  0.,  0.,  0.,  0.,  0.,  1.,  1.,  0.],\n",
       "       [ 0.,  0.,  0.,  0.,  1.,  2.,  1.,  0.,  0.,  0.,  1.,  1.,  1.,\n",
       "         3.,  0.,  0.,  3.,  2.,  0.,  1.,  2.,  0.,  1.,  0.,  1.,  0.,\n",
       "         1.,  0.,  0.,  2.,  2.,  0.,  2.,  1.,  0.,  1.,  1.,  2.,  0.,\n",
       "         3.,  0.,  0.,  0.,  1.,  2.,  1.,  0.,  0.,  0.,  1.,  0.,  0.,\n",
       "         1.,  0.,  0.,  1.,  0.,  1.,  0.,  1.,  2.,  0.,  1.,  0.,  0.,\n",
       "         1.,  0.,  1.,  0.,  0.,  1.,  0.,  0.,  1.,  0.,  0.,  0.,  0.],\n",
       "       [ 1.,  0.,  0.,  0.,  1.,  0.,  1.,  0.,  0.,  0.,  0.,  2.,  0.,\n",
       "         2.,  0.,  1.,  1.,  0.,  0.,  1.,  1.,  0.,  0.,  2.,  0.,  0.,\n",
       "         0.,  0.,  0.,  0.,  0.,  0.,  1.,  0.,  0.,  0.,  1.,  0.,  0.,\n",
       "         1.,  0.,  0.,  0.,  0.,  1.,  0.,  0.,  0.,  0.,  0.,  0.,  0.,\n",
       "         2.,  0.,  0.,  1.,  0.,  0.,  0.,  0.,  2.,  1.,  0.,  1.,  1.,\n",
       "         0.,  0.,  0.,  0.,  0.,  0.,  0.,  0.,  0.,  1.,  0.,  0.,  0.],\n",
       "       [ 0.,  0.,  0.,  1.,  1.,  0.,  0.,  0.,  0.,  0.,  0.,  0.,  0.,\n",
       "         1.,  0.,  0.,  0.,  0.,  1.,  0.,  0.,  1.,  1.,  0.,  0.,  0.,\n",
       "         0.,  0.,  0.,  0.,  0.,  0.,  1.,  0.,  0.,  0.,  0.,  0.,  0.,\n",
       "         1.,  0.,  1.,  0.,  0.,  1.,  0.,  0.,  0.,  0.,  1.,  0.,  0.,\n",
       "         0.,  0.,  1.,  0.,  0.,  0.,  0.,  1.,  1.,  1.,  0.,  0.,  0.,\n",
       "         0.,  0.,  1.,  0.,  0.,  0.,  0.,  0.,  0.,  0.,  1.,  0.,  0.],\n",
       "       [ 0.,  0.,  2.,  0.,  0.,  0.,  0.,  0.,  0.,  0.,  0.,  0.,  0.,\n",
       "         0.,  1.,  0.,  0.,  0.,  0.,  0.,  1.,  0.,  0.,  0.,  1.,  2.,\n",
       "         0.,  1.,  2.,  0.,  1.,  1.,  0.,  0.,  0.,  0.,  1.,  1.,  0.,\n",
       "         0.,  1.,  1.,  1.,  1.,  0.,  0.,  0.,  0.,  1.,  0.,  0.,  0.,\n",
       "         0.,  0.,  0.,  1.,  0.,  0.,  0.,  1.,  0.,  0.,  0.,  0.,  0.,\n",
       "         0.,  0.,  0.,  1.,  1.,  1.,  0.,  0.,  0.,  0.,  0.,  0.,  0.]])"
      ]
     },
     "execution_count": 79,
     "metadata": {},
     "output_type": "execute_result"
    }
   ],
   "source": [
    "cross"
   ]
  },
  {
   "cell_type": "code",
   "execution_count": 80,
   "metadata": {},
   "outputs": [
    {
     "data": {
      "text/plain": [
       "(10, 78)"
      ]
     },
     "execution_count": 80,
     "metadata": {},
     "output_type": "execute_result"
    }
   ],
   "source": [
    "cross.shape"
   ]
  },
  {
   "cell_type": "code",
   "execution_count": null,
   "metadata": {},
   "outputs": [],
   "source": []
  },
  {
   "cell_type": "code",
   "execution_count": null,
   "metadata": {},
   "outputs": [],
   "source": []
  },
  {
   "cell_type": "markdown",
   "metadata": {},
   "source": [
    "## Following cross table shows how many times a tag occurs in a source-domian"
   ]
  },
  {
   "cell_type": "code",
   "execution_count": 81,
   "metadata": {},
   "outputs": [
    {
     "data": {
      "text/html": [
       "<div>\n",
       "<style scoped>\n",
       "    .dataframe tbody tr th:only-of-type {\n",
       "        vertical-align: middle;\n",
       "    }\n",
       "\n",
       "    .dataframe tbody tr th {\n",
       "        vertical-align: top;\n",
       "    }\n",
       "\n",
       "    .dataframe thead th {\n",
       "        text-align: right;\n",
       "    }\n",
       "</style>\n",
       "<table border=\"1\" class=\"dataframe\">\n",
       "  <thead>\n",
       "    <tr style=\"text-align: right;\">\n",
       "      <th></th>\n",
       "      <th>korona virus</th>\n",
       "      <th>slovenija</th>\n",
       "      <th>koronavirusa</th>\n",
       "      <th>pacijent</th>\n",
       "      <th>čovjek</th>\n",
       "      <th>dati</th>\n",
       "      <th>najviše</th>\n",
       "      <th>covid 19</th>\n",
       "      <th>znanstvenik</th>\n",
       "      <th>testiranje</th>\n",
       "      <th>...</th>\n",
       "      <th>preminuti</th>\n",
       "      <th>brojka</th>\n",
       "      <th>zaraziti</th>\n",
       "      <th>dobar</th>\n",
       "      <th>nov slučaj</th>\n",
       "      <th>plenković</th>\n",
       "      <th>oboljeo</th>\n",
       "      <th>borba</th>\n",
       "      <th>žarište</th>\n",
       "      <th>ministar</th>\n",
       "    </tr>\n",
       "  </thead>\n",
       "  <tbody>\n",
       "    <tr>\n",
       "      <th>DOMAIN_DIREKTNO.HR</th>\n",
       "      <td>14.0</td>\n",
       "      <td>4.0</td>\n",
       "      <td>0.0</td>\n",
       "      <td>0.0</td>\n",
       "      <td>2.0</td>\n",
       "      <td>8.0</td>\n",
       "      <td>0.0</td>\n",
       "      <td>0.0</td>\n",
       "      <td>2.0</td>\n",
       "      <td>0.0</td>\n",
       "      <td>...</td>\n",
       "      <td>2.0</td>\n",
       "      <td>2.0</td>\n",
       "      <td>5.0</td>\n",
       "      <td>0.0</td>\n",
       "      <td>5.0</td>\n",
       "      <td>1.0</td>\n",
       "      <td>1.0</td>\n",
       "      <td>1.0</td>\n",
       "      <td>2.0</td>\n",
       "      <td>0.0</td>\n",
       "    </tr>\n",
       "    <tr>\n",
       "      <th>DOMAIN_INDEX.HR</th>\n",
       "      <td>0.0</td>\n",
       "      <td>0.0</td>\n",
       "      <td>5.0</td>\n",
       "      <td>0.0</td>\n",
       "      <td>0.0</td>\n",
       "      <td>0.0</td>\n",
       "      <td>0.0</td>\n",
       "      <td>0.0</td>\n",
       "      <td>0.0</td>\n",
       "      <td>1.0</td>\n",
       "      <td>...</td>\n",
       "      <td>0.0</td>\n",
       "      <td>1.0</td>\n",
       "      <td>0.0</td>\n",
       "      <td>2.0</td>\n",
       "      <td>2.0</td>\n",
       "      <td>1.0</td>\n",
       "      <td>0.0</td>\n",
       "      <td>1.0</td>\n",
       "      <td>1.0</td>\n",
       "      <td>2.0</td>\n",
       "    </tr>\n",
       "    <tr>\n",
       "      <th>DOMAIN_JUTARNJI.HR</th>\n",
       "      <td>0.0</td>\n",
       "      <td>1.0</td>\n",
       "      <td>2.0</td>\n",
       "      <td>4.0</td>\n",
       "      <td>3.0</td>\n",
       "      <td>4.0</td>\n",
       "      <td>1.0</td>\n",
       "      <td>0.0</td>\n",
       "      <td>2.0</td>\n",
       "      <td>0.0</td>\n",
       "      <td>...</td>\n",
       "      <td>1.0</td>\n",
       "      <td>0.0</td>\n",
       "      <td>0.0</td>\n",
       "      <td>1.0</td>\n",
       "      <td>0.0</td>\n",
       "      <td>1.0</td>\n",
       "      <td>0.0</td>\n",
       "      <td>2.0</td>\n",
       "      <td>0.0</td>\n",
       "      <td>1.0</td>\n",
       "    </tr>\n",
       "    <tr>\n",
       "      <th>DOMAIN_NET.HR</th>\n",
       "      <td>0.0</td>\n",
       "      <td>2.0</td>\n",
       "      <td>1.0</td>\n",
       "      <td>2.0</td>\n",
       "      <td>5.0</td>\n",
       "      <td>2.0</td>\n",
       "      <td>0.0</td>\n",
       "      <td>0.0</td>\n",
       "      <td>3.0</td>\n",
       "      <td>2.0</td>\n",
       "      <td>...</td>\n",
       "      <td>2.0</td>\n",
       "      <td>0.0</td>\n",
       "      <td>1.0</td>\n",
       "      <td>1.0</td>\n",
       "      <td>0.0</td>\n",
       "      <td>1.0</td>\n",
       "      <td>1.0</td>\n",
       "      <td>1.0</td>\n",
       "      <td>1.0</td>\n",
       "      <td>1.0</td>\n",
       "    </tr>\n",
       "    <tr>\n",
       "      <th>DOMAIN_DNEVNIK.HR</th>\n",
       "      <td>0.0</td>\n",
       "      <td>0.0</td>\n",
       "      <td>1.0</td>\n",
       "      <td>1.0</td>\n",
       "      <td>3.0</td>\n",
       "      <td>2.0</td>\n",
       "      <td>2.0</td>\n",
       "      <td>0.0</td>\n",
       "      <td>1.0</td>\n",
       "      <td>2.0</td>\n",
       "      <td>...</td>\n",
       "      <td>3.0</td>\n",
       "      <td>1.0</td>\n",
       "      <td>2.0</td>\n",
       "      <td>1.0</td>\n",
       "      <td>2.0</td>\n",
       "      <td>1.0</td>\n",
       "      <td>2.0</td>\n",
       "      <td>0.0</td>\n",
       "      <td>1.0</td>\n",
       "      <td>1.0</td>\n",
       "    </tr>\n",
       "    <tr>\n",
       "      <th>DOMAIN_VECERNJI.HR</th>\n",
       "      <td>0.0</td>\n",
       "      <td>0.0</td>\n",
       "      <td>3.0</td>\n",
       "      <td>0.0</td>\n",
       "      <td>1.0</td>\n",
       "      <td>1.0</td>\n",
       "      <td>0.0</td>\n",
       "      <td>0.0</td>\n",
       "      <td>0.0</td>\n",
       "      <td>0.0</td>\n",
       "      <td>...</td>\n",
       "      <td>1.0</td>\n",
       "      <td>0.0</td>\n",
       "      <td>0.0</td>\n",
       "      <td>0.0</td>\n",
       "      <td>0.0</td>\n",
       "      <td>0.0</td>\n",
       "      <td>0.0</td>\n",
       "      <td>1.0</td>\n",
       "      <td>1.0</td>\n",
       "      <td>0.0</td>\n",
       "    </tr>\n",
       "    <tr>\n",
       "      <th>DOMAIN_SLOBODNADALMACIJA.HR</th>\n",
       "      <td>0.0</td>\n",
       "      <td>0.0</td>\n",
       "      <td>0.0</td>\n",
       "      <td>0.0</td>\n",
       "      <td>1.0</td>\n",
       "      <td>2.0</td>\n",
       "      <td>1.0</td>\n",
       "      <td>0.0</td>\n",
       "      <td>0.0</td>\n",
       "      <td>0.0</td>\n",
       "      <td>...</td>\n",
       "      <td>0.0</td>\n",
       "      <td>0.0</td>\n",
       "      <td>1.0</td>\n",
       "      <td>0.0</td>\n",
       "      <td>0.0</td>\n",
       "      <td>1.0</td>\n",
       "      <td>0.0</td>\n",
       "      <td>0.0</td>\n",
       "      <td>0.0</td>\n",
       "      <td>0.0</td>\n",
       "    </tr>\n",
       "    <tr>\n",
       "      <th>DOMAIN_24SATA.HR</th>\n",
       "      <td>1.0</td>\n",
       "      <td>0.0</td>\n",
       "      <td>0.0</td>\n",
       "      <td>0.0</td>\n",
       "      <td>1.0</td>\n",
       "      <td>0.0</td>\n",
       "      <td>1.0</td>\n",
       "      <td>0.0</td>\n",
       "      <td>0.0</td>\n",
       "      <td>0.0</td>\n",
       "      <td>...</td>\n",
       "      <td>0.0</td>\n",
       "      <td>0.0</td>\n",
       "      <td>0.0</td>\n",
       "      <td>0.0</td>\n",
       "      <td>0.0</td>\n",
       "      <td>0.0</td>\n",
       "      <td>1.0</td>\n",
       "      <td>0.0</td>\n",
       "      <td>0.0</td>\n",
       "      <td>0.0</td>\n",
       "    </tr>\n",
       "    <tr>\n",
       "      <th>DOMAIN_NOVILIST.HR</th>\n",
       "      <td>0.0</td>\n",
       "      <td>0.0</td>\n",
       "      <td>0.0</td>\n",
       "      <td>1.0</td>\n",
       "      <td>1.0</td>\n",
       "      <td>0.0</td>\n",
       "      <td>0.0</td>\n",
       "      <td>0.0</td>\n",
       "      <td>0.0</td>\n",
       "      <td>0.0</td>\n",
       "      <td>...</td>\n",
       "      <td>0.0</td>\n",
       "      <td>0.0</td>\n",
       "      <td>0.0</td>\n",
       "      <td>0.0</td>\n",
       "      <td>0.0</td>\n",
       "      <td>0.0</td>\n",
       "      <td>0.0</td>\n",
       "      <td>1.0</td>\n",
       "      <td>0.0</td>\n",
       "      <td>0.0</td>\n",
       "    </tr>\n",
       "    <tr>\n",
       "      <th>DOMAIN_RTL.HR</th>\n",
       "      <td>0.0</td>\n",
       "      <td>0.0</td>\n",
       "      <td>2.0</td>\n",
       "      <td>0.0</td>\n",
       "      <td>0.0</td>\n",
       "      <td>0.0</td>\n",
       "      <td>0.0</td>\n",
       "      <td>0.0</td>\n",
       "      <td>0.0</td>\n",
       "      <td>0.0</td>\n",
       "      <td>...</td>\n",
       "      <td>1.0</td>\n",
       "      <td>1.0</td>\n",
       "      <td>1.0</td>\n",
       "      <td>0.0</td>\n",
       "      <td>0.0</td>\n",
       "      <td>0.0</td>\n",
       "      <td>0.0</td>\n",
       "      <td>0.0</td>\n",
       "      <td>0.0</td>\n",
       "      <td>0.0</td>\n",
       "    </tr>\n",
       "  </tbody>\n",
       "</table>\n",
       "<p>10 rows × 78 columns</p>\n",
       "</div>"
      ],
      "text/plain": [
       "                             korona virus  slovenija  koronavirusa  pacijent  \\\n",
       "DOMAIN_DIREKTNO.HR                   14.0        4.0           0.0       0.0   \n",
       "DOMAIN_INDEX.HR                       0.0        0.0           5.0       0.0   \n",
       "DOMAIN_JUTARNJI.HR                    0.0        1.0           2.0       4.0   \n",
       "DOMAIN_NET.HR                         0.0        2.0           1.0       2.0   \n",
       "DOMAIN_DNEVNIK.HR                     0.0        0.0           1.0       1.0   \n",
       "DOMAIN_VECERNJI.HR                    0.0        0.0           3.0       0.0   \n",
       "DOMAIN_SLOBODNADALMACIJA.HR           0.0        0.0           0.0       0.0   \n",
       "DOMAIN_24SATA.HR                      1.0        0.0           0.0       0.0   \n",
       "DOMAIN_NOVILIST.HR                    0.0        0.0           0.0       1.0   \n",
       "DOMAIN_RTL.HR                         0.0        0.0           2.0       0.0   \n",
       "\n",
       "                             čovjek  dati  najviše  covid 19  znanstvenik  \\\n",
       "DOMAIN_DIREKTNO.HR              2.0   8.0      0.0       0.0          2.0   \n",
       "DOMAIN_INDEX.HR                 0.0   0.0      0.0       0.0          0.0   \n",
       "DOMAIN_JUTARNJI.HR              3.0   4.0      1.0       0.0          2.0   \n",
       "DOMAIN_NET.HR                   5.0   2.0      0.0       0.0          3.0   \n",
       "DOMAIN_DNEVNIK.HR               3.0   2.0      2.0       0.0          1.0   \n",
       "DOMAIN_VECERNJI.HR              1.0   1.0      0.0       0.0          0.0   \n",
       "DOMAIN_SLOBODNADALMACIJA.HR     1.0   2.0      1.0       0.0          0.0   \n",
       "DOMAIN_24SATA.HR                1.0   0.0      1.0       0.0          0.0   \n",
       "DOMAIN_NOVILIST.HR              1.0   0.0      0.0       0.0          0.0   \n",
       "DOMAIN_RTL.HR                   0.0   0.0      0.0       0.0          0.0   \n",
       "\n",
       "                             testiranje  ...  preminuti  brojka  zaraziti  \\\n",
       "DOMAIN_DIREKTNO.HR                  0.0  ...        2.0     2.0       5.0   \n",
       "DOMAIN_INDEX.HR                     1.0  ...        0.0     1.0       0.0   \n",
       "DOMAIN_JUTARNJI.HR                  0.0  ...        1.0     0.0       0.0   \n",
       "DOMAIN_NET.HR                       2.0  ...        2.0     0.0       1.0   \n",
       "DOMAIN_DNEVNIK.HR                   2.0  ...        3.0     1.0       2.0   \n",
       "DOMAIN_VECERNJI.HR                  0.0  ...        1.0     0.0       0.0   \n",
       "DOMAIN_SLOBODNADALMACIJA.HR         0.0  ...        0.0     0.0       1.0   \n",
       "DOMAIN_24SATA.HR                    0.0  ...        0.0     0.0       0.0   \n",
       "DOMAIN_NOVILIST.HR                  0.0  ...        0.0     0.0       0.0   \n",
       "DOMAIN_RTL.HR                       0.0  ...        1.0     1.0       1.0   \n",
       "\n",
       "                             dobar  nov slučaj  plenković  oboljeo  borba  \\\n",
       "DOMAIN_DIREKTNO.HR             0.0         5.0        1.0      1.0    1.0   \n",
       "DOMAIN_INDEX.HR                2.0         2.0        1.0      0.0    1.0   \n",
       "DOMAIN_JUTARNJI.HR             1.0         0.0        1.0      0.0    2.0   \n",
       "DOMAIN_NET.HR                  1.0         0.0        1.0      1.0    1.0   \n",
       "DOMAIN_DNEVNIK.HR              1.0         2.0        1.0      2.0    0.0   \n",
       "DOMAIN_VECERNJI.HR             0.0         0.0        0.0      0.0    1.0   \n",
       "DOMAIN_SLOBODNADALMACIJA.HR    0.0         0.0        1.0      0.0    0.0   \n",
       "DOMAIN_24SATA.HR               0.0         0.0        0.0      1.0    0.0   \n",
       "DOMAIN_NOVILIST.HR             0.0         0.0        0.0      0.0    1.0   \n",
       "DOMAIN_RTL.HR                  0.0         0.0        0.0      0.0    0.0   \n",
       "\n",
       "                             žarište  ministar  \n",
       "DOMAIN_DIREKTNO.HR               2.0       0.0  \n",
       "DOMAIN_INDEX.HR                  1.0       2.0  \n",
       "DOMAIN_JUTARNJI.HR               0.0       1.0  \n",
       "DOMAIN_NET.HR                    1.0       1.0  \n",
       "DOMAIN_DNEVNIK.HR                1.0       1.0  \n",
       "DOMAIN_VECERNJI.HR               1.0       0.0  \n",
       "DOMAIN_SLOBODNADALMACIJA.HR      0.0       0.0  \n",
       "DOMAIN_24SATA.HR                 0.0       0.0  \n",
       "DOMAIN_NOVILIST.HR               0.0       0.0  \n",
       "DOMAIN_RTL.HR                    0.0       0.0  \n",
       "\n",
       "[10 rows x 78 columns]"
      ]
     },
     "execution_count": 81,
     "metadata": {},
     "output_type": "execute_result"
    }
   ],
   "source": [
    "DomainTerms=pd.DataFrame(cross, index=[\"DOMAIN_\"+c.upper() for c in classes], columns=VOC)\n",
    "DomainTerms"
   ]
  },
  {
   "cell_type": "code",
   "execution_count": 82,
   "metadata": {},
   "outputs": [
    {
     "data": {
      "text/plain": [
       "(10, 78)"
      ]
     },
     "execution_count": 82,
     "metadata": {},
     "output_type": "execute_result"
    }
   ],
   "source": [
    "DomainTerms.shape"
   ]
  },
  {
   "cell_type": "markdown",
   "metadata": {},
   "source": [
    "## lets apply Corresponding Analysis"
   ]
  },
  {
   "cell_type": "code",
   "execution_count": 83,
   "metadata": {},
   "outputs": [
    {
     "data": {
      "text/plain": [
       "(10, 51)"
      ]
     },
     "execution_count": 83,
     "metadata": {},
     "output_type": "execute_result"
    }
   ],
   "source": [
    "# some zero-freq checking\n",
    "DomainTerms2=DomainTerms.iloc[:,list(DomainTerms.sum(axis=0)>5)]\n",
    "DomainTerms2.shape"
   ]
  },
  {
   "cell_type": "code",
   "execution_count": 84,
   "metadata": {},
   "outputs": [],
   "source": [
    "DomainTerms2.T.to_csv(\"DomainTerms.csv\")"
   ]
  },
  {
   "cell_type": "code",
   "execution_count": 85,
   "metadata": {},
   "outputs": [],
   "source": [
    "DomainTerms2.columns=[e.replace(\" \",\"_\") for e  in DomainTerms2.columns]"
   ]
  },
  {
   "cell_type": "code",
   "execution_count": 86,
   "metadata": {},
   "outputs": [],
   "source": [
    "import ca"
   ]
  },
  {
   "cell_type": "code",
   "execution_count": 87,
   "metadata": {},
   "outputs": [],
   "source": [
    "res=ca.CA(DomainTerms2)"
   ]
  },
  {
   "cell_type": "code",
   "execution_count": 90,
   "metadata": {},
   "outputs": [
    {
     "data": {
      "image/png": "[encoded data removed]",
      "text/plain": [
       "<Figure size 720x720 with 1 Axes>"
      ]
     },
     "metadata": {
      "needs_background": "light"
     },
     "output_type": "display_data"
    }
   ],
   "source": [
    "import matplotlib.pyplot as plt\n",
    "#fig=plt.figure(400)\n",
    "fig=plt.figure(figsize=(10,10))\n",
    "res.plot()"
   ]
  },
  {
   "cell_type": "code",
   "execution_count": null,
   "metadata": {},
   "outputs": [],
   "source": []
  },
  {
   "cell_type": "code",
   "execution_count": 91,
   "metadata": {},
   "outputs": [],
   "source": [
    "fig.savefig('MARCH10.png')   # save the figure to file\n",
    "plt.close(fig)"
   ]
  },
  {
   "cell_type": "code",
   "execution_count": null,
   "metadata": {},
   "outputs": [],
   "source": []
  },
  {
   "cell_type": "code",
   "execution_count": null,
   "metadata": {},
   "outputs": [],
   "source": []
  },
  {
   "cell_type": "code",
   "execution_count": null,
   "metadata": {},
   "outputs": [],
   "source": []
  },
  {
   "cell_type": "code",
   "execution_count": null,
   "metadata": {},
   "outputs": [],
   "source": []
  },
  {
   "cell_type": "markdown",
   "metadata": {},
   "source": [
    "# WORD2VEC"
   ]
  },
  {
   "cell_type": "code",
   "execution_count": 34,
   "metadata": {},
   "outputs": [],
   "source": [
    "corpus= [(e[0].upper() +\" \"+ e[1]).split() for e in zip(d2.domain, d2.title_lemmatized)]"
   ]
  },
  {
   "cell_type": "code",
   "execution_count": 92,
   "metadata": {},
   "outputs": [],
   "source": [
    "def filt(liste):\n",
    "    return [e for e in liste.split() if len(e)>3]"
   ]
  },
  {
   "cell_type": "code",
   "execution_count": 93,
   "metadata": {},
   "outputs": [],
   "source": [
    "titles=  [d.upper()+\" \"+t for d, t in zip(d2.domain, d2.title_lemmatized)]"
   ]
  },
  {
   "cell_type": "code",
   "execution_count": 94,
   "metadata": {},
   "outputs": [
    {
     "data": {
      "text/plain": [
       "'DNEVNIK.HR u srbija preminuti 12 čovjek , na respirator do sad najviše oboljeo - 154 pacijent : \" ovo je najgori dan \"'"
      ]
     },
     "execution_count": 94,
     "metadata": {},
     "output_type": "execute_result"
    }
   ],
   "source": [
    "titles[0]"
   ]
  },
  {
   "cell_type": "code",
   "execution_count": null,
   "metadata": {},
   "outputs": [],
   "source": []
  },
  {
   "cell_type": "code",
   "execution_count": 95,
   "metadata": {},
   "outputs": [],
   "source": [
    "lemma=[filt(t) for t in list(titles)]"
   ]
  },
  {
   "cell_type": "code",
   "execution_count": 96,
   "metadata": {},
   "outputs": [],
   "source": [
    "import re\n",
    "import numpy as np\n",
    "import pandas as pd\n",
    "from pprint import pprint\n",
    "\n",
    "# Gensim\n",
    "import gensim\n",
    "import gensim.corpora as corpora\n",
    "from gensim.utils import simple_preprocess\n",
    "from gensim.models import CoherenceModel\n",
    "\n",
    "\n",
    "# Plotting tools\n",
    "import pyLDAvis\n",
    "import pyLDAvis.gensim  # don't skip this\n",
    "import matplotlib.pyplot as plt\n",
    "%matplotlib inline\n",
    "\n",
    "# Enable logging for gensim - optional\n",
    "import logging\n",
    "logging.basicConfig(format='%(asctime)s : %(levelname)s : %(message)s', level=logging.ERROR)\n",
    "\n",
    "import warnings\n",
    "warnings.filterwarnings(\"ignore\",category=DeprecationWarning)"
   ]
  },
  {
   "cell_type": "code",
   "execution_count": 97,
   "metadata": {},
   "outputs": [],
   "source": [
    "# Create Dictionary\n",
    "id2word = corpora.Dictionary(lemma)"
   ]
  },
  {
   "cell_type": "code",
   "execution_count": 98,
   "metadata": {},
   "outputs": [],
   "source": [
    "texts = lemma"
   ]
  },
  {
   "cell_type": "code",
   "execution_count": 99,
   "metadata": {},
   "outputs": [
    {
     "name": "stdout",
     "output_type": "stream",
     "text": [
      "[[(0, 1), (1, 1), (2, 1), (3, 1), (4, 1), (5, 1), (6, 1), (7, 1), (8, 1)]]\n"
     ]
    }
   ],
   "source": [
    "corpus = [id2word.doc2bow(text) for text in texts]\n",
    "# View\n",
    "print(corpus[:1])"
   ]
  },
  {
   "cell_type": "code",
   "execution_count": 100,
   "metadata": {},
   "outputs": [
    {
     "data": {
      "text/plain": [
       "'čovjek'"
      ]
     },
     "execution_count": 100,
     "metadata": {},
     "output_type": "execute_result"
    }
   ],
   "source": [
    "id2word[8]"
   ]
  },
  {
   "cell_type": "code",
   "execution_count": 101,
   "metadata": {},
   "outputs": [
    {
     "data": {
      "text/plain": [
       "[[('DNEVNIK.HR', 1),\n",
       "  ('najgori', 1),\n",
       "  ('najviše', 1),\n",
       "  ('oboljeo', 1),\n",
       "  ('pacijent', 1),\n",
       "  ('preminuti', 1),\n",
       "  ('respirator', 1),\n",
       "  ('srbija', 1),\n",
       "  ('čovjek', 1)]]"
      ]
     },
     "execution_count": 101,
     "metadata": {},
     "output_type": "execute_result"
    }
   ],
   "source": [
    "[[(id2word[id], freq) for id, freq in cp] for cp in corpus[:1]]"
   ]
  },
  {
   "cell_type": "code",
   "execution_count": 102,
   "metadata": {},
   "outputs": [],
   "source": [
    "# Build LDA model\n",
    "lda_model = gensim.models.ldamodel.LdaModel(corpus=corpus,\n",
    "                                           id2word=id2word,\n",
    "                                           num_topics=20, \n",
    "                                           random_state=100,\n",
    "                                           update_every=1,\n",
    "                                           chunksize=100,\n",
    "                                           passes=10,\n",
    "                                           alpha='auto',\n",
    "                                           per_word_topics=True)"
   ]
  },
  {
   "cell_type": "code",
   "execution_count": 103,
   "metadata": {},
   "outputs": [
    {
     "name": "stdout",
     "output_type": "stream",
     "text": [
      "[(0,\n",
      "  '0.110*\"slučaj\" + 0.097*\"DIREKTNO.HR\" + 0.065*\"slovenija\" + 0.062*\"brojati\" '\n",
      "  '+ 0.055*\"korona\" + 0.054*\"zaraziti\" + 0.045*\"rekordan\" + 0.036*\"virus\" + '\n",
      "  '0.035*\"brojka\" + 0.025*\"zaraza\"'),\n",
      " (1,\n",
      "  '0.050*\"koje\" + 0.046*\"imati\" + 0.036*\"zemlja\" + 0.034*\"JUTARNJI.HR\" + '\n",
      "  '0.022*\"epidemiolog\" + 0.022*\"pitanje\" + 0.022*\"zaražen\" + 0.022*\"svijet\" + '\n",
      "  '0.022*\"hrvat\" + 0.022*\"najveća\"'),\n",
      " (2,\n",
      "  '0.048*\"umro\" + 0.046*\"preminuti\" + 0.039*\"respirator\" + 0.035*\"JUTARNJI.HR\" '\n",
      "  '+ 0.034*\"podatak\" + 0.033*\"zaražen\" + 0.032*\"osoba\" + 0.031*\"mjeriti\" + '\n",
      "  '0.029*\"više\" + 0.024*\"snaga\"'),\n",
      " (3,\n",
      "  '0.110*\"virus\" + 0.097*\"korona\" + 0.073*\"DIREKTNO.HR\" + 0.049*\"slučaj\" + '\n",
      "  '0.036*\"hrvatski\" + 0.030*\"velik\" + 0.029*\"mjeriti\" + 0.029*\"otkriti\" + '\n",
      "  '0.024*\"INDEX.HR\" + 0.022*\"protiv\"'),\n",
      " (4,\n",
      "  '0.065*\"ukupan\" + 0.048*\"hrvatski\" + 0.041*\"oboljeo\" + 0.041*\"život\" + '\n",
      "  '0.025*\"poziv\" + 0.017*\"testiranje\" + 0.013*\"DNEVNIK.HR\" + 0.011*\"24SATA.HR\" '\n",
      "  '+ 0.009*\"virus\" + 0.009*\"boriti\"'),\n",
      " (5,\n",
      "  '0.105*\"dati\" + 0.044*\"DIREKTNO.HR\" + 0.039*\"beroš\" + '\n",
      "  '0.025*\"SLOBODNADALMACIJA.HR\" + 0.025*\"nestati\" + 0.025*\"kontakt\" + '\n",
      "  '0.024*\"nakon\" + 0.024*\"imati\" + 0.017*\"virus\" + 0.017*\"cjepivo\"'),\n",
      " (6,\n",
      "  '0.053*\"čovjek\" + 0.028*\"SLOBODNADALMACIJA.HR\" + 0.027*\"najviše\" + '\n",
      "  '0.027*\"širenje\" + 0.027*\"kriza\" + 0.021*\"velik\" + 0.018*\"epidemija\" + '\n",
      "  '0.017*\"24SATA.HR\" + 0.017*\"stožer\" + 0.017*\"nacionalan\"'),\n",
      " (7,\n",
      "  '0.076*\"novozaraženih\" + 0.057*\"splitski\" + 0.057*\"dalmatinski\" + '\n",
      "  '0.055*\"DNEVNIK.HR\" + 0.050*\"koronavirusom\" + 0.042*\"županija\" + '\n",
      "  '0.040*\"osoba\" + 0.039*\"preminuti\" + 0.036*\"zagrepsti\" + 0.011*\"brojati\"'),\n",
      " (8,\n",
      "  '0.088*\"zadnji\" + 0.062*\"hrvatski\" + 0.059*\"samo\" + 0.037*\"DNEVNIK.HR\" + '\n",
      "  '0.030*\"ispod\" + 0.021*\"zabilježen\" + 0.016*\"slučaj\" + 0.012*\"brojati\" + '\n",
      "  '0.011*\"dobar\" + 0.011*\"aktivan\"'),\n",
      " (9,\n",
      "  '0.038*\"INDEX.HR\" + 0.038*\"koji\" + 0.036*\"dobar\" + 0.026*\"nisu\" + '\n",
      "  '0.026*\"krenuti\" + 0.026*\"liječnik\" + 0.024*\"koronavirusa\" + 0.016*\"imati\" + '\n",
      "  '0.016*\"cjepivo\" + 0.016*\"foto\"'),\n",
      " (10,\n",
      "  '0.050*\"vlada\" + 0.050*\"nije\" + 0.044*\"trebati\" + 0.036*\"upozoriti\" + '\n",
      "  '0.033*\"virus\" + 0.028*\"SLOBODNADALMACIJA.HR\" + 0.022*\"božinović\" + '\n",
      "  '0.022*\"zabranjen\" + 0.021*\"hrvatski\" + 0.021*\"covid\"'),\n",
      " (11,\n",
      "  '0.016*\"kako\" + 0.016*\"ugrožen\" + 0.016*\"24SATA.HR\" + 0.016*\"prepoznat\" + '\n",
      "  '0.016*\"koronavirus\" + 0.016*\"simptom\" + 0.001*\"plaćati\" + 0.001*\"poslati\" + '\n",
      "  '0.001*\"bolnica\" + 0.001*\"naše\"'),\n",
      " (12,\n",
      "  '0.056*\"karantena\" + 0.045*\"testiranje\" + 0.045*\"covid\" + 0.044*\"žarište\" + '\n",
      "  '0.032*\"zašto\" + 0.032*\"kuna\" + 0.027*\"NET.HR\" + 0.026*\"JUTARNJI.HR\" + '\n",
      "  '0.016*\"INDEX.HR\" + 0.014*\"stožer\"'),\n",
      " (13,\n",
      "  '0.040*\"RTL.HR\" + 0.032*\"mjera\" + 0.031*\"protiv\" + 0.031*\"potpun\" + '\n",
      "  '0.027*\"capak\" + 0.025*\"NET.HR\" + 0.023*\"zatvarati\" + 0.023*\"zona\" + '\n",
      "  '0.018*\"boriti\" + 0.016*\"DIREKTNO.HR\"'),\n",
      " (14,\n",
      "  '0.043*\"beroš\" + 0.043*\"zaražen\" + 0.039*\"INDEX.HR\" + 0.029*\"DNEVNIK.HR\" + '\n",
      "  '0.027*\"biti\" + 0.025*\"ministar\" + 0.022*\"VECERNJI.HR\" + 0.022*\"država\" + '\n",
      "  '0.019*\"zdravstven\" + 0.017*\"imati\"'),\n",
      " (15,\n",
      "  '0.046*\"važan\" + 0.028*\"građanin\" + 0.028*\"zavjera\" + 0.028*\"imunolog\" + '\n",
      "  '0.023*\"DIREKTNO.HR\" + 0.020*\"posto\" + 0.011*\"SLOBODNADALMACIJA.HR\" + '\n",
      "  '0.011*\"dati\" + 0.010*\"plenković\" + 0.010*\"talijanski\"'),\n",
      " (16,\n",
      "  '0.030*\"morati\" + 0.018*\"jasan\" + 0.018*\"studi\" + 0.018*\"preko\" + '\n",
      "  '0.018*\"širenje\" + 0.018*\"karantena\" + 0.018*\"janša\" + 0.018*\"ožujak\" + '\n",
      "  '0.018*\"težak\" + 0.018*\"bitak\"'),\n",
      " (17,\n",
      "  '0.038*\"imati\" + 0.034*\"možda\" + 0.029*\"kroničan\" + 0.028*\"pozitivan\" + '\n",
      "  '0.028*\"zaražen\" + 0.027*\"NOVILIST.HR\" + 0.026*\"pacijent\" + 0.022*\"NET.HR\" + '\n",
      "  '0.017*\"preminuo\" + 0.017*\"24SATA.HR\"'),\n",
      " (18,\n",
      "  '0.051*\"INDEX.HR\" + 0.042*\"pandemija\" + 0.042*\"star\" + 0.028*\"znanstvenik\" + '\n",
      "  '0.026*\"NET.HR\" + 0.024*\"ostati\" + 0.021*\"VECERNJI.HR\" + 0.020*\"mjeriti\" + '\n",
      "  '0.018*\"čovjek\" + 0.018*\"plenković\"'),\n",
      " (19,\n",
      "  '0.041*\"borba\" + 0.037*\"koronavirusa\" + 0.036*\"milijun\" + 0.032*\"cjepivo\" + '\n",
      "  '0.028*\"INDEX.HR\" + 0.026*\"protiv\" + 0.026*\"koronom\" + 0.025*\"moći\" + '\n",
      "  '0.023*\"cijepljenje\" + 0.019*\"zbog\"')]\n"
     ]
    }
   ],
   "source": [
    "pprint(lda_model.print_topics())"
   ]
  },
  {
   "cell_type": "code",
   "execution_count": 104,
   "metadata": {},
   "outputs": [],
   "source": [
    "doc_lda = lda_model[corpus]"
   ]
  },
  {
   "cell_type": "code",
   "execution_count": null,
   "metadata": {},
   "outputs": [],
   "source": []
  },
  {
   "cell_type": "code",
   "execution_count": 105,
   "metadata": {},
   "outputs": [
    {
     "name": "stdout",
     "output_type": "stream",
     "text": [
      "\n",
      "Perplexity:  -10.281763705126039\n",
      "\n",
      "Coherence Score:  0.4100349342641957\n"
     ]
    }
   ],
   "source": [
    "# Compute Perplexity\n",
    "print('\\nPerplexity: ', lda_model.log_perplexity(corpus))  # a measure of how good the model is. lower the better.\n",
    "\n",
    "# Compute Coherence Score\n",
    "coherence_model_lda = CoherenceModel(model=lda_model, texts=texts, dictionary=id2word, coherence='c_v')\n",
    "coherence_lda = coherence_model_lda.get_coherence()\n",
    "print('\\nCoherence Score: ', coherence_lda)"
   ]
  },
  {
   "cell_type": "code",
   "execution_count": 106,
   "metadata": {},
   "outputs": [
    {
     "data": {
      "text/html": [
       "\n",
       "<link rel=\"stylesheet\" type=\"text/css\" href=\"https://cdn.jsdelivr.net/gh/bmabey/pyLDAvis@3.2.2/pyLDAvis/js/ldavis.v1.0.0.css\">\n",
       "\n",
       "\n",
       "<div id=\"ldavis_el109881400145811860005228961292\"></div>\n",
       "<script type=\"text/javascript\">\n",
       "\n",
       "var ldavis_el109881400145811860005228961292_data = {\"mdsDat\": {\"x\": [0.1695856529978921, -0.029146934635978526, 0.08846838613133577, -0.02092722069716258, 0.10058726235779891, 0.06122302019296722, 0.010547013858225731, -0.2422460946644927, 0.03219032342936627, 0.010162887576981456, -0.17570616833667335, 0.01855486362559224, 0.046504378593711586, -0.04287486771169434, 0.04085773282013382, 0.01997361890649978, -0.014599988831819151, -0.03661818926275579, -0.036150483058531004, -0.00038519329139770754], \"y\": [-0.17581081776143165, 0.03498195246661436, -0.08636894676674474, -0.09357178982177815, 0.1488808569883963, -0.04851898059155444, -0.044168185078903924, -0.04516962713116911, 0.06694493135588551, 0.055178115414759664, -0.0587389918454863, -0.07498846905031958, 0.05153626974102427, 0.014770928936317705, 0.02541609319947571, 0.10429818193839605, 0.05651413195967076, 0.01716604591166964, 0.028536242077335825, 0.023112058057842264], \"topics\": [1, 2, 3, 4, 5, 6, 7, 8, 9, 10, 11, 12, 13, 14, 15, 16, 17, 18, 19, 20], \"cluster\": [1, 1, 1, 1, 1, 1, 1, 1, 1, 1, 1, 1, 1, 1, 1, 1, 1, 1, 1, 1], \"Freq\": [13.362371480142535, 7.205290996285976, 7.098066512227559, 6.673315753005552, 6.547038456103955, 6.010358017394666, 5.50297467635272, 5.391121815240292, 5.343267800608196, 4.899796583456741, 4.890630348073688, 4.875209083600728, 4.229044711162486, 3.7502441194265588, 3.6405657187416076, 3.158500842120077, 2.7262654509058275, 2.3171764556805243, 1.866555518743131, 0.5122056607271811]}, \"tinfo\": {\"Term\": [\"DIREKTNO.HR\", \"slu\\u010daj\", \"korona\", \"virus\", \"dati\", \"DNEVNIK.HR\", \"hrvatski\", \"INDEX.HR\", \"imati\", \"bero\\u0161\", \"zara\\u017een\", \"novozara\\u017eenih\", \"preminuti\", \"slovenija\", \"brojati\", \"zaraziti\", \"\\u010dovjek\", \"osoba\", \"karantena\", \"JUTARNJI.HR\", \"protiv\", \"zadnji\", \"umro\", \"SLOBODNADALMACIJA.HR\", \"mjeriti\", \"\\u017eari\\u0161te\", \"samo\", \"covid\", \"ukupan\", \"koji\", \"ministar\", \"zdravstven\", \"objasniti\", \"odobren\", \"simptom\", \"objaviti\", \"gorjeti\", \"unato\\u010d\", \"kazniti\", \"kojima\", \"europa\", \"poslati\", \"bolnica\", \"zapravo\", \"panika\", \"kr\\u0161enje\", \"pozvati\", \"dr\\u017eava\", \"mrtav\", \"mali\", \"italija\", \"nastavljati\", \"bero\\u0161\", \"biti\", \"samoizolacija\", \"isprazniti\", \"pobjeda\", \"polica\", \"premijerov\", \"probuditi\", \"bolest\", \"zara\\u017een\", \"covid-19\", \"DNEVNIK.HR\", \"VECERNJI.HR\", \"INDEX.HR\", \"koronavirus\", \"epidemija\", \"imati\", \"\\u010dovjek\", \"JUTARNJI.HR\", \"lije\\u010dnik\", \"koji\", \"\\u017eari\\u0161te\", \"dati\", \"nakon\", \"potpun\", \"zatvarati\", \"RTL.HR\", \"capak\", \"doktor\", \"ni\\u0161ta\", \"\\u0161kola\", \"oglasiti\", \"bolni\\u010dki\", \"predlagati\", \"boriti\", \"zona\", \"javan\", \"mjera\", \"jedna\", \"covida-19\", \"mazak\", \"kafi\\u0107\", \"frizer\", \"izgledati\", \"kori\\u0161tenje\", \"odlazak\", \"ecdc\", \"karta\", \"naran\\u010dast\", \"ovoj\", \"zelen\", \"djeca\", \"kazati\", \"rizik\", \"europski\", \"sustav\", \"protiv\", \"otkriti\", \"sto\\u017eer\", \"NET.HR\", \"mo\\u0107i\", \"zaraziti\", \"osoba\", \"VECERNJI.HR\", \"DIREKTNO.HR\", \"JUTARNJI.HR\", \"milijun\", \"borba\", \"cijepljenje\", \"cijepiti\", \"sredina\", \"neki\", \"razviti\", \"pratiti\", \"koronom\", \"zbog\", \"raditi\", \"istok\", \"model\", \"onome\", \"pokazan\", \"sli\\u010dan\", \"ugledan\", \"kolika\", \"ovisiti\", \"uspjeh\", \"2021\", \"eti\\u010dar\", \"kritizirati\", \"nepravedan\", \"o\\u010dekivati\", \"raspodjela\", \"ra\\u0161iren\", \"kretanje\", \"predvi\\u0111ati\", \"super\\u017eari\\u0161ta\", \"koronavirusa\", \"cjepivo\", \"sustav\", \"mo\\u0107i\", \"protiv\", \"covid-19\", \"INDEX.HR\", \"koji\", \"24SATA.HR\", \"biti\", \"hrvatski\", \"zara\\u017een\", \"VECERNJI.HR\", \"dati\", \"NET.HR\", \"JUTARNJI.HR\", \"\\u010dovjek\", \"znanstvenik\", \"nakon\", \"nestati\", \"kontakt\", \"odgovoran\", \"ne\\u0107emo\", \"dati\", \"deset\", \"situacija\", \"desetogodi\\u0161nji\", \"iako\", \"skra\\u0107en\", \"stvoren\", \"broj\", \"razgovarati\", \"razgovor\", \"svi\\u0111ati\", \"bundesliga\", \"kretati\", \"napokon\", \"nogomet\", \"ovoga\", \"razvijati\", \"alarm\", \"krajnji\", \"pona\\u0161anje\", \"pre\\u0161u\\u0107ivati\", \"upozoravati\", \"\\u010de\\u0161\\u0107i\", \"zna\\u010diti\", \"ozbiljan\", \"pustiti\", \"nakon\", \"bero\\u0161\", \"SLOBODNADALMACIJA.HR\", \"DIREKTNO.HR\", \"imati\", \"\\u0111iki\\u0107\", \"cjepivo\", \"\\u010dovjek\", \"virus\", \"NET.HR\", \"zara\\u017een\", \"siguran\", \"za\\u0161to\", \"oxfordski\", \"posti\", \"tako\", \"mo\\u0107i\", \"kako\", \"popu\\u0161tanje\", \"respirator\", \"podatak\", \"snaga\", \"ovaj\", \"umro\", \"lijek\", \"zabraniti\", \"grad\", \"jedan\", \"preminuti\", \"epidemiolo\\u0161ki\", \"epidemilog\", \"ispra\\u0107ati\", \"nikad\", \"nitko\", \"patrijarah\", \"prihvatljiv\", \"1945\", \"donesen\", \"dvije\", \"blokirati\", \"ohrabrivati\", \"oporavljati\", \"beskoristan\", \"lockdown\", \"sri\\u0107a\", \"vi\\u0161e\", \"osoba\", \"pacijent\", \"godina\", \"mjeriti\", \"JUTARNJI.HR\", \"mo\\u017eda\", \"novozara\\u017eenih\", \"koronavirus\", \"zara\\u017een\", \"imati\", \"NET.HR\", \"mo\\u0107i\", \"DNEVNIK.HR\", \"\\u017eupanija\", \"nije\", \"biti\", \"nisu\", \"krenuti\", \"dobar\", \"sprije\\u010diti\", \"foto\", \"ne\\u0107e\", \"1970-ih\", \"kriv\", \"kulturan\", \"po\\u010dinjati\", \"pri\\u010dati\", \"revolucija\", \"su\\u0111en\", \"adekvatan\", \"lockdowna\", \"struka\", \"totalan\", \"proboj\", \"stara\\u010dki\", \"\\u0161ostar\", \"grupa\", \"obolijevanje\", \"rizi\\u010dan\", \"spadati\", \"trudnica\", \"delicija\", \"kineski\", \"nosilac\", \"prodavati\", \"\\u0161takor\", \"koji\", \"lije\\u010dnik\", \"\\u0107emo\", \"koronavirusa\", \"policijski\", \"INDEX.HR\", \"cjepivo\", \"imati\", \"JUTARNJI.HR\", \"biti\", \"virus\", \"vi\\u0161e\", \"brojka\", \"zagrepsti\", \"za\\u0161to\", \"tako\", \"kino\", \"kriza\", \"nacionalan\", \"prvog\", \"\\u010dekati\", \"prva\", \"mlad\", \"\\u0161irenje\", \"najvi\\u0161e\", \"ispijanje\", \"kava\", \"najodogovorniji\", \"prozivati\", \"zadarski\", \"zadranin\", \"depresija\", \"dospjeti\", \"kasan\", \"po\\u010delo\", \"promijeniti\", \"sije\\u010danj\", \"zauvijek\", \"aktivnost\", \"istu\", \"lizati\", \"neprihvatljiv\", \"ovakva\", \"performans\", \"pula\", \"sklop\", \"\\u017elica\", \"\\u010dovjek\", \"velik\", \"svijet\", \"SLOBODNADALMACIJA.HR\", \"sto\\u017eer\", \"24SATA.HR\", \"epidemija\", \"zaraziti\", \"zbog\", \"DNEVNIK.HR\", \"NET.HR\", \"koji\", \"bero\\u0161\", \"srbija\", \"INDEX.HR\", \"lije\\u010dnik\", \"situacija\", \"slovenija\", \"rekordan\", \"zaraza\", \"brojati\", \"brojka\", \"slova\\u010dki\", \"slu\\u010daj\", \"srbija\", \"zaraziti\", \"drugim\", \"najve\\u0107im\", \"DIREKTNO.HR\", \"korona\", \"dnevan\", \"porasti\", \"epidemija\", \"po\\u010detak\", \"virus\", \"oboljeo\", \"potvr\\u0111en\", \"free\", \"koprivni\\u010dki\", \"\\u0161est\", \"bojati\", \"istra\", \"plav\", \"pobjediti\", \"pulski\", \"rotor\", \"svijetao\", \"kroni\\u010dan\", \"preminuo\", \"\\u0161iriti\", \"najbolj\", \"ozdraviti\", \"pozitivan\", \"danas\", \"mo\\u017eda\", \"posti\", \"NOVILIST.HR\", \"enigma\", \"oboljeti\", \"opet\", \"oporaviti\", \"ponovan\", \"zaintrigirati\", \"46-godi\\u0161njaku\", \"alemko\", \"desni\", \"stanje\", \"pelje\\u0161ac\", \"stanovnik\", \"dokaz\", \"putnik\", \"zraka\", \"vrao\", \"sestara\", \"nedostajati\", \"obaviti\", \"pacijent\", \"posto\", \"bolest\", \"imati\", \"24SATA.HR\", \"zara\\u017een\", \"vi\\u0161e\", \"NET.HR\", \"hrvatski\", \"koji\", \"virus\", \"JUTARNJI.HR\", \"koronom\", \"korona\", \"samo\", \"zemlja\", \"epidemiolog\", \"covida-19\", \"kino\", \"morati\", \"jasan\", \"jan\\u0161a\", \"te\\u017eak\", \"bitak\", \"o\\u017eujak\", \"koronavirusu\", \"studi\", \"preko\", \"oslabjeti\", \"faza\", \"gleda\", \"janez\", \"osjetljiv\", \"prognoza\", \"voditi\", \"zaustaviti\", \"kninski\", \"poslije\", \"\\u0161ibenski\", \"trajan\", \"o\\u0161te\\u0107enje\", \"plu\\u0107\", \"posljedica\", \"stvar\", \"inteligentan\", \"lauc\", \"re\\u0107i\", \"druk\\u010diji\", \"produ\\u017eivati\", \"vrijeme\", \"\\u0161irenje\", \"karantena\", \"mjeriti\", \"mo\\u0107i\", \"italija\", \"JUTARNJI.HR\", \"dati\", \"koronavirusa\", \"vi\\u0161e\", \"covid\", \"DIREKTNO.HR\", \"\\u010dovjek\", \"korona\", \"otkriti\", \"velik\", \"virus\", \"strog\", \"australski\", \"mo\\u0107an\", \"oru\\u017eje\", \"prekretnica\", \"detaljan\", \"preboljeti\", \"opisati\", \"uspjeti\", \"srijemski\", \"svadba\", \"uveden\", \"vukovarski\", \"general\", \"kako\", \"slu\\u010daj\", \"DIREKTNO.HR\", \"mjeriti\", \"znanstvenik\", \"hrvatski\", \"protiv\", \"INDEX.HR\", \"smrtan\", \"video\", \"sedati\", \"sarajevo\", \"imati\", \"pandemija\", \"star\", \"ostati\", \"na\\u010din\", \"vratiti\", \"neodgovornost\", \"pove\\u0107ati\", \"ukidanje\", \"film\", \"na\\u0161eg\", \"neugodan\", \"po\\u0161iljka\", \"pu\\u0107i\", \"lueti\\u0107\", \"neko\", \"balkan\", \"beograd\", \"klub\", \"no\\u0107an\", \"zamah\", \"ograni\\u010denja\", \"prometan\", \"sastanak\", \"redukcija\", \"daljnji\", \"eventualan\", \"\\u0111iki\\u0107\", \"europski\", \"znanstvenik\", \"plenkovi\\u0107\", \"INDEX.HR\", \"mjeriti\", \"NET.HR\", \"VECERNJI.HR\", \"samo\", \"\\u010dovjek\", \"dr\\u017eava\", \"hrvatski\", \"DIREKTNO.HR\", \"bero\\u0161\", \"lije\\u010dnik\", \"\\u017eivot\", \"sti\\u0107i\", \"kuna\", \"testiranje\", \"karantena\", \"\\u017eari\\u0161te\", \"covid\", \"za\\u0161to\", \"ure\\u0111aj\", \"2000\", \"400.000\", \"bandi\\u0107\", \"nabavljati\", \"1377\", \"dubrovnik\", \"nultog\", \"tra\\u017eenje\", \"nastavati\", \"online\", \"organizirati\", \"drug\", \"na\\u0161e\", \"zaustavljati\", \"\\u010detveroslojne\", \"1000\", \"arktika\", \"gradili\\u0161te\", \"\\u010di\\u010din\", \"\\u0161ain\", \"dnevan\", \"godina\", \"testirati\", \"sto\\u017eer\", \"NET.HR\", \"JUTARNJI.HR\", \"INDEX.HR\", \"koronavirus\", \"samoizolacija\", \"pacijent\", \"NOVILIST.HR\", \"\\u010dovjek\", \"koronavirusa\", \"trebati\", \"vlada\", \"upozoriti\", \"bo\\u017einovi\\u0107\", \"nije\", \"trebati\", \"zabranjen\", \"fotelja\", \"ministarski\", \"predstaviti\", \"sjediti\", \"uskoro\", \"ustroj\", \"centar\", \"dramati\\u010dan\", \"hospitaliziran\", \"pripremati\", \"zna\\u010dajan\", \"gora\", \"izlazak\", \"dopu\\u0161ten\", \"gotov\", \"pojasniti\", \"uvesti\", \"porasti\", \"vikend\", \"policijski\", \"covid\", \"SLOBODNADALMACIJA.HR\", \"mjesec\", \"plenkovi\\u0107\", \"virus\", \"hrvatski\", \"dati\", \"NET.HR\", \"koje\", \"pitanje\", \"hrvat\", \"najve\\u0107a\", \"zemlja\", \"epidemiolog\", \"neka\", \"podsje\\u0107ati\", \"putin\", \"davan\", \"brinuti\", \"klju\\u010dan\", \"koroni\", \"odgovor\", \"scenariti\", \"austrija\", \"konvoj\", \"luksemburg\", \"kroz\", \"lije\\u010diti\", \"svijet\", \"uvesti\", \"autobus\", \"manje\", \"\\u010de\\u0161ki\", \"po\\u010detak\", \"koronu\", \"vrijeme\", \"jedan\", \"sti\\u0107i\", \"imati\", \"JUTARNJI.HR\", \"epidemija\", \"zara\\u017een\", \"mjeriti\", \"nego\", \"dalmatinski\", \"splitski\", \"koronavirusom\", \"novozara\\u017eenih\", \"zagrepsti\", \"\\u017eupanija\", \"obvezan\", \"osoba\", \"prijevoz\", \"jednoj\", \"preminuti\", \"DNEVNIK.HR\", \"javan\", \"deset\", \"mazak\", \"rekordan\", \"brojati\", \"umro\", \"koronavirusa\", \"manja\", \"upola\", \"bliz\", \"baranjski\", \"objavljivati\", \"osje\\u010dki\", \"sedati\", \"ju\\u010der\", \"\\u010detvero\", \"zagreb\", \"1096\", \"biti\", \"karantena\", \"JUTARNJI.HR\", \"mjeriti\", \"pozitivan\", \"italija\", \"ukupan\", \"poziv\", \"\\u017eivot\", \"oboljeo\", \"barilovi\\u0107\", \"dje\\u010dak\", \"karlovac\", \"napuniti\", \"pobijediti\", \"pored\", \"ipak\", \"istarski\", \"ugostitelj\", \"smanjenje\", \"dostatan\", \"prostor\", \"klinika\", \"kolona\", \"prona\\u0107i\", \"testiranje\", \"siguran\", \"koronu\", \"mlad\", \"danas\", \"hrvatski\", \"korone\", \"boriti\", \"covid-19\", \"pacijent\", \"24SATA.HR\", \"DNEVNIK.HR\", \"virus\", \"JUTARNJI.HR\", \"umro\", \"va\\u017ean\", \"zavjera\", \"imunolog\", \"gra\\u0111anin\", \"demantirati\", \"istra\\u017eivanje\", \"izravan\", \"smrt\", \"talijanski\", \"teorija\", \"uzrok\", \"\\u017ertava\", \"bend\", \"koalicija\", \"nadrilije\\u010dnik\", \"restart\", \"slu\\u0161ati\", \"stru\\u010dnjak\", \"imunitet\", \"kolektivan\", \"postizanje\", \"procijepljenost\", \"\\u010di\\u010din\", \"\\u0161ain\", \"posto\", \"plenkovi\\u0107\", \"trebati\", \"koronavirus\", \"SLOBODNADALMACIJA.HR\", \"direktan\", \"DIREKTNO.HR\", \"dati\", \"zadnji\", \"ispod\", \"zabilje\\u017een\", \"samo\", \"aktivan\", \"novooboljela\", \"vijest\", \"hrvatski\", \"DNEVNIK.HR\", \"dobar\", \"brojati\", \"gdje\", \"odraditi\", \"otkrivati\", \"pogrije\\u0161iti\", \"talijan\", \"tridesetak\", \"zemalja\", \"bliz\", \"kolari\\u0107\", \"kontrola\", \"onda\", \"grani\\u010diti\", \"izlije\\u010diti\", \"kojom\", \"prvi\", \"budemo\", \"free\", \"postati\", \"1798\", \"slu\\u010daj\", \"prepoznat\", \"ugro\\u017een\", \"kako\", \"simptom\", \"24SATA.HR\", \"koronavirus\", \"gimnazijalac\", \"maturalac\", \"ravnateljica\", \"svemu\", \"kisik\", \"koncentrator\", \"kr\\u010dki\", \"bakar\", \"inspekcija\", \"maska\", \"neodgovaraju\\u0107i\", \"pomo\\u0107nica\", \"uvoz\", \"britanski\", \"johnson\", \"osim\", \"amfilohije\", \"ljubljenje\", \"vlast\", \"hvar\", \"izoliran\", \"procesija\", \"11.000\", \"450.000\", \"DNEVNIK.HR\", \"najgori\", \"najvi\\u0161e\", \"oboljeo\", \"pacijent\", \"preminuti\", \"respirator\", \"srbija\", \"\\u010dovjek\", \"DIREKTNO.HR\", \"autobus\", \"dokaz\", \"korona\", \"putnik\", \"virus\", \"zaraziti\", \"zraka\", \"\\u0161iriti\", \"koronu\", \"kroz\", \"lije\\u010diti\", \"\\u0107emo\", \"alarm\", \"bero\\u0161\"], \"Freq\": [27.0, 17.0, 16.0, 22.0, 20.0, 16.0, 16.0, 27.0, 20.0, 18.0, 24.0, 7.0, 9.0, 7.0, 8.0, 9.0, 16.0, 8.0, 7.0, 21.0, 11.0, 3.0, 7.0, 10.0, 11.0, 6.0, 5.0, 7.0, 4.0, 11.0, 6.367310961633201, 4.974317059993278, 3.581335719015898, 3.581325090762976, 3.6769614922725458, 2.9327219462242673, 2.1885101785643077, 2.188503173579427, 2.18847032261585, 2.188449066110006, 2.1884374716522728, 2.188372735929929, 2.1883575182041546, 2.188310898822019, 2.18818819081101, 2.1881691082659906, 2.188234810193145, 5.662061161429515, 3.581454562207663, 1.5398375880548014, 3.1073612918691738, 2.1884741874350944, 11.139262221171139, 7.016065800327253, 3.3892116895581825, 0.7955363860620148, 0.7955363860620148, 0.7955363860620148, 0.7955363860620148, 0.7955363860620148, 2.4636444866113836, 11.117257872803222, 2.9327613190703192, 7.531238475965533, 5.795759269062617, 10.04294054057365, 3.5820024003355546, 3.478775976932415, 4.429360637950536, 4.041405492726129, 4.1385895127918735, 2.932793928482694, 2.586310467711384, 2.222925186179559, 2.2049825212862904, 2.188502448925819, 4.371693544246416, 3.1475865601584707, 5.59606076750858, 3.801763500719732, 1.923399993420151, 1.9233230157665164, 1.9233008732942358, 1.9232948818017364, 1.9232750838265207, 1.9232322316301655, 2.5771467187699826, 3.1475339392243447, 1.9234029891664008, 4.446815398204281, 1.9233391667462976, 1.9234151024012367, 1.9234170561487909, 1.3533399605561953, 0.6991990991997675, 0.6991990991997675, 0.6991990991997675, 0.6991990991997675, 0.6991987084502567, 0.6991987084502567, 0.6991987084502567, 0.6991987084502567, 0.6991987084502567, 0.6991987084502567, 0.6991987084502567, 0.6991987084502567, 1.9233471119863512, 1.923371598955697, 4.37771785970481, 1.9234148419015629, 1.9233758972003163, 3.4764955324100857, 1.9234109344064545, 1.7327355931055186, 1.6682306638567375, 1.9821850010794801, 2.248174705597286, 1.9988031870258176, 4.958319861931935, 5.62333292724189, 3.1161697718749215, 1.904260575584901, 1.904250310661457, 1.9041475331154754, 1.9040945404481966, 1.9040710594358188, 3.513276290616007, 2.6556498921978378, 1.90427443323155, 0.6922319854040737, 0.6922319854040737, 0.6922319854040737, 0.6922319854040737, 0.6922319854040737, 0.6922319854040737, 0.6922314080021299, 0.6922314080021299, 0.6922314080021299, 0.6922308947559578, 0.6922308947559578, 0.6922308947559578, 0.6922308947559578, 0.6922308947559578, 0.6922308947559578, 0.6922308947559578, 0.6922304456655571, 0.6922304456655571, 0.6922304456655571, 5.058998744315407, 4.411520221232241, 1.9042251615990196, 3.3907456958283477, 3.634998522682463, 1.9042682742774837, 3.83429072822942, 2.1466362045642216, 1.7804046508690972, 1.904255699746265, 2.184722406641032, 2.223967005328481, 1.64918659474782, 1.3948872306961209, 1.3243205012351877, 1.0215295105231883, 0.7787982661023098, 0.7503229193786636, 0.7489095677319881, 3.185432285879883, 3.185292351210287, 1.946551329480021, 1.9465004222122888, 13.574816205491674, 1.9465221362127434, 1.369600928002858, 0.7076041453787729, 0.7076041453787729, 0.7076041453787729, 0.7076041453787729, 0.707604085062105, 0.707604085062105, 0.707604085062105, 0.707604085062105, 0.707604085062105, 0.707604085062105, 0.707604085062105, 0.707604024745437, 0.707604024745437, 0.707604024745437, 0.7076037231620974, 0.7076037231620974, 0.7076037231620974, 0.7076037231620974, 0.7076037231620974, 0.7076037231620974, 0.7076014311287161, 0.7076028184120785, 0.7076024565120709, 3.076014231256128, 5.001629404031231, 3.1854622029471757, 5.679727721159032, 3.0597528575823993, 1.093414524554848, 2.1466361930016826, 2.0498375916420875, 2.1479474773624645, 1.8729870705067848, 1.9773677182917597, 0.8032903264317486, 0.7076041453787729, 0.7076041453787729, 0.7076041453787729, 0.7076041453787729, 0.707604085062105, 0.707604085062105, 0.707604085062105, 4.8980239267953545, 4.26545640624837, 3.0710413076099132, 3.0709911269449917, 6.049850553094249, 1.8766125986496025, 1.8765992250289985, 1.8765091602035144, 1.8766186345314682, 5.7999603098355434, 1.3204189849574017, 0.6821930618627151, 0.6821930618627151, 0.6821930618627151, 0.6821930618627151, 0.6821930618627151, 0.6821930618627151, 0.6821928251614654, 0.6821928251614654, 0.6821928251614654, 0.6821922925836538, 0.6821922925836538, 0.6821922925836538, 0.6821872626820992, 0.6821872626820992, 0.6821872626820992, 3.7081667474197606, 4.1296850428634695, 2.501928421362317, 0.6821915233045925, 3.8973069048573423, 4.436900068159912, 1.8766465652789244, 2.004984799321714, 2.178604929223598, 4.2518191004522246, 2.7046374779349023, 2.4401879775127444, 1.5980535734382884, 0.9868324816866283, 0.7687733490755795, 0.7586391625986358, 0.7640371937717457, 3.0333372592923173, 3.0332742428328503, 4.212846318275528, 1.8534696583845547, 1.8534740043472764, 1.8533838256207982, 0.6738144120802884, 0.6738144120802884, 0.6738144120802884, 0.6738144120802884, 0.6738144120802884, 0.6738144120802884, 0.6738144120802884, 0.6738139774840162, 0.6738139774840162, 0.6738139774840162, 0.6738139774840162, 0.6738136515368119, 0.6738136515368119, 0.6738136515368119, 0.6738125107215975, 0.6738125107215975, 0.6738125107215975, 0.6738125107215975, 0.6738125107215975, 0.673801971761997, 0.673801971761997, 0.673801971761997, 0.673801971761997, 0.673801971761997, 4.4851008913708785, 3.032679497834365, 1.4569767230124877, 2.768133576116895, 1.2947224864226654, 4.487638064407895, 1.8535609236017134, 1.8535909107444943, 1.6353743640798242, 1.30419820624325, 0.8053658888026625, 0.6748378319767498, 0.6739494628718697, 0.6739273527865224, 0.6738144120802884, 0.6738144120802884, 0.6738144120802884, 2.8884574737907727, 1.7651332523601058, 1.7651312628178244, 1.7650648121056292, 1.765063220471804, 1.7651330534058776, 2.88859395639127, 2.8886514541631994, 0.6416722001590426, 0.6416722001590426, 0.6416722001590426, 0.6416722001590426, 0.6416722001590426, 0.6416722001590426, 0.6416717525120293, 0.6416717525120293, 0.6416717525120293, 0.6416717525120293, 0.6416717525120293, 0.6416717525120293, 0.6416717525120293, 0.6416715535578013, 0.6416715535578013, 0.6416715535578013, 0.6416715535578013, 0.6416715535578013, 0.6416715535578013, 0.6416715535578013, 0.6416715535578013, 0.6416715535578013, 5.629366910824253, 2.2129073974043156, 1.7651233046486994, 2.9447465987844446, 1.7651332523601058, 1.7651730432057318, 1.9052509455594286, 1.5221190187769278, 1.068572515234869, 1.2304600785075155, 1.2652805501292528, 0.8761964102266734, 0.9156255570659273, 0.6999806110911198, 0.7598645902943153, 0.6416782682630006, 0.6416737917928677, 6.7723371288243275, 4.671303431603896, 2.6498666205227703, 6.483942382194304, 3.6803591639091175, 1.6191312188948237, 11.504459202931576, 2.1163768416188673, 5.644821158636631, 0.5886305380031901, 0.5886305380031901, 10.199877744663729, 5.745871627275606, 0.5886305380031901, 0.5886295634516588, 2.5213737553139994, 0.5886305380031901, 3.816127446119634, 0.5886295634516588, 0.038034952482614896, 0.03803045127272972, 0.038027670755391985, 0.0380288280353354, 0.038014754902128765, 0.038014754902128765, 0.038014754902128765, 0.038014754902128765, 0.038014754902128765, 0.038014754902128765, 0.038014754902128765, 2.9818781038184334, 1.7747624852606663, 1.774753019431112, 1.7746713042086346, 1.774630736367688, 2.9043288122456223, 1.7747362127541486, 3.5079108656389764, 1.7747190197167952, 2.7737283755267095, 0.6451594057436146, 0.6451594057436146, 0.6451594057436146, 0.6451594057436146, 0.6451594057436146, 0.6451594057436146, 0.6451592125634197, 0.6451592125634197, 0.6451592125634197, 0.6451592125634197, 0.6451575222367136, 0.6451470905061846, 0.6451383973974103, 0.6451383973974103, 0.6451383973974103, 0.6451305253044648, 0.6451396530686777, 0.6451337610727308, 0.6451336161875845, 2.7311211312619483, 1.2487087633889677, 1.5515980194941204, 3.9651822961366583, 1.7747568830350118, 2.8865790295702376, 1.613518260572065, 2.2890647661012853, 1.529623192774273, 1.3336389872615737, 1.608991758833332, 1.2487090531592602, 0.878675673733543, 0.7885619905741171, 0.654557380754271, 0.6453920429934223, 0.6451594057436146, 0.6451594057436146, 0.6451594057436146, 2.848800919419565, 1.7408588045718472, 1.7407755454995897, 1.740748264867403, 1.740736041727008, 1.7407502134839878, 1.7406742174371825, 1.7408584502779227, 1.7408270952656044, 1.2248749645859527, 0.6328410036845077, 0.6328410036845077, 0.6328410036845077, 0.6328410036845077, 0.6328410036845077, 0.6328410036845077, 0.6328410036845077, 0.6328407379640644, 0.6328407379640644, 0.6328407379640644, 0.6328399408027342, 0.6328398965159936, 0.6328398965159936, 0.6328398965159936, 0.6328342720999423, 0.6328274962286361, 0.6328320134761735, 0.632829533418702, 0.6328262119131598, 0.6328127487440288, 1.2248847076688765, 1.7408162893009071, 1.7408081405406437, 1.449001478371832, 1.3084970109691838, 1.0098964085041535, 1.3839066127559783, 1.2437074581427683, 1.064851204853845, 0.7909958186781355, 0.7085200460008846, 0.6807768388091824, 0.6606527224638601, 9.240078100561503, 2.727134696438896, 2.871168833893457, 10.413489147566604, 1.666488661178604, 0.6058040801247706, 0.6058040801247706, 0.6058040801247706, 0.6058040801247706, 0.6058036822897455, 0.6058036822897455, 0.6058036380858538, 0.6058036380858538, 0.6058030192313704, 0.6058030192313704, 0.6058030192313704, 0.6058030192313704, 0.6058036380858538, 1.1725602104981103, 4.661526347590463, 6.930201265583459, 2.727180491670673, 1.6129441335596195, 3.41276534683345, 2.098977415555541, 2.235012416772307, 0.03917063212729275, 0.03914874291268315, 0.039139504299322746, 0.03913331851723125, 0.9282499868141257, 3.9309548173726867, 3.9309519972442515, 2.3176064004638826, 1.7294233169811288, 1.729318972229025, 0.6286993399377968, 0.6286993399377968, 0.6286993399377968, 0.6286991196152628, 0.6286991196152628, 0.6286991196152628, 0.6286991196152628, 0.6286991196152628, 0.6286988992927288, 0.6286988992927288, 0.628698634905688, 0.628698634905688, 0.628698634905688, 0.628698634905688, 0.628698634905688, 0.6286985467766745, 0.6286985467766745, 0.6286944047130352, 0.6286939640679672, 0.6286925980682564, 0.6286924658747359, 1.386694518310361, 1.7294615649730318, 2.6889209022444014, 1.7294702016163648, 4.837906359566309, 1.9216824004092767, 2.4517519785171302, 1.997135817984318, 1.1859609489343101, 1.7294760181312625, 1.1859591863540382, 0.8230417051184663, 0.718612877935529, 0.6296646610882789, 0.6293148770332953, 0.6286993399377968, 0.6286991196152628, 2.641115422636948, 3.6686630874392763, 4.627337850131554, 3.6429357817733266, 3.668128255000046, 2.6411206211226355, 0.5867009417606776, 0.5867008270881992, 0.5867008270881992, 0.5867008270881992, 0.5867008270881992, 0.5867007124157207, 0.5867007124157207, 0.5867007124157207, 0.5867007124157207, 0.5866997185875746, 0.5866997185875746, 0.5866997185875746, 0.5866947112226848, 0.5866947112226848, 0.5866947112226848, 0.5866947112226848, 0.586692264876479, 0.586692264876479, 0.586692264876479, 0.5866997185875746, 0.5866997185875746, 0.5867009417606776, 0.5867007124157207, 0.5867008270881992, 1.1355801480074985, 2.2246356838742174, 2.1628180442215243, 1.2792273802073526, 0.8753847014602899, 0.7284464455788439, 0.7405318545251173, 0.7054857281266306, 0.7090050264885456, 0.5867224619624561, 0.5866997185875746, 3.671274834546142, 2.643162792058348, 1.6151920302960916, 3.605517741077634, 3.192538994686675, 1.6151540661855823, 0.587167237469414, 0.587167237469414, 0.587167237469414, 0.587167237469414, 0.587167237469414, 0.587167237469414, 0.5871671018833051, 0.5871671018833051, 0.5871671018833051, 0.5871671018833051, 0.5871671018833051, 0.5871663561597058, 0.5871663561597058, 0.5871612716806197, 0.5871612716806197, 0.5871612716806197, 0.5871671018833051, 0.5871671018833051, 0.5871663561597058, 1.0741471873051123, 1.54522675076375, 2.0475605393712852, 0.5871669662971961, 0.5871671018833051, 2.3741154796353032, 1.5478164454449117, 0.7395970731609163, 0.6599033547244895, 3.5595840428127454, 1.5660566857596043, 1.5660015366433955, 1.5659846891806875, 2.562564098583888, 1.5660664256989825, 0.5693011019123817, 0.5693010361019806, 0.5693008386707769, 0.5693008386707769, 0.5693003779979685, 0.5693003779979685, 0.5693003779979685, 0.5693003779979685, 0.5693003779979685, 0.5692998515147588, 0.5692998515147588, 0.5693004438083696, 0.5692988643587408, 0.5692988643587408, 1.5660298351159132, 0.5693007070499745, 0.5692998515147588, 0.5693011019123817, 0.569300246377166, 0.5693009702915793, 0.5692988643587408, 0.5693009702915793, 0.5693008386707769, 0.5692998515147588, 3.2543717230096845, 2.399688620436934, 1.1753720544268753, 1.566049841477879, 0.5693009044811781, 0.5693005754291721, 3.505927925907003, 3.505927925907003, 3.049804770339456, 4.666094761811517, 2.195745808781259, 2.5900777071491032, 0.48777336659995507, 2.4709276793874313, 0.48777336659995507, 0.4877737091767253, 2.379742421764047, 3.3785462351257607, 0.48777336659995507, 0.487773823368982, 0.48777336659995507, 0.520783493217915, 0.6811448212845665, 0.5218988089895231, 0.487773823368982, 0.03151341227733848, 0.03151341227733848, 0.03150958326822957, 0.03150655360491786, 0.03150655360491786, 0.03150655360491786, 0.03150655360491786, 0.03150281737701755, 0.03150281737701755, 0.03150655360491786, 0.031496601036041114, 0.4878143045239974, 0.08822822058696222, 0.03154340201876559, 0.031518772176389355, 0.03151558906723265, 0.031515103750141486, 3.4236491422446362, 1.3124041998096856, 2.147810183609556, 2.147843104400855, 0.47712122543359303, 0.47712122543359303, 0.47712122543359303, 0.47712122543359303, 0.47712122543359303, 0.47712122543359303, 0.47712048619426745, 0.47712048619426745, 0.47712048619426745, 0.4770970769489572, 0.477096436274875, 0.477092592230382, 0.4770902266645401, 0.4770895367078362, 0.47708884675113233, 0.923232839637474, 0.41257249849118716, 0.47712122543359303, 0.47712122543359303, 0.47712122543359303, 2.5244979600079622, 0.4771200426506721, 0.4771378829597296, 0.4771207818899977, 0.47712122543359303, 0.5624741429441884, 0.6687017498133236, 0.5018190141709588, 0.47712058475951086, 0.47712048619426745, 2.0531193803543935, 1.2545840197295797, 1.254581757802864, 1.254592564786061, 0.4560896251108376, 0.4560896251108376, 0.4560896251108376, 0.4560896251108376, 0.4560896251108376, 0.4560896251108376, 0.4560896251108376, 0.4560896251108376, 0.45608954133577406, 0.45608954133577406, 0.45608954133577406, 0.45608954133577406, 0.45608954133577406, 0.45608954133577406, 0.45608941567317873, 0.45608941567317873, 0.45608941567317873, 0.45608941567317873, 0.45608941567317873, 0.45608941567317873, 0.8827724436421375, 0.4561026521332184, 0.45608941567317873, 0.4560890386853928, 0.5070871923915818, 0.029433541296690565, 1.028708185456792, 0.5056361245159728, 3.1765498788321, 1.091811679785475, 0.768153819343318, 2.124023558092132, 0.39690819198754834, 0.39690819198754834, 0.39690819198754834, 2.2587489181753186, 1.3280876573663385, 0.3970587473196549, 0.43404316065419246, 0.02564321167510655, 0.02564321167510655, 0.02564321167510655, 0.02564321167510655, 0.02564321167510655, 0.02564321167510655, 0.02564321167510655, 0.02561863719498219, 0.02561638915620998, 0.02561638915620998, 0.02561638915620998, 0.02561605173950871, 0.02561605173950871, 0.02561605173950871, 0.02561605173950871, 0.02561638915620998, 0.02561605173950871, 0.02561605173950871, 0.02561197321513211, 0.5694708536010724, 0.1551989946395458, 0.1551989946395458, 0.1551989946395458, 0.15519868908835763, 0.1551989946395458, 0.15519868908835763, 0.010011907821586735, 0.010011907821586735, 0.010011907821586735, 0.010011907821586735, 0.010011907821586735, 0.010011907821586735, 0.010011907821586735, 0.010011907821586735, 0.010011907821586735, 0.010011907821586735, 0.010011907821586735, 0.010011907821586735, 0.010011907821586735, 0.010011907821586735, 0.010011907821586735, 0.010011907821586735, 0.010011907821586735, 0.010011907821586735, 0.010011907821586735, 0.010011907821586735, 0.010011907821586735, 0.010011907821586735, 0.010011907821586735, 0.010011907821586735, 0.010011907821586735, 0.010011907821586735, 0.010011907821586735, 0.010011907821586735, 0.010011907821586735, 0.010011907821586735, 0.010011907821586735, 0.010011907821586735, 0.010011907821586735, 0.010011907821586735, 0.010011907821586735, 0.010011907821586735, 0.010011907821586735, 0.010011907821586735, 0.010011907821586735, 0.010011907821586735, 0.010011907821586735, 0.010011907821586735, 0.010011907821586735, 0.010011907821586735, 0.010011907821586735, 0.010011907821586735, 0.010011907821586735, 0.010011907821586735], \"Total\": [27.0, 17.0, 16.0, 22.0, 20.0, 16.0, 16.0, 27.0, 20.0, 18.0, 24.0, 7.0, 9.0, 7.0, 8.0, 9.0, 16.0, 8.0, 7.0, 21.0, 11.0, 3.0, 7.0, 10.0, 11.0, 6.0, 5.0, 7.0, 4.0, 11.0, 7.071401554776387, 5.6784055600544185, 4.285422506919887, 4.285411878666965, 4.52623505743357, 3.636808733816976, 2.8925969624585592, 2.8925899574736786, 2.8925571065101017, 2.8925358540745645, 2.8925242555465243, 2.8924612745927782, 2.8924468975234863, 2.8923976906517934, 2.8922749919814312, 2.892255910944693, 2.8923490449331117, 7.511548728881125, 4.9331112270037325, 2.2439243719490523, 4.780567209070492, 3.5401306597638484, 18.263623445111325, 12.016854838065763, 6.002355874582638, 1.4996231699562663, 1.4996231699562663, 1.4996231699562663, 1.4996231699562663, 1.4996231699562663, 4.677708971200182, 24.51469028134364, 5.942800190897852, 16.3436004294741, 13.081222192425734, 27.933956170187365, 8.460501807167946, 10.316337076709818, 20.648682946676058, 16.051694057132654, 21.24257337540072, 7.815130465084938, 11.960827453359558, 6.532098868280485, 20.800901443957358, 7.920356620490118, 5.082008593351932, 3.8579063975627594, 6.953937556033648, 5.15024439376623, 2.633703372475968, 2.633626399059399, 2.633604255395526, 2.633598268397136, 2.633578469737374, 2.6335356144602198, 3.7341770762202495, 4.602052890105631, 3.0900128773005053, 7.222326942607969, 3.2256588649739744, 3.2372575643307857, 3.638872768893454, 2.6556585561505135, 1.409502478255584, 1.409502478255584, 1.409502478255584, 1.409502478255584, 1.4095020875060733, 1.4095020875060733, 1.4095020875060733, 1.4095020875060733, 1.4095020875060733, 1.4095020875060733, 1.4095020875060733, 1.4095020875060733, 4.322575156600852, 4.4932426543238275, 11.800305463191675, 5.321771489733882, 5.455148372908228, 18.97334112289375, 9.463487796627303, 9.531100869826554, 8.903670163063518, 13.081222192425734, 27.966631153799458, 21.24257337540072, 5.685436420341855, 6.883566756073608, 3.826922676364208, 2.615013473550364, 2.6150032086269204, 2.6149004378715053, 2.614847448684837, 2.6148239611755195, 5.80537257877631, 4.393579888366121, 3.207042547735515, 1.402984883369537, 1.402984883369537, 1.402984883369537, 1.402984883369537, 1.402984883369537, 1.402984883369537, 1.4029843059675933, 1.4029843059675933, 1.4029843059675933, 1.402983792721421, 1.402983792721421, 1.402983792721421, 1.402983792721421, 1.402983792721421, 1.402983792721421, 1.402983792721421, 1.4029833436310204, 1.4029833436310204, 1.4029833436310204, 11.62987944078264, 11.041199156763813, 4.4932426543238275, 9.463487796627303, 11.800305463191675, 5.942800190897852, 27.933956170187365, 11.960827453359558, 8.38770986546081, 12.016854838065763, 16.16716897168399, 24.51469028134364, 13.081222192425734, 20.800901443957358, 18.97334112289375, 21.24257337540072, 16.051694057132654, 7.201946891562473, 7.920356620490118, 3.895193634083649, 3.8950537041327165, 2.6563126749297554, 2.6562655229230794, 20.800901443957358, 3.11259045120825, 2.6796406444436185, 1.4173654908285078, 1.4173654908285078, 1.4173654908285078, 1.4173654908285078, 1.41736543051184, 1.41736543051184, 1.41736543051184, 1.41736543051184, 1.41736543051184, 1.41736543051184, 1.41736543051184, 1.4173653701951718, 1.4173653701951718, 1.4173653701951718, 1.4173650686118322, 1.4173650686118322, 1.4173650686118322, 1.4173650686118322, 1.4173650686118322, 1.4173650686118322, 1.417362776578451, 1.4173660259490422, 1.417365962480377, 7.920356620490118, 18.263623445111325, 10.660478858335642, 27.966631153799458, 20.648682946676058, 3.149313464235845, 11.041199156763813, 16.051694057132654, 22.14851700349067, 18.97334112289375, 24.51469028134364, 2.486898449551885, 5.251259354065509, 2.0649370397803843, 3.1504968561463267, 2.047710840197798, 9.463487796627303, 3.9503997231048777, 2.0714575255152536, 5.614801520086165, 4.976857040809122, 3.7824419421706645, 3.7823917681318187, 7.698644998568967, 2.588013233210354, 2.5879998595897495, 2.5879097978729257, 3.1205944771825522, 9.65040013350192, 2.632094309855958, 1.3935936964234668, 1.3935936964234668, 1.3935936964234668, 1.3935936964234668, 1.3935936964234668, 1.3935936964234668, 1.393593459722217, 1.393593459722217, 1.393593459722217, 1.3935929271444054, 1.3935929271444054, 1.3935929271444054, 1.3935878972428508, 1.3935878972428508, 1.3935878972428508, 7.921847773842099, 8.903670163063518, 7.06805944322531, 1.9424439836689387, 11.749086047994991, 21.24257337540072, 6.054337742608771, 7.351013338172316, 8.460501807167946, 24.51469028134364, 20.648682946676058, 18.97334112289375, 9.463487796627303, 16.3436004294741, 5.2313196869888205, 5.641217609558052, 12.016854838065763, 3.745278579833489, 3.745215565763032, 5.296241620985503, 2.565422978687895, 2.565430305344501, 2.565325155439825, 1.3857557326214605, 1.3857557326214605, 1.3857557326214605, 1.3857557326214605, 1.3857557326214605, 1.3857557326214605, 1.3857557326214605, 1.3857552980251882, 1.3857552980251882, 1.3857552980251882, 1.3857552980251882, 1.385754972077984, 1.385754972077984, 1.385754972077984, 1.3857538312627695, 1.3857538312627695, 1.3857538312627695, 1.3857538312627695, 1.3857538312627695, 1.385743292303169, 1.385743292303169, 1.385743292303169, 1.385743292303169, 1.385743292303169, 11.960827453359558, 7.815130465084938, 3.9139660731066495, 11.62987944078264, 3.6811096898871223, 27.933956170187365, 11.041199156763813, 20.648682946676058, 21.24257337540072, 12.016854838065763, 22.14851700349067, 7.921847773842099, 5.028276190584764, 3.5501476245872854, 5.251259354065509, 2.047710840197798, 1.989294815495193, 3.60247244568532, 2.479148218508891, 2.479146228286593, 2.479079778793023, 2.47907818807646, 2.925489761360746, 5.302632224518623, 5.73983753654294, 1.355687162609371, 1.355687162609371, 1.355687162609371, 1.355687162609371, 1.355687162609371, 1.355687162609371, 1.3556867149623577, 1.3556867149623577, 1.3556867149623577, 1.3556867149623577, 1.3556867149623577, 1.3556867149623577, 1.3556867149623577, 1.3556865160081297, 1.3556865160081297, 1.3556865160081297, 1.3556865160081297, 1.3556865160081297, 1.3556865160081297, 1.3556865160081297, 1.3556865160081297, 1.3556865160081297, 16.051694057132654, 5.75900976231147, 4.7526548422545085, 10.660478858335642, 5.455148372908228, 8.38770986546081, 10.316337076709818, 9.531100869826554, 4.393579888366121, 16.3436004294741, 18.97334112289375, 11.960827453359558, 18.263623445111325, 3.4924831661452522, 27.933956170187365, 7.815130465084938, 2.6796406444436185, 7.489773755339102, 5.8780566938149175, 3.367303247037544, 8.259495367975319, 5.028276190584764, 2.3365678535930545, 17.398041475974253, 3.4924831661452522, 9.531100869826554, 1.306067164517964, 1.306067164517964, 27.966631153799458, 16.415204634496682, 1.8549192196665154, 1.8553544734772303, 10.316337076709818, 2.486216233513813, 22.14851700349067, 4.023387743562337, 0.7556007701587503, 0.7555272702602274, 0.7554796756873572, 0.755516032341093, 0.7554703094001542, 0.7554703094001542, 0.7554703094001542, 0.7554703094001542, 0.7554703094001542, 0.7554703094001542, 0.7554703094001542, 3.6956907395824046, 2.488552545642954, 2.4885430798134, 2.4884613694538085, 2.488420806045254, 4.210146284151014, 2.9348680156225364, 6.054337742608771, 3.1504968561463267, 5.38535303785424, 1.3589494661259027, 1.3589494661259027, 1.3589494661259027, 1.3589494661259027, 1.3589494661259027, 1.3589494661259027, 1.3589492729457078, 1.3589492729457078, 1.3589492729457078, 1.3589492729457078, 1.3589475826190016, 1.3589371508884727, 1.3589284577796983, 1.3589284577796983, 1.3589284577796983, 1.3589205856867528, 1.358949666626618, 1.3589499695461889, 1.3589499615039524, 7.06805944322531, 3.3647214913767174, 4.677708971200182, 20.648682946676058, 8.38770986546081, 24.51469028134364, 7.921847773842099, 18.97334112289375, 16.16716897168399, 11.960827453359558, 22.14851700349067, 21.24257337540072, 5.80537257877631, 16.415204634496682, 5.242508013930786, 4.546975534374083, 2.8882896652924708, 3.2372575643307857, 1.989294815495193, 3.563385785015964, 2.4554436663984545, 2.4553604103716706, 2.455333130931076, 2.455320911261808, 2.455348233370858, 2.455269763685851, 3.1030158233929797, 3.1094950829307186, 2.601425933877753, 1.3474258655111155, 1.3474258655111155, 1.3474258655111155, 1.3474258655111155, 1.3474258655111155, 1.3474258655111155, 1.3474258655111155, 1.3474255997906721, 1.3474255997906721, 1.3474255997906721, 1.347424802629342, 1.3474247583426013, 1.3474247583426013, 1.3474247583426013, 1.3474262632366607, 1.347412358055244, 1.3474264465419454, 1.347426588851635, 1.3474269603126912, 1.3474193713325622, 3.060185216632941, 5.302632224518623, 7.101643332726212, 11.749086047994991, 9.463487796627303, 4.780567209070492, 21.24257337540072, 20.800901443957358, 11.62987944078264, 7.921847773842099, 7.222684604951377, 27.966631153799458, 16.051694057132654, 16.415204634496682, 5.321771489733882, 5.75900976231147, 22.14851700349067, 3.5629739023283173, 1.3221330319403082, 1.3221330319403082, 1.3221330319403082, 1.3221330319403082, 1.3221326341052833, 1.3221326341052833, 1.3221325899013916, 1.3221325899013916, 1.322131971046908, 1.322131971046908, 1.322131971046908, 1.322131971046908, 1.9762240336556207, 3.9503997231048777, 17.398041475974253, 27.966631153799458, 11.749086047994991, 7.201946891562473, 16.16716897168399, 11.800305463191675, 27.933956170187365, 0.7556287571708306, 0.7556401378663201, 0.7555511811702204, 0.7554839987677933, 20.648682946676058, 4.645806797724764, 4.645803976632067, 3.0324583768062228, 2.444275297333205, 2.444170958842542, 1.3435513162801374, 1.3435513162801374, 1.3435513162801374, 1.3435510959576034, 1.3435510959576034, 1.3435510959576034, 1.3435510959576034, 1.3435510959576034, 1.3435508756350694, 1.3435508756350694, 1.3435506112480287, 1.3435506112480287, 1.3435506112480287, 1.3435506112480287, 1.3435506112480287, 1.343550523119015, 1.343550523119015, 1.3435513518024194, 1.3435514271948805, 1.3435513730496114, 1.343551439810319, 3.149313464235845, 4.322575156600852, 7.201946891562473, 4.7948294451755835, 27.933956170187365, 11.749086047994991, 18.97334112289375, 13.081222192425734, 5.242508013930786, 16.051694057132654, 7.511548728881125, 16.16716897168399, 27.966631153799458, 18.263623445111325, 7.815130465084938, 3.4605820197049435, 3.127208846089953, 3.3586769233472995, 5.278677940769302, 7.101643332726212, 6.532098868280485, 7.222684604951377, 5.251259354065509, 1.3042624384007215, 1.3042623237282434, 1.3042623237282434, 1.3042623237282434, 1.3042623237282434, 1.3042622090557647, 1.3042622090557647, 1.3042622090557647, 1.3042622090557647, 1.3042612152276187, 1.3042612152276187, 1.3042612152276187, 1.304256207862729, 1.304256207862729, 1.304256207862729, 1.304256207862729, 1.304253761516523, 1.304253761516523, 1.304253761516523, 1.7309279908342503, 1.7309279908342503, 1.8549192196665154, 1.9424439836689387, 1.9518338726801199, 5.455148372908228, 18.97334112289375, 21.24257337540072, 27.933956170187365, 8.460501807167946, 6.002355874582638, 7.06805944322531, 5.38535303785424, 16.051694057132654, 11.62987944078264, 5.547543796762916, 4.388806399425806, 3.3606943607122477, 2.332723595175754, 5.641217609558052, 5.547543796762916, 2.9247008499927563, 1.3046988023490766, 1.3046988023490766, 1.3046988023490766, 1.3046988023490766, 1.3046988023490766, 1.3046988023490766, 1.3046986667629679, 1.3046986667629679, 1.3046986667629679, 1.3046986667629679, 1.3046986667629679, 1.3046979210393685, 1.3046979210393685, 1.3046928365602826, 1.3046928365602826, 1.3046928365602826, 1.8372731472805284, 1.8553544734772303, 1.96665290798237, 3.6811096898871223, 7.222684604951377, 10.660478858335642, 3.311141473521086, 4.7948294451755835, 22.14851700349067, 16.16716897168399, 20.800901443957358, 18.97334112289375, 4.278268873225982, 2.2847408424793603, 2.2846856933631514, 2.2846695188279833, 4.546975534374083, 2.8882896652924708, 1.2879855848862127, 1.2879855699206026, 1.2879855165496397, 1.2879855250237715, 1.287984534717725, 1.287984534717725, 1.287984534717725, 1.287984534717725, 1.287984534717725, 1.287984008234515, 1.287984008234515, 1.2879854945490319, 1.2879830210784973, 1.2879830210784973, 4.7526548422545085, 1.8372731472805284, 1.891502082762043, 1.9420772721918522, 2.0321947139011898, 2.486216233513813, 2.883445726159974, 3.060185216632941, 3.1205944771825522, 3.127208846089953, 20.648682946676058, 21.24257337540072, 10.316337076709818, 24.51469028134364, 11.749086047994991, 4.617320528702723, 4.230221827905539, 4.230221858463088, 4.404087911531875, 7.351013338172316, 3.5501476245872854, 5.2313196869888205, 1.2117168923304578, 8.903670163063518, 1.8658089873338715, 1.9559274853236948, 9.65040013350192, 16.3436004294741, 3.0900128773005053, 3.11259045120825, 3.638872768893454, 5.8780566938149175, 8.259495367975319, 7.698644998568967, 11.62987944078264, 0.7554870729684728, 0.7554870729684728, 0.7554881395549982, 0.7554790371894613, 0.7554790371894613, 0.7554790371894613, 0.7555511811702204, 0.7555507541293313, 0.7555537700259355, 0.7556473705546823, 0.7554851480753516, 12.016854838065763, 7.101643332726212, 21.24257337540072, 11.749086047994991, 4.210146284151014, 4.780567209070492, 4.156870436200616, 2.037057915816007, 3.4605820197049435, 4.023387743562337, 1.2017521257382702, 1.2017521257382702, 1.2017521257382702, 1.2017521257382702, 1.2017521257382702, 1.2017521257382702, 1.2017513864989446, 1.2017513864989446, 1.2017513864989446, 1.2017538120074127, 1.2017538880363206, 1.201754798121661, 1.2017553686490678, 1.2017555172348622, 1.201755641930557, 5.278677940769302, 2.486898449551885, 2.883445726159974, 2.925489761360746, 2.9348680156225364, 16.16716897168399, 3.2784051352050825, 3.7341770762202495, 5.942800190897852, 7.06805944322531, 8.38770986546081, 16.3436004294741, 22.14851700349067, 21.24257337540072, 7.698644998568967, 2.7791071273098082, 1.9805717663104863, 1.980569505225553, 2.642534995720356, 1.1820773682964607, 1.1820773682964607, 1.1820773682964607, 1.1820773682964607, 1.1820773682964607, 1.1820773682964607, 1.1820773682964607, 1.1820773682964607, 1.1820772845213972, 1.1820772845213972, 1.1820772845213972, 1.1820772845213972, 1.1820772845213972, 1.1820772845213972, 1.182077158858802, 1.182077158858802, 1.182077158858802, 1.182077158858802, 1.7309279908342503, 1.7309279908342503, 3.3647214913767174, 4.7948294451755835, 5.547543796762916, 8.460501807167946, 10.660478858335642, 0.7554665935318502, 27.966631153799458, 20.800901443957358, 3.9063555007076567, 1.821617301999944, 1.49804394516697, 5.242508013930786, 1.1267138100888672, 1.1267138100888672, 1.1267138100888672, 16.16716897168399, 16.3436004294741, 5.296241620985503, 8.259495367975319, 0.7554836829087208, 0.7554836829087208, 0.7554836829087208, 0.7554836829087208, 0.7554836829087208, 0.7554836829087208, 0.7554836829087208, 0.7554881395549982, 0.7554723831278982, 0.7554723831278982, 0.7554723831278982, 0.7554668629274246, 0.7554668629274246, 0.7554668629274246, 0.7554668629274246, 0.7555339797405094, 0.7555272702602274, 0.7555374882109732, 0.7554795202511774, 17.398041475974253, 0.9005974700701291, 0.9005974700701291, 3.9503997231048777, 4.52623505743357, 8.38770986546081, 8.460501807167946, 0.755448857829687, 0.755448857829687, 0.755448857829687, 0.755448857829687, 0.7554489585076101, 0.7554489585076101, 0.7554489585076101, 0.7554532608960902, 0.7554532608960902, 0.7554532608960902, 0.7554532608960902, 0.7554532608960902, 0.7554532608960902, 0.7554543002802245, 0.7554543002802245, 0.7554543002802245, 0.7554573121217842, 0.7554573121217842, 0.7554573121217842, 0.7554582496624513, 0.7554582496624513, 0.7554582496624513, 0.7554617922859866, 0.7554617922859866, 16.3436004294741, 1.3556683116962558, 5.73983753654294, 4.023387743562337, 7.06805944322531, 9.65040013350192, 5.614801520086165, 3.4924831661452522, 16.051694057132654, 27.966631153799458, 1.891502082762043, 1.3589284577796983, 16.415204634496682, 1.3589284577796983, 22.14851700349067, 9.531100869826554, 1.3589284577796983, 2.4885430798134, 2.883445726159974, 1.2879830210784973, 1.2879830210784973, 3.9139660731066495, 1.4173650686118322, 18.263623445111325], \"Category\": [\"Default\", \"Default\", \"Default\", \"Default\", \"Default\", \"Default\", \"Default\", \"Default\", \"Default\", \"Default\", \"Default\", \"Default\", \"Default\", \"Default\", \"Default\", \"Default\", \"Default\", \"Default\", \"Default\", \"Default\", \"Default\", \"Default\", \"Default\", \"Default\", \"Default\", \"Default\", \"Default\", \"Default\", \"Default\", \"Default\", \"Topic1\", \"Topic1\", \"Topic1\", \"Topic1\", \"Topic1\", \"Topic1\", \"Topic1\", \"Topic1\", \"Topic1\", \"Topic1\", \"Topic1\", \"Topic1\", \"Topic1\", \"Topic1\", \"Topic1\", \"Topic1\", \"Topic1\", \"Topic1\", \"Topic1\", \"Topic1\", \"Topic1\", \"Topic1\", \"Topic1\", \"Topic1\", \"Topic1\", \"Topic1\", \"Topic1\", \"Topic1\", \"Topic1\", \"Topic1\", \"Topic1\", \"Topic1\", \"Topic1\", \"Topic1\", \"Topic1\", \"Topic1\", \"Topic1\", \"Topic1\", \"Topic1\", \"Topic1\", \"Topic1\", \"Topic1\", \"Topic1\", \"Topic1\", \"Topic1\", \"Topic1\", \"Topic2\", \"Topic2\", \"Topic2\", \"Topic2\", \"Topic2\", \"Topic2\", \"Topic2\", \"Topic2\", \"Topic2\", \"Topic2\", \"Topic2\", \"Topic2\", \"Topic2\", \"Topic2\", \"Topic2\", \"Topic2\", \"Topic2\", \"Topic2\", \"Topic2\", \"Topic2\", \"Topic2\", \"Topic2\", \"Topic2\", \"Topic2\", \"Topic2\", \"Topic2\", \"Topic2\", \"Topic2\", \"Topic2\", \"Topic2\", \"Topic2\", \"Topic2\", \"Topic2\", \"Topic2\", \"Topic2\", \"Topic2\", \"Topic2\", \"Topic2\", \"Topic2\", \"Topic2\", \"Topic2\", \"Topic2\", \"Topic3\", \"Topic3\", \"Topic3\", \"Topic3\", \"Topic3\", \"Topic3\", \"Topic3\", \"Topic3\", \"Topic3\", \"Topic3\", \"Topic3\", \"Topic3\", \"Topic3\", \"Topic3\", \"Topic3\", \"Topic3\", \"Topic3\", \"Topic3\", \"Topic3\", \"Topic3\", \"Topic3\", \"Topic3\", \"Topic3\", \"Topic3\", \"Topic3\", \"Topic3\", \"Topic3\", \"Topic3\", \"Topic3\", \"Topic3\", \"Topic3\", \"Topic3\", \"Topic3\", \"Topic3\", \"Topic3\", \"Topic3\", \"Topic3\", \"Topic3\", \"Topic3\", \"Topic3\", \"Topic3\", \"Topic3\", \"Topic3\", \"Topic3\", \"Topic3\", \"Topic3\", \"Topic3\", \"Topic3\", \"Topic3\", \"Topic4\", \"Topic4\", \"Topic4\", \"Topic4\", \"Topic4\", \"Topic4\", \"Topic4\", \"Topic4\", \"Topic4\", \"Topic4\", \"Topic4\", \"Topic4\", \"Topic4\", \"Topic4\", \"Topic4\", \"Topic4\", \"Topic4\", \"Topic4\", \"Topic4\", \"Topic4\", \"Topic4\", \"Topic4\", \"Topic4\", \"Topic4\", \"Topic4\", \"Topic4\", \"Topic4\", \"Topic4\", \"Topic4\", \"Topic4\", \"Topic4\", \"Topic4\", \"Topic4\", \"Topic4\", \"Topic4\", \"Topic4\", \"Topic4\", \"Topic4\", \"Topic4\", \"Topic4\", \"Topic4\", \"Topic4\", \"Topic4\", \"Topic4\", \"Topic4\", \"Topic4\", \"Topic4\", \"Topic4\", \"Topic4\", \"Topic5\", \"Topic5\", \"Topic5\", \"Topic5\", \"Topic5\", \"Topic5\", \"Topic5\", \"Topic5\", \"Topic5\", \"Topic5\", \"Topic5\", \"Topic5\", \"Topic5\", \"Topic5\", \"Topic5\", \"Topic5\", \"Topic5\", \"Topic5\", \"Topic5\", \"Topic5\", \"Topic5\", \"Topic5\", \"Topic5\", \"Topic5\", \"Topic5\", \"Topic5\", \"Topic5\", \"Topic5\", \"Topic5\", \"Topic5\", \"Topic5\", \"Topic5\", \"Topic5\", \"Topic5\", \"Topic5\", \"Topic5\", \"Topic5\", \"Topic5\", \"Topic5\", \"Topic5\", \"Topic5\", \"Topic5\", \"Topic5\", \"Topic6\", \"Topic6\", \"Topic6\", \"Topic6\", \"Topic6\", \"Topic6\", \"Topic6\", \"Topic6\", \"Topic6\", \"Topic6\", \"Topic6\", \"Topic6\", \"Topic6\", \"Topic6\", \"Topic6\", \"Topic6\", \"Topic6\", \"Topic6\", \"Topic6\", \"Topic6\", \"Topic6\", \"Topic6\", \"Topic6\", \"Topic6\", \"Topic6\", \"Topic6\", \"Topic6\", \"Topic6\", \"Topic6\", \"Topic6\", \"Topic6\", \"Topic6\", \"Topic6\", \"Topic6\", \"Topic6\", \"Topic6\", \"Topic6\", \"Topic6\", \"Topic6\", \"Topic6\", \"Topic6\", \"Topic6\", \"Topic6\", \"Topic6\", \"Topic6\", \"Topic6\", \"Topic6\", \"Topic7\", \"Topic7\", \"Topic7\", \"Topic7\", \"Topic7\", \"Topic7\", \"Topic7\", \"Topic7\", \"Topic7\", \"Topic7\", \"Topic7\", \"Topic7\", \"Topic7\", \"Topic7\", \"Topic7\", \"Topic7\", \"Topic7\", \"Topic7\", \"Topic7\", \"Topic7\", \"Topic7\", \"Topic7\", \"Topic7\", \"Topic7\", \"Topic7\", \"Topic7\", \"Topic7\", \"Topic7\", \"Topic7\", \"Topic7\", \"Topic7\", \"Topic7\", \"Topic7\", \"Topic7\", \"Topic7\", \"Topic7\", \"Topic7\", \"Topic7\", \"Topic7\", \"Topic7\", \"Topic7\", \"Topic7\", \"Topic7\", \"Topic7\", \"Topic7\", \"Topic7\", \"Topic7\", \"Topic8\", \"Topic8\", \"Topic8\", \"Topic8\", \"Topic8\", \"Topic8\", \"Topic8\", \"Topic8\", \"Topic8\", \"Topic8\", \"Topic8\", \"Topic8\", \"Topic8\", \"Topic8\", \"Topic8\", \"Topic8\", \"Topic8\", \"Topic8\", \"Topic8\", \"Topic8\", \"Topic8\", \"Topic8\", \"Topic8\", \"Topic8\", \"Topic8\", \"Topic8\", \"Topic8\", \"Topic8\", \"Topic8\", \"Topic8\", \"Topic9\", \"Topic9\", \"Topic9\", \"Topic9\", \"Topic9\", \"Topic9\", \"Topic9\", \"Topic9\", \"Topic9\", \"Topic9\", \"Topic9\", \"Topic9\", \"Topic9\", \"Topic9\", \"Topic9\", \"Topic9\", \"Topic9\", \"Topic9\", \"Topic9\", \"Topic9\", \"Topic9\", \"Topic9\", \"Topic9\", \"Topic9\", \"Topic9\", \"Topic9\", \"Topic9\", \"Topic9\", \"Topic9\", \"Topic9\", \"Topic9\", \"Topic9\", \"Topic9\", \"Topic9\", \"Topic9\", \"Topic9\", \"Topic9\", \"Topic9\", \"Topic9\", \"Topic9\", \"Topic9\", \"Topic9\", \"Topic9\", \"Topic9\", \"Topic9\", \"Topic9\", \"Topic9\", \"Topic9\", \"Topic10\", \"Topic10\", \"Topic10\", \"Topic10\", \"Topic10\", \"Topic10\", \"Topic10\", \"Topic10\", \"Topic10\", \"Topic10\", \"Topic10\", \"Topic10\", \"Topic10\", \"Topic10\", \"Topic10\", \"Topic10\", \"Topic10\", \"Topic10\", \"Topic10\", \"Topic10\", \"Topic10\", \"Topic10\", \"Topic10\", \"Topic10\", \"Topic10\", \"Topic10\", \"Topic10\", \"Topic10\", \"Topic10\", \"Topic10\", \"Topic10\", \"Topic10\", \"Topic10\", \"Topic10\", \"Topic10\", \"Topic10\", \"Topic10\", \"Topic10\", \"Topic10\", \"Topic10\", \"Topic10\", \"Topic10\", \"Topic10\", \"Topic11\", \"Topic11\", \"Topic11\", \"Topic11\", \"Topic11\", \"Topic11\", \"Topic11\", \"Topic11\", \"Topic11\", \"Topic11\", \"Topic11\", \"Topic11\", \"Topic11\", \"Topic11\", \"Topic11\", \"Topic11\", \"Topic11\", \"Topic11\", \"Topic11\", \"Topic11\", \"Topic11\", \"Topic11\", \"Topic11\", \"Topic11\", \"Topic11\", \"Topic11\", \"Topic11\", \"Topic11\", \"Topic11\", \"Topic11\", \"Topic11\", \"Topic12\", \"Topic12\", \"Topic12\", \"Topic12\", \"Topic12\", \"Topic12\", \"Topic12\", \"Topic12\", \"Topic12\", \"Topic12\", \"Topic12\", \"Topic12\", \"Topic12\", \"Topic12\", \"Topic12\", \"Topic12\", \"Topic12\", \"Topic12\", \"Topic12\", \"Topic12\", \"Topic12\", \"Topic12\", \"Topic12\", \"Topic12\", \"Topic12\", \"Topic12\", \"Topic12\", \"Topic12\", \"Topic12\", \"Topic12\", \"Topic12\", \"Topic12\", \"Topic12\", \"Topic12\", \"Topic12\", \"Topic12\", \"Topic12\", \"Topic12\", \"Topic12\", \"Topic12\", \"Topic12\", \"Topic12\", \"Topic12\", \"Topic13\", \"Topic13\", \"Topic13\", \"Topic13\", \"Topic13\", \"Topic13\", \"Topic13\", \"Topic13\", \"Topic13\", \"Topic13\", \"Topic13\", \"Topic13\", \"Topic13\", \"Topic13\", \"Topic13\", \"Topic13\", \"Topic13\", \"Topic13\", \"Topic13\", \"Topic13\", \"Topic13\", \"Topic13\", \"Topic13\", \"Topic13\", \"Topic13\", \"Topic13\", \"Topic13\", \"Topic13\", \"Topic13\", \"Topic13\", \"Topic13\", \"Topic13\", \"Topic13\", \"Topic13\", \"Topic13\", \"Topic13\", \"Topic13\", \"Topic13\", \"Topic13\", \"Topic13\", \"Topic13\", \"Topic14\", \"Topic14\", \"Topic14\", \"Topic14\", \"Topic14\", \"Topic14\", \"Topic14\", \"Topic14\", \"Topic14\", \"Topic14\", \"Topic14\", \"Topic14\", \"Topic14\", \"Topic14\", \"Topic14\", \"Topic14\", \"Topic14\", \"Topic14\", \"Topic14\", \"Topic14\", \"Topic14\", \"Topic14\", \"Topic14\", \"Topic14\", \"Topic14\", \"Topic14\", \"Topic14\", \"Topic14\", \"Topic14\", \"Topic14\", \"Topic14\", \"Topic14\", \"Topic14\", \"Topic14\", \"Topic15\", \"Topic15\", \"Topic15\", \"Topic15\", \"Topic15\", \"Topic15\", \"Topic15\", \"Topic15\", \"Topic15\", \"Topic15\", \"Topic15\", \"Topic15\", \"Topic15\", \"Topic15\", \"Topic15\", \"Topic15\", \"Topic15\", \"Topic15\", \"Topic15\", \"Topic15\", \"Topic15\", \"Topic15\", \"Topic15\", \"Topic15\", \"Topic15\", \"Topic15\", \"Topic15\", \"Topic15\", \"Topic15\", \"Topic15\", \"Topic15\", \"Topic15\", \"Topic15\", \"Topic15\", \"Topic15\", \"Topic15\", \"Topic16\", \"Topic16\", \"Topic16\", \"Topic16\", \"Topic16\", \"Topic16\", \"Topic16\", \"Topic16\", \"Topic16\", \"Topic16\", \"Topic16\", \"Topic16\", \"Topic16\", \"Topic16\", \"Topic16\", \"Topic16\", \"Topic16\", \"Topic16\", \"Topic16\", \"Topic16\", \"Topic16\", \"Topic16\", \"Topic16\", \"Topic16\", \"Topic16\", \"Topic16\", \"Topic16\", \"Topic16\", \"Topic16\", \"Topic16\", \"Topic16\", \"Topic16\", \"Topic16\", \"Topic16\", \"Topic16\", \"Topic16\", \"Topic17\", \"Topic17\", \"Topic17\", \"Topic17\", \"Topic17\", \"Topic17\", \"Topic17\", \"Topic17\", \"Topic17\", \"Topic17\", \"Topic17\", \"Topic17\", \"Topic17\", \"Topic17\", \"Topic17\", \"Topic17\", \"Topic17\", \"Topic17\", \"Topic17\", \"Topic17\", \"Topic17\", \"Topic17\", \"Topic17\", \"Topic17\", \"Topic17\", \"Topic17\", \"Topic17\", \"Topic17\", \"Topic17\", \"Topic17\", \"Topic17\", \"Topic17\", \"Topic17\", \"Topic17\", \"Topic18\", \"Topic18\", \"Topic18\", \"Topic18\", \"Topic18\", \"Topic18\", \"Topic18\", \"Topic18\", \"Topic18\", \"Topic18\", \"Topic18\", \"Topic18\", \"Topic18\", \"Topic18\", \"Topic18\", \"Topic18\", \"Topic18\", \"Topic18\", \"Topic18\", \"Topic18\", \"Topic18\", \"Topic18\", \"Topic18\", \"Topic18\", \"Topic18\", \"Topic18\", \"Topic18\", \"Topic18\", \"Topic18\", \"Topic18\", \"Topic18\", \"Topic18\", \"Topic19\", \"Topic19\", \"Topic19\", \"Topic19\", \"Topic19\", \"Topic19\", \"Topic19\", \"Topic19\", \"Topic19\", \"Topic19\", \"Topic19\", \"Topic19\", \"Topic19\", \"Topic19\", \"Topic19\", \"Topic19\", \"Topic19\", \"Topic19\", \"Topic19\", \"Topic19\", \"Topic19\", \"Topic19\", \"Topic19\", \"Topic19\", \"Topic19\", \"Topic19\", \"Topic19\", \"Topic19\", \"Topic19\", \"Topic19\", \"Topic19\", \"Topic20\", \"Topic20\", \"Topic20\", \"Topic20\", \"Topic20\", \"Topic20\", \"Topic20\", \"Topic20\", \"Topic20\", \"Topic20\", \"Topic20\", \"Topic20\", \"Topic20\", \"Topic20\", \"Topic20\", \"Topic20\", \"Topic20\", \"Topic20\", \"Topic20\", \"Topic20\", \"Topic20\", \"Topic20\", \"Topic20\", \"Topic20\", \"Topic20\", \"Topic20\", \"Topic20\", \"Topic20\", \"Topic20\", \"Topic20\", \"Topic20\", \"Topic20\", \"Topic20\", \"Topic20\", \"Topic20\", \"Topic20\", \"Topic20\", \"Topic20\", \"Topic20\", \"Topic20\", \"Topic20\", \"Topic20\", \"Topic20\", \"Topic20\", \"Topic20\", \"Topic20\", \"Topic20\", \"Topic20\", \"Topic20\", \"Topic20\", \"Topic20\", \"Topic20\", \"Topic20\", \"Topic20\"], \"logprob\": [30.0, 29.0, 28.0, 27.0, 26.0, 25.0, 24.0, 23.0, 22.0, 21.0, 20.0, 19.0, 18.0, 17.0, 16.0, 15.0, 14.0, 13.0, 12.0, 11.0, 10.0, 9.0, 8.0, 7.0, 6.0, 5.0, 4.0, 3.0, 2.0, 1.0, -3.7071, -3.9539, -4.2825, -4.2825, -4.2561, -4.4823, -4.775, -4.775, -4.775, -4.775, -4.775, -4.7751, -4.7751, -4.7751, -4.7752, -4.7752, -4.7751, -3.8244, -4.2825, -5.1266, -4.4245, -4.775, -3.1478, -3.61, -4.3376, -5.787, -5.787, -5.787, -5.787, -5.787, -4.6566, -3.1497, -4.4823, -3.5392, -3.8011, -3.2514, -4.2823, -4.3116, -4.07, -4.1616, -4.1379, -4.4823, -4.608, -4.7594, -4.7675, -4.775, -3.4655, -3.794, -3.2185, -3.6051, -4.2865, -4.2865, -4.2866, -4.2866, -4.2866, -4.2866, -3.9939, -3.794, -4.2865, -3.4484, -4.2865, -4.2865, -4.2865, -4.638, -5.2984, -5.2984, -5.2984, -5.2984, -5.2984, -5.2984, -5.2984, -5.2984, -5.2984, -5.2984, -5.2984, -5.2984, -4.2865, -4.2865, -3.4641, -4.2865, -4.2865, -3.6946, -4.2865, -4.3909, -4.4288, -4.2564, -4.1305, -4.2481, -3.3245, -3.1987, -3.789, -4.2815, -4.2815, -4.2816, -4.2816, -4.2816, -3.6691, -3.9489, -4.2815, -5.2934, -5.2934, -5.2934, -5.2934, -5.2934, -5.2934, -5.2934, -5.2934, -5.2934, -5.2934, -5.2934, -5.2934, -5.2934, -5.2934, -5.2934, -5.2934, -5.2934, -5.2934, -5.2934, -3.3044, -3.4414, -4.2815, -3.7046, -3.635, -4.2815, -3.5816, -4.1617, -4.3488, -4.2815, -4.1441, -4.1263, -4.4253, -4.5928, -4.6447, -4.9043, -5.1756, -5.2129, -5.2147, -3.7053, -3.7054, -4.1978, -4.1979, -2.2557, -4.1979, -4.5494, -5.2098, -5.2098, -5.2098, -5.2098, -5.2098, -5.2098, -5.2098, -5.2098, -5.2098, -5.2098, -5.2098, -5.2098, -5.2098, -5.2098, -5.2098, -5.2098, -5.2098, -5.2098, -5.2098, -5.2098, -5.2098, -5.2098, -5.2098, -3.7403, -3.2541, -3.7053, -3.127, -3.7456, -4.7746, -4.1, -4.1461, -4.0994, -4.2364, -4.1821, -5.0829, -5.2098, -5.2098, -5.2098, -5.2098, -5.2098, -5.2098, -5.2098, -3.256, -3.3943, -3.7228, -3.7228, -3.0448, -4.2153, -4.2153, -4.2154, -4.2153, -3.087, -4.5669, -5.2272, -5.2272, -5.2272, -5.2272, -5.2272, -5.2272, -5.2272, -5.2272, -5.2272, -5.2272, -5.2272, -5.2272, -5.2273, -5.2273, -5.2273, -3.5343, -3.4266, -3.9277, -5.2272, -3.4845, -3.3548, -4.2153, -4.1492, -4.0661, -3.3975, -3.8498, -3.9527, -4.376, -4.8581, -5.1078, -5.121, -5.1139, -3.6496, -3.6496, -3.3211, -4.1422, -4.1422, -4.1423, -5.1541, -5.1541, -5.1541, -5.1541, -5.1541, -5.1541, -5.1541, -5.1541, -5.1541, -5.1541, -5.1541, -5.1541, -5.1541, -5.1541, -5.1541, -5.1541, -5.1541, -5.1541, -5.1541, -5.1541, -5.1541, -5.1541, -5.1541, -5.1541, -3.2585, -3.6498, -4.3829, -3.7411, -4.501, -3.2579, -4.1422, -4.1421, -4.2674, -4.4937, -4.9757, -5.1526, -5.1539, -5.1539, -5.1541, -5.1541, -5.1541, -3.6104, -4.1029, -4.1029, -4.1029, -4.1029, -4.1029, -3.6103, -3.6103, -5.1148, -5.1148, -5.1148, -5.1148, -5.1148, -5.1148, -5.1148, -5.1148, -5.1148, -5.1148, -5.1148, -5.1148, -5.1148, -5.1148, -5.1148, -5.1148, -5.1148, -5.1148, -5.1148, -5.1148, -5.1148, -5.1148, -2.9431, -3.8768, -4.1029, -3.5911, -4.1029, -4.1028, -4.0265, -4.251, -4.6048, -4.4637, -4.4358, -4.8032, -4.7592, -5.0278, -4.9457, -5.1147, -5.1148, -2.7377, -3.1091, -3.676, -2.7812, -3.3475, -4.1687, -2.2078, -3.9008, -2.9198, -5.1805, -5.1805, -2.3282, -2.9021, -5.1805, -5.1805, -3.7257, -5.1805, -3.3113, -5.1805, -7.9198, -7.9199, -7.92, -7.92, -7.9203, -7.9203, -7.9203, -7.9203, -7.9203, -7.9203, -7.9203, -3.5491, -4.068, -4.068, -4.068, -4.068, -3.5754, -4.068, -3.3866, -4.068, -3.6214, -5.0799, -5.0799, -5.0799, -5.0799, -5.0799, -5.0799, -5.0799, -5.0799, -5.0799, -5.0799, -5.0799, -5.0799, -5.0799, -5.0799, -5.0799, -5.0799, -5.0799, -5.0799, -5.0799, -3.6369, -4.4195, -4.2023, -3.2641, -4.068, -3.5816, -4.1632, -3.8135, -4.2166, -4.3537, -4.166, -4.4195, -4.771, -4.8792, -5.0654, -5.0795, -5.0799, -5.0799, -5.0799, -3.5081, -4.0006, -4.0007, -4.0007, -4.0007, -4.0007, -4.0007, -4.0006, -4.0006, -4.3521, -5.0125, -5.0125, -5.0125, -5.0125, -5.0125, -5.0125, -5.0125, -5.0125, -5.0125, -5.0125, -5.0125, -5.0125, -5.0125, -5.0125, -5.0125, -5.0125, -5.0125, -5.0125, -5.0125, -5.0126, -4.3521, -4.0006, -4.0006, -4.1841, -4.2861, -4.5451, -4.2301, -4.3369, -4.4921, -4.7894, -4.8996, -4.9395, -4.9695, -2.3296, -3.5499, -3.4984, -2.21, -4.0424, -5.0543, -5.0543, -5.0543, -5.0543, -5.0543, -5.0543, -5.0543, -5.0543, -5.0543, -5.0543, -5.0543, -5.0543, -5.0543, -4.3939, -3.0138, -2.6172, -3.5498, -4.075, -3.3256, -3.8117, -3.7489, -7.7929, -7.7935, -7.7937, -7.7939, -4.6276, -3.1811, -3.1811, -3.7094, -4.0022, -4.0022, -5.0141, -5.0141, -5.0141, -5.0141, -5.0141, -5.0141, -5.0141, -5.0141, -5.0141, -5.0141, -5.0141, -5.0141, -5.0141, -5.0141, -5.0141, -5.0141, -5.0141, -5.0141, -5.0141, -5.0141, -5.0141, -4.223, -4.0021, -3.5608, -4.0021, -2.9735, -3.8968, -3.6531, -3.8582, -4.3794, -4.0021, -4.3794, -4.7447, -4.8804, -5.0125, -5.0131, -5.0141, -5.0141, -3.4366, -3.1079, -2.8758, -3.115, -3.1081, -3.4366, -4.941, -4.941, -4.941, -4.941, -4.941, -4.941, -4.941, -4.941, -4.941, -4.941, -4.941, -4.941, -4.941, -4.941, -4.941, -4.941, -4.941, -4.941, -4.941, -4.941, -4.941, -4.941, -4.941, -4.941, -4.2806, -3.6082, -3.6364, -4.1615, -4.5409, -4.7246, -4.7082, -4.7566, -4.7517, -4.941, -4.941, -2.9871, -3.3156, -3.8082, -3.0051, -3.1268, -3.8082, -4.8201, -4.8201, -4.8201, -4.8201, -4.8201, -4.8201, -4.8201, -4.8201, -4.8201, -4.8201, -4.8201, -4.8201, -4.8201, -4.8201, -4.8201, -4.8201, -4.8201, -4.8201, -4.8201, -4.2161, -3.8524, -3.571, -4.8201, -4.8201, -3.423, -3.8508, -4.5893, -4.7033, -2.9883, -3.8094, -3.8094, -3.8094, -3.3169, -3.8094, -4.8213, -4.8213, -4.8213, -4.8213, -4.8213, -4.8213, -4.8213, -4.8213, -4.8213, -4.8213, -4.8213, -4.8213, -4.8213, -4.8213, -3.8094, -4.8213, -4.8213, -4.8213, -4.8213, -4.8213, -4.8213, -4.8213, -4.8213, -4.8213, -3.0779, -3.3826, -4.0963, -3.8094, -4.8213, -4.8213, -2.8614, -2.8614, -3.0008, -2.5756, -3.3294, -3.1642, -4.8338, -3.2113, -4.8338, -4.8338, -3.2489, -2.8984, -4.8338, -4.8338, -4.8338, -4.7683, -4.4999, -4.7662, -4.8338, -7.5732, -7.5732, -7.5733, -7.5734, -7.5734, -7.5734, -7.5734, -7.5736, -7.5736, -7.5734, -7.5738, -4.8337, -6.5437, -7.5723, -7.5731, -7.5732, -7.5732, -2.738, -3.6969, -3.2043, -3.2043, -4.7087, -4.7087, -4.7087, -4.7087, -4.7087, -4.7087, -4.7087, -4.7087, -4.7087, -4.7088, -4.7088, -4.7088, -4.7088, -4.7088, -4.7088, -4.0486, -4.8541, -4.7087, -4.7087, -4.7087, -3.0427, -4.7087, -4.7087, -4.7087, -4.7087, -4.5441, -4.3711, -4.6582, -4.7087, -4.7087, -3.0868, -3.5793, -3.5793, -3.5793, -4.5912, -4.5912, -4.5912, -4.5912, -4.5912, -4.5912, -4.5912, -4.5912, -4.5912, -4.5912, -4.5912, -4.5912, -4.5912, -4.5912, -4.5912, -4.5912, -4.5912, -4.5912, -4.5912, -4.5912, -3.9308, -4.5912, -4.5912, -4.5912, -4.4852, -7.3318, -3.7778, -4.4881, -2.4341, -3.502, -3.8536, -2.8366, -4.5139, -4.5139, -4.5139, -2.7751, -3.3061, -4.5136, -4.4245, -7.2534, -7.2534, -7.2534, -7.2534, -7.2534, -7.2534, -7.2534, -7.2543, -7.2544, -7.2544, -7.2544, -7.2544, -7.2544, -7.2544, -7.2544, -7.2544, -7.2544, -7.2544, -7.2546, -4.1529, -4.1598, -4.1598, -4.1598, -4.1598, -4.1598, -4.1598, -6.9007, -6.9007, -6.9007, -6.9007, -6.9007, -6.9007, -6.9007, -6.9007, -6.9007, -6.9007, -6.9007, -6.9007, -6.9007, -6.9007, -6.9007, -6.9007, -6.9007, -6.9007, -6.9007, -6.9007, -6.9007, -6.9007, -6.9007, -6.9007, -6.9007, -6.9007, -6.9007, -6.9007, -6.9007, -6.9007, -6.9007, -6.9007, -6.9007, -6.9007, -6.9007, -6.9007, -6.9007, -6.9007, -6.9007, -6.9007, -6.9007, -6.9007, -6.9007, -6.9007, -6.9007, -6.9007, -6.9007, -6.9007], \"loglift\": [30.0, 29.0, 28.0, 27.0, 26.0, 25.0, 24.0, 23.0, 22.0, 21.0, 20.0, 19.0, 18.0, 17.0, 16.0, 15.0, 14.0, 13.0, 12.0, 11.0, 10.0, 9.0, 8.0, 7.0, 6.0, 5.0, 4.0, 3.0, 2.0, 1.0, 1.9078, 1.8803, 1.8332, 1.8332, 1.8049, 1.7976, 1.7338, 1.7338, 1.7338, 1.7338, 1.7338, 1.7338, 1.7338, 1.7338, 1.7338, 1.7338, 1.7338, 1.7301, 1.6925, 1.6362, 1.5819, 1.5318, 1.5183, 1.4746, 1.4412, 1.3788, 1.3788, 1.3788, 1.3788, 1.3788, 1.3716, 1.222, 1.3065, 1.238, 1.1987, 0.9898, 1.1532, 0.9257, 0.4733, 0.6335, 0.3771, 1.0326, 0.4813, 0.9348, -0.2315, 0.7265, 2.4798, 2.4269, 2.4131, 2.3268, 2.3161, 2.316, 2.316, 2.316, 2.316, 2.316, 2.2595, 2.2505, 2.1563, 2.1454, 2.1133, 2.1097, 1.9928, 1.9562, 1.9293, 1.9293, 1.9293, 1.9293, 1.9293, 1.9293, 1.9293, 1.9293, 1.9293, 1.9293, 1.9293, 1.9293, 1.8206, 1.7819, 1.6388, 1.6127, 1.5879, 0.9333, 1.037, 0.9255, 0.9557, 0.7434, 0.1095, 0.2669, 2.5085, 2.4431, 2.4399, 2.3282, 2.3282, 2.3282, 2.3281, 2.3281, 2.1431, 2.1419, 2.1241, 1.9389, 1.9389, 1.9389, 1.9389, 1.9389, 1.9389, 1.9389, 1.9389, 1.9389, 1.9389, 1.9389, 1.9389, 1.9389, 1.9389, 1.9389, 1.9389, 1.9389, 1.9389, 1.9389, 1.8129, 1.7279, 1.7868, 1.619, 1.4678, 1.5073, 0.6595, 0.9276, 1.0954, 0.8031, 0.6439, 0.2454, 0.5745, -0.0568, -0.0168, -0.3894, -0.3805, 0.3837, 0.2868, 2.5059, 2.5059, 2.3962, 2.3962, 2.2803, 2.2376, 2.0359, 2.0124, 2.0124, 2.0124, 2.0124, 2.0124, 2.0124, 2.0124, 2.0124, 2.0124, 2.0124, 2.0124, 2.0124, 2.0124, 2.0124, 2.0124, 2.0124, 2.0124, 2.0124, 2.0124, 2.0124, 2.0124, 2.0124, 2.0124, 1.7613, 1.4119, 1.4991, 1.1129, 0.7977, 1.6492, 1.0693, 0.649, 0.3738, 0.3916, 0.1895, 1.577, 0.7027, 1.6361, 1.2136, 1.6445, 0.1137, 0.9874, 1.6329, 2.5896, 2.5719, 2.5178, 2.5178, 2.4851, 2.4047, 2.4047, 2.4047, 2.2176, 2.217, 2.0363, 2.0118, 2.0118, 2.0118, 2.0118, 2.0118, 2.0118, 2.0118, 2.0118, 2.0118, 2.0118, 2.0118, 2.0118, 2.0118, 2.0118, 2.0118, 1.9671, 1.9579, 1.6876, 1.6798, 1.6227, 1.1601, 1.5549, 1.427, 1.3694, 0.9742, 0.6935, 0.6752, 0.9475, -0.0809, 0.8085, 0.7198, -0.0293, 2.6009, 2.6008, 2.5828, 2.4866, 2.4866, 2.4866, 2.0906, 2.0906, 2.0906, 2.0906, 2.0906, 2.0906, 2.0906, 2.0906, 2.0906, 2.0906, 2.0906, 2.0906, 2.0906, 2.0906, 2.0906, 2.0906, 2.0906, 2.0906, 2.0906, 2.0906, 2.0906, 2.0906, 2.0906, 2.0906, 1.8308, 1.8651, 1.8235, 1.3763, 1.7668, 0.9832, 1.0272, 0.4012, 0.2476, 0.591, -0.5025, 0.3488, 0.802, 1.1501, 0.7584, 1.7002, 1.7291, 2.679, 2.5602, 2.5602, 2.5602, 2.5602, 2.3946, 2.2924, 2.2132, 2.1519, 2.1519, 2.1519, 2.1519, 2.1519, 2.1519, 2.1519, 2.1519, 2.1519, 2.1519, 2.1519, 2.1519, 2.1519, 2.1519, 2.1519, 2.1519, 2.1519, 2.1519, 2.1519, 2.1519, 2.1519, 2.1519, 1.8521, 1.9434, 1.9094, 1.6134, 1.7715, 1.3414, 1.2108, 1.0654, 1.4861, 0.3134, 0.1921, 0.2861, -0.0932, 1.2926, -0.7046, 0.4002, 1.4705, 2.8197, 2.6906, 2.6808, 2.6784, 2.6083, 2.5536, 2.5068, 2.4195, 2.3966, 2.1234, 2.1234, 1.9118, 1.8707, 1.7726, 1.7724, 1.5115, 1.4797, 1.1619, 0.9983, -0.0686, -0.0686, -0.0686, -0.0686, -0.0689, -0.0689, -0.0689, -0.0689, -0.0689, -0.0689, -0.0689, 2.7147, 2.5913, 2.5913, 2.5913, 2.5913, 2.558, 2.4263, 2.3836, 2.3554, 2.2658, 2.1844, 2.1844, 2.1844, 2.1844, 2.1844, 2.1844, 2.1844, 2.1844, 2.1844, 2.1844, 2.1844, 2.1844, 2.1843, 2.1843, 2.1843, 2.1843, 2.1843, 2.1843, 2.1843, 1.9785, 1.9381, 1.8258, 1.2792, 1.3762, 0.7901, 1.3381, 0.8144, 0.5714, 0.7356, 0.3072, 0.0954, 1.0412, -0.1064, 0.8487, 0.977, 1.4304, 1.3163, 1.8033, 2.7922, 2.672, 2.672, 2.672, 2.672, 2.672, 2.672, 2.438, 2.4359, 2.2628, 2.2602, 2.2602, 2.2602, 2.2602, 2.2602, 2.2602, 2.2602, 2.2602, 2.2602, 2.2602, 2.2602, 2.2602, 2.2602, 2.2602, 2.2602, 2.2602, 2.2602, 2.2602, 2.2602, 2.2602, 2.1003, 1.9021, 1.61, 0.9231, 1.0374, 1.4613, 0.2849, 0.1991, 0.6252, 0.7119, 0.6942, -0.6996, -0.1744, 2.4432, 2.3493, 2.3218, 2.2632, 2.258, 2.2374, 2.2374, 2.2374, 2.2374, 2.2374, 2.2374, 2.2374, 2.2374, 2.2374, 2.2374, 2.2374, 2.2374, 1.8355, 1.8032, 1.7008, 1.6227, 1.5573, 1.5216, 1.4624, 1.2912, 0.4923, 0.0582, 0.0577, 0.0575, 0.0575, -0.0843, 2.8539, 2.8539, 2.7522, 2.675, 2.675, 2.2616, 2.2616, 2.2616, 2.2616, 2.2616, 2.2616, 2.2616, 2.2616, 2.2616, 2.2616, 2.2616, 2.2616, 2.2616, 2.2616, 2.2616, 2.2616, 2.2616, 2.2616, 2.2616, 2.2616, 2.2616, 2.2007, 2.105, 2.0358, 2.0013, 1.2676, 1.2104, 0.9748, 1.1415, 1.5348, 0.793, 1.1751, 0.0433, -0.6404, -0.3465, 0.5018, 1.3155, 1.4168, 2.9228, 2.7993, 2.7348, 2.5793, 2.4856, 2.4759, 2.3643, 2.3643, 2.3643, 2.3643, 2.3643, 2.3643, 2.3643, 2.3643, 2.3643, 2.3643, 2.3643, 2.3643, 2.3643, 2.3643, 2.3643, 2.3643, 2.3643, 2.3643, 2.3643, 2.0813, 2.0813, 2.0121, 1.966, 1.9612, 1.5938, 1.0198, 0.8786, 0.0796, 0.8947, 1.0542, 0.9072, 1.1306, 0.0435, 0.1764, 0.9166, 3.1048, 3.0432, 2.9158, 2.8357, 2.7308, 2.6896, 2.4849, 2.4849, 2.4849, 2.4849, 2.4849, 2.4849, 2.4849, 2.4849, 2.4849, 2.4849, 2.4849, 2.4849, 2.4849, 2.4849, 2.4849, 2.4849, 2.1426, 2.1328, 2.0746, 2.0517, 1.7413, 1.6335, 1.5536, 1.1834, 1.0502, 0.9372, -0.0533, -0.0753, 3.1291, 2.9353, 2.9353, 2.9353, 2.7396, 2.7009, 2.4966, 2.4966, 2.4966, 2.4966, 2.4966, 2.4966, 2.4966, 2.4966, 2.4966, 2.4966, 2.4966, 2.4966, 2.4966, 2.4966, 2.2029, 2.1414, 2.1123, 2.0859, 2.0406, 1.8389, 1.6907, 1.6312, 1.6117, 1.6095, 1.4654, 1.1324, 1.1409, 0.5623, 0.2859, 1.2199, 3.2673, 3.2673, 3.0876, 3.0006, 2.9746, 2.7521, 2.5451, 2.1732, 2.1135, 2.0663, 2.0551, 1.8787, 1.609, 1.6017, 1.4455, 1.0314, 0.9597, 0.7637, 0.2836, 0.2781, 0.2781, 0.278, 0.2779, 0.2779, 0.2779, 0.2778, 0.2777, 0.2777, 0.2777, 0.2776, 0.2509, -0.9331, -3.0573, -2.4659, -1.4397, -1.5668, 3.4082, 3.1626, 3.1252, 2.9746, 2.6785, 2.6785, 2.6785, 2.6785, 2.6785, 2.6785, 2.6785, 2.6785, 2.6785, 2.6784, 2.6784, 2.6784, 2.6784, 2.6784, 2.6784, 1.8587, 1.8059, 1.8033, 1.7888, 1.7856, 1.7453, 1.6749, 1.5448, 1.0801, 0.9067, 0.9001, 0.406, -0.185, -0.1938, 0.8212, 3.4621, 3.3082, 3.3082, 3.0199, 2.8125, 2.8125, 2.8125, 2.8125, 2.8125, 2.8125, 2.8125, 2.8125, 2.8125, 2.8125, 2.8125, 2.8125, 2.8125, 2.8125, 2.8125, 2.8125, 2.8125, 2.8125, 2.4311, 2.4311, 2.4268, 1.4122, 1.2664, 0.8443, 0.7192, 0.5196, 0.4621, 0.0479, 3.7743, 3.4692, 3.3131, 3.0776, 2.9377, 2.9377, 2.9377, 2.0129, 1.471, 1.3904, 1.0351, 0.598, 0.598, 0.598, 0.598, 0.598, 0.598, 0.598, 0.597, 0.597, 0.597, 0.597, 0.597, 0.597, 0.597, 0.597, 0.5969, 0.5969, 0.5969, 0.5968, 0.5617, 3.5158, 3.5158, 2.0373, 1.9013, 1.2844, 1.2757, 0.9507, 0.9507, 0.9507, 0.9507, 0.9507, 0.9507, 0.9507, 0.9507, 0.9507, 0.9507, 0.9507, 0.9507, 0.9507, 0.9507, 0.9507, 0.9507, 0.9507, 0.9507, 0.9507, 0.9506, 0.9506, 0.9506, 0.9506, 0.9506, -2.1236, 0.3659, -1.0772, -0.7219, -1.2854, -1.5968, -1.0552, -0.5804, -2.1056, -2.6608, 0.0328, 0.3635, -2.128, 0.3635, -2.4276, -1.5843, 0.3635, -0.2415, -0.3888, 0.4171, 0.4171, -0.6943, 0.3214, -2.2347]}, \"token.table\": {\"Topic\": [13, 13, 5, 6, 13, 3, 3, 5, 7, 9, 10, 15, 17, 13, 9, 2, 4, 8, 10, 11, 12, 18, 1, 3, 5, 7, 16, 17, 19, 1, 3, 6, 7, 11, 12, 13, 1, 2, 3, 5, 6, 9, 10, 13, 15, 2, 3, 4, 5, 7, 9, 10, 12, 13, 14, 5, 9, 10, 13, 2, 3, 1, 4, 6, 7, 14, 18, 1, 2, 3, 12, 14, 15, 6, 7, 4, 9, 13, 11, 15, 9, 15, 12, 13, 12, 1, 4, 7, 12, 5, 10, 1, 3, 5, 6, 5, 1, 9, 1, 2, 3, 14, 2, 14, 15, 4, 8, 16, 6, 8, 4, 2, 5, 14, 3, 3, 1, 3, 4, 6, 4, 10, 13, 14, 1, 3, 2, 9, 12, 16, 9, 1, 3, 4, 6, 10, 14, 18, 15, 6, 7, 4, 4, 9, 11, 2, 8, 13, 6, 9, 2, 5, 14, 7, 14, 13, 8, 10, 1, 12, 13, 5, 2, 9, 1, 3, 7, 8, 15, 5, 9, 15, 5, 7, 3, 1, 2, 12, 12, 10, 12, 14, 6, 2, 2, 11, 10, 5, 13, 14, 1, 14, 5, 13, 4, 18, 6, 14, 15, 2, 3, 9, 11, 12, 14, 15, 17, 19, 4, 1, 4, 5, 6, 9, 11, 15, 18, 10, 7, 19, 1, 5, 3, 7, 1, 10, 2, 14, 10, 10, 10, 2, 5, 15, 2, 10, 1, 2, 10, 2, 4, 7, 11, 10, 13, 2, 7, 7, 2, 1, 6, 6, 9, 15, 12, 10, 15, 1, 3, 6, 7, 9, 1, 3, 4, 15, 2, 8, 9, 11, 1, 5, 6, 13, 2, 3, 6, 10, 13, 6, 16, 10, 1, 12, 15, 1, 3, 9, 7, 13, 15, 4, 6, 3, 4, 3, 6, 7, 9, 15, 1, 6, 13, 10, 5, 15, 1, 6, 7, 12, 7, 5, 6, 12, 15, 1, 2, 15, 2, 13, 3, 1, 14, 1, 2, 4, 5, 6, 10, 11, 12, 15, 1, 4, 7, 14, 7, 3, 10, 11, 2, 3, 4, 5, 10, 5, 9, 1, 3, 13, 7, 9, 7, 7, 15, 8, 1, 7, 1, 2, 3, 4, 12, 4, 2, 13, 1, 3, 12, 13, 12, 9, 1, 7, 10, 15, 15, 3, 12, 12, 3, 7, 4, 12, 6, 4, 5, 9, 14, 5, 6, 5, 2, 4, 6, 5, 16, 12, 13, 9, 1, 1, 6, 7, 8, 17, 9, 15, 4, 2, 1, 2, 12, 5, 13, 3, 9, 11, 9, 5, 13, 11, 10, 4, 10, 2, 5, 16, 12, 2, 11, 5, 7, 3, 4, 2, 3, 4, 4, 9, 3, 10, 10, 5, 9, 13, 12, 1, 5, 9, 7, 15, 1, 6, 12, 14, 10, 1, 5, 15, 14, 3, 1, 5, 6, 14, 4, 9, 2, 4, 8, 14, 1, 10, 10, 4, 9, 9, 13, 18, 2, 12, 9, 10, 17, 1, 7, 3, 8, 15, 6, 12, 3, 11, 2, 14, 3, 2, 10, 11, 1, 9, 1, 5, 16, 4, 5, 2, 14, 6, 6, 1, 6, 10, 10, 12, 7, 1, 2, 3, 11, 7, 7, 7, 7, 4, 15, 9, 12, 3, 10, 3, 4, 4, 4, 3, 3, 12, 8, 16, 5, 6, 10, 2, 6, 6, 9, 12, 19, 1, 6, 12, 13, 12, 15, 9, 4, 10, 7, 1, 4, 7, 14, 7, 4, 3, 8, 8, 8, 11, 19, 5, 6, 16, 6, 7, 8, 3, 11, 5, 9, 9, 12, 6, 3, 9, 12, 15, 2, 7, 13, 10, 11, 12, 6, 3, 10, 10, 4, 3, 2, 3, 6, 11, 1, 7, 15, 4, 4, 6, 13, 17, 3, 13, 10, 6, 10, 13, 4, 13, 14, 6, 3, 12, 17, 5, 16, 1, 4, 14, 13, 14, 3, 11, 14, 11, 14, 15, 18, 7, 11, 4, 14, 4, 6, 8, 9, 11, 14, 17, 5, 6, 9, 10, 13, 14, 10, 9, 12, 10, 12, 15, 11, 19, 5, 10, 14, 7, 19, 7, 6, 16, 9, 12, 1, 8, 2, 7, 8, 1, 3, 4, 5, 9, 15, 2, 10, 13, 7, 18, 4, 6, 7, 13, 3, 7, 1, 2, 4, 9, 15, 1, 3, 10, 11, 12, 14, 4, 1, 2, 9, 1, 6, 15, 7, 13, 1, 15, 4, 13, 1, 3, 4, 7, 10, 12, 13, 4, 12, 13, 10, 7, 10, 9, 2, 6, 6, 1, 13, 12, 17, 7, 5, 7, 10, 16], \"Freq\": [0.7667219597183669, 0.7667169937584569, 0.7175693836847717, 0.7216279005451278, 0.7667169263476789, 0.7127666087006337, 0.2384441083537792, 0.1192220541768896, 0.2384441083537792, 0.2384441083537792, 0.1192220541768896, 0.1192220541768896, 0.1192220541768896, 0.7667169263476789, 0.7358626402826381, 0.07151379760405237, 0.21454139281215712, 0.3575689880202618, 0.035756898802026184, 0.25029829161418327, 0.035756898802026184, 0.035756898802026184, 0.48948822718235174, 0.06118602839779397, 0.06118602839779397, 0.06118602839779397, 0.1835580851933819, 0.06118602839779397, 0.06118602839779397, 0.3579872445948971, 0.14319489783795886, 0.14319489783795886, 0.035798724459489714, 0.07159744891897943, 0.17899362229744856, 0.035798724459489714, 0.18830110313433454, 0.09415055156716727, 0.047075275783583635, 0.18830110313433454, 0.09415055156716727, 0.047075275783583635, 0.047075275783583635, 0.09415055156716727, 0.09415055156716727, 0.158116590039069, 0.052705530013023, 0.105411060026046, 0.105411060026046, 0.052705530013023, 0.105411060026046, 0.052705530013023, 0.105411060026046, 0.105411060026046, 0.052705530013023, 0.1856888476894439, 0.5570665430683317, 0.1856888476894439, 0.1856888476894439, 0.8628205173907615, 0.1438034195651269, 0.0938044166016126, 0.2814132498048378, 0.0938044166016126, 0.2814132498048378, 0.1876088332032252, 0.0938044166016126, 0.45867273804691655, 0.1528909126823055, 0.1528909126823055, 0.1528909126823055, 0.07644545634115275, 0.07644545634115275, 0.7216281268598286, 0.7376336551200183, 0.7055345317486907, 0.7358626402826381, 0.7667219597183669, 0.7563535407117399, 0.7764071553735633, 0.5286803589133574, 0.5286803589133574, 0.7442964869563765, 0.7667169263476789, 0.7442964869563765, 0.6022901223877566, 0.27376823744898027, 0.05475364748979605, 0.05475364748979605, 0.7175722478492055, 0.8145574742701086, 0.5825151501228188, 0.1664329000350911, 0.08321645001754555, 0.08321645001754555, 0.7175696579122915, 0.42755973326122737, 0.42755973326122737, 0.6914560822922629, 0.7594229763730732, 0.8716411437001018, 0.14527352395001697, 0.8033898604071056, 0.8573669011348575, 0.7764068380053649, 0.7055343516025216, 0.7264366323472862, 0.12107277205788103, 0.19887531275081072, 0.7955012510032429, 0.7055343516025216, 0.7766621725449637, 0.19416554313624093, 0.7664605057664827, 0.7648144150036177, 0.7839196800417637, 0.18113974502260513, 0.36227949004521026, 0.18113974502260513, 0.18113974502260513, 0.13845267441339867, 0.13845267441339867, 0.5538106976535947, 0.27690534882679735, 0.5048125300586209, 0.33654168670574724, 0.6178068813667118, 0.3089034406833559, 0.744296064935862, 0.9455768899902997, 0.6814616498438228, 0.0961496791563809, 0.04807483957819045, 0.6730477540946662, 0.04807483957819045, 0.04807483957819045, 0.04807483957819045, 0.04807483957819045, 0.7764062410418344, 0.7216343788595607, 0.7376335468683606, 0.642551608170499, 0.7055343215781692, 0.7358626402826381, 0.7563537683015611, 0.7094703930303269, 0.5391070346339847, 0.5391070346339847, 0.7552525519513017, 0.7358739117391523, 0.7593869609240703, 0.7175693836847717, 0.766463930802609, 0.7376335468683606, 0.7664605057664827, 0.7667205216057125, 0.7656574081081614, 0.7421552555011476, 0.7987700295320754, 0.13312833825534592, 0.7667169937584569, 0.7175693836847717, 0.7094703930303269, 0.7358625356767703, 0.2908008896658491, 0.09693362988861637, 0.19386725977723274, 0.2908008896658491, 0.09693362988861637, 0.7175692618059413, 0.3462256615105601, 0.6924513230211202, 0.3799255962278666, 0.3799255962278666, 0.7127666087006337, 0.6914375899060914, 0.46268715465730437, 0.46268715465730437, 0.7442960279519918, 0.74215585851224, 0.744296218438391, 0.7664604261148441, 0.77959631015251, 0.7094701963473035, 0.5060155037939698, 0.5060155037939698, 0.74215585851224, 0.5148153606526011, 0.5148153606526011, 0.7664609438507916, 0.6914202102667295, 0.766463930802609, 0.7728244630643059, 0.7667219597183669, 0.3784245058701293, 0.3784245058701293, 0.7216288906729913, 0.7664605057664827, 0.8753939352839023, 0.0618537482815607, 0.1237074965631214, 0.1237074965631214, 0.18556124484468212, 0.0618537482815607, 0.1237074965631214, 0.0618537482815607, 0.18556124484468212, 0.1237074965631214, 0.7055343215781692, 0.19371695571721217, 0.14528771678790914, 0.14528771678790914, 0.09685847785860609, 0.19371695571721217, 0.048429238929303044, 0.14528771678790914, 0.5049052796993949, 0.7421632984302791, 0.7376333033022464, 0.5489627260907686, 0.6668341887710117, 0.7175692618059413, 0.712766054612298, 0.7376336551200183, 0.6275405969207792, 0.20918019897359305, 0.7094701963473035, 0.7664609438507916, 0.74215585851224, 0.8145443705746065, 0.8145167520513794, 0.6472464935962463, 0.6409035248327787, 0.32045176241638934, 0.6200283674498657, 0.31001418372493283, 0.5112663979127559, 0.3765544323022991, 0.3765544323022991, 0.25313894038399604, 0.25313894038399604, 0.25313894038399604, 0.25313894038399604, 0.2816249572522858, 0.7040623931307145, 0.7094703930303269, 0.7376335468683606, 0.7376333033022464, 0.7094703930303269, 0.6914297372033631, 0.7216343788595607, 0.5026906983372754, 0.5026906983372754, 0.7764068380053649, 0.7442964869563765, 0.7421560048698451, 0.934957600498784, 0.25081876748898, 0.16721251165932002, 0.33442502331864005, 0.08360625582966001, 0.08360625582966001, 0.6914348173706142, 0.7127663479530743, 0.7702076089007324, 0.7764071553735633, 0.7094701963473035, 0.36551478544415783, 0.06091913090735964, 0.5482721781662367, 0.4727851953900774, 0.2363925976950387, 0.11819629884751935, 0.11819629884751935, 0.08598541413020051, 0.42992707065100255, 0.25795624239060155, 0.08598541413020051, 0.08598541413020051, 0.2270617708110576, 0.6811853124331728, 0.8145744429311099, 0.6100527291526735, 0.30502636457633675, 0.7764068380053649, 0.17225423285593597, 0.6890169314237439, 0.17225423285593597, 0.3468072906410307, 0.3468072906410307, 0.3468072906410307, 0.7055345317486907, 0.8010219832002633, 0.7127668368549045, 0.7055343516025216, 0.7127666087006337, 0.7216279005451278, 0.8327614007410657, 0.8117562348680143, 0.7764077504396342, 0.6915017417482754, 0.7216279005451278, 0.8932088642244763, 0.7421555384833171, 0.7727935755255235, 0.7764077504396342, 0.38387075089825706, 0.38387075089825706, 0.1279569169660857, 0.1279569169660857, 0.7376336551200183, 0.7175722478492055, 0.7216281268598286, 0.7442963404919968, 0.7764062594122106, 0.8912956358965067, 0.5149125703280528, 0.5149125703280528, 0.5496207553879882, 0.2748103776939941, 0.8794399638540605, 0.8484880901647132, 0.7664604261148441, 0.13845953083354903, 0.5538381233341961, 0.13845953083354903, 0.3404520133446984, 0.0851130033361746, 0.0851130033361746, 0.25533901000852377, 0.1702260066723492, 0.0851130033361746, 0.3020106534247824, 0.3020106534247824, 0.3020106534247824, 0.3020106534247824, 0.68364621418799, 0.712766054612298, 0.8418959329677407, 0.7563535407117399, 0.21133857230869796, 0.3170078584630469, 0.10566928615434898, 0.21133857230869796, 0.10566928615434898, 0.33034166328788495, 0.6606833265757699, 0.810847316416483, 0.20271182910412075, 0.7667169263476789, 0.8067286921646502, 0.8037094827150076, 0.7376435602811781, 0.7376333033022464, 0.8754001327185315, 0.7656574081081614, 0.34844191795794005, 0.52266287693691, 0.25251388237064487, 0.12625694118532244, 0.12625694118532244, 0.3787708235559673, 0.12625694118532244, 0.7055343516025216, 0.7094703930303269, 0.7667175779856957, 0.5649508993358494, 0.2824754496679247, 0.8182384374550912, 0.7667205216057125, 0.744296218438391, 0.7358622630779722, 0.43315164879010853, 0.21657582439505427, 0.21657582439505427, 0.21657582439505427, 0.7764062049563584, 0.764847476039269, 0.7442963404919968, 0.7442960963848253, 0.7127666087006337, 0.7376336551200183, 0.7701799401573922, 0.744296218438391, 0.7796282649624195, 0.7529367763653033, 0.17726669474789905, 0.17726669474789905, 0.7090667789915962, 0.7175692618059413, 0.8010085060570786, 0.7175692618059413, 0.7594091556472479, 0.7055343816268769, 0.7216343788595607, 0.27207133329692207, 0.6801783332423053, 0.7442964869563765, 0.7667169937584569, 0.7358622674327892, 0.9333968805971871, 0.8248990308740763, 0.7216288906729913, 0.24854676301086326, 0.24854676301086326, 0.4970935260217265, 0.7358625356767703, 0.7764068380053649, 0.7529234110411678, 0.7094701963473035, 0.933399195515427, 0.7594172672422216, 0.7442965357778493, 0.7175696579122915, 0.7667175779856957, 0.712766054612298, 0.7358625356767703, 0.7563537935893274, 0.7358625356767703, 0.7175696579122915, 0.7667175779856957, 0.7563535407117399, 0.74215585851224, 0.3844045632732561, 0.3844045632732561, 0.22462647013777662, 0.44925294027555324, 0.22462647013777662, 0.6595308991862882, 0.3758147082899291, 0.5637220624348935, 0.7931489343003054, 0.7376336551200183, 0.7127663479530743, 0.7055343816268769, 0.7094703930303269, 0.4842762664116649, 0.4842762664116649, 0.7055340552066771, 0.8037225838737937, 0.7127666087006337, 0.7421564683359753, 0.8145484102083039, 0.42444464765721246, 0.42444464765721246, 0.14148154921907083, 0.8609914648105812, 0.6914971797442558, 0.7175692618059413, 0.7358635555852509, 0.7376336551200183, 0.8753728050090948, 0.2085579917771988, 0.2085579917771988, 0.4171159835543976, 0.2085579917771988, 0.7421564683359753, 0.6668341887710117, 0.8037200922592087, 0.7764062139777269, 0.766463930802609, 0.712766054612298, 0.6668341887710117, 0.27165721324394004, 0.27165721324394004, 0.27165721324394004, 0.7055345317486907, 0.7358625356767703, 0.48275187286365445, 0.48275187286365445, 0.5389805637118176, 0.5389805637118176, 0.691452645388165, 0.7421560048698451, 0.7421564683359753, 0.31741025167160314, 0.6348205033432063, 0.29720141847188597, 0.29720141847188597, 0.29720141847188597, 0.7870903652608203, 0.7442960963848253, 0.712564314283668, 0.237521438094556, 0.4909040593474825, 0.6914794753087112, 0.7376335468683606, 0.40221762955295426, 0.40221762955295426, 0.40221762955295426, 0.7216279005451278, 0.744296218438391, 0.7648698458082358, 0.7563537683015611, 0.7594353343916818, 0.7664604261148441, 0.7127668368549045, 0.32159562029520683, 0.6431912405904137, 0.7563535407117399, 0.6668341887710117, 0.8036800362128865, 0.10362264633239843, 0.6217358779943906, 0.20724529266479685, 0.7055345317486907, 0.7175692618059413, 0.5359605440795628, 0.7664605057664827, 0.7216279005451278, 0.7216282965959472, 0.6668341887710117, 0.7216343788595607, 0.7421594354926235, 0.74215585851224, 0.7442965357778493, 0.7376335468683606, 0.08474356897957165, 0.3389742759182866, 0.3389742759182866, 0.1694871379591433, 0.7376333033022464, 0.8067514811026669, 0.806729339794634, 0.7376336551200183, 0.705534086800003, 0.7764062461500975, 0.7358739117391523, 0.744296218438391, 0.6236275229376658, 0.3118137614688329, 0.7127666087006337, 0.7055343516025216, 0.7055343516025216, 0.7055343816268769, 0.7648629754695324, 0.7127666087006337, 0.7442960349406493, 0.8506212614895604, 0.1701242522979121, 0.8905034277904929, 0.7216279005451278, 0.7421554600998822, 0.7094703930303269, 0.7216288906729913, 0.19074839701584143, 0.19074839701584143, 0.19074839701584143, 0.38149679403168285, 0.49980375417320605, 0.16660125139106868, 0.16660125139106868, 0.16660125139106868, 0.74429607670631, 0.7764068380053649, 0.7358624271069178, 0.4021072915865102, 0.4021072915865102, 0.7376335468683606, 0.8837366926913532, 0.37318436786423387, 0.37318436786423387, 0.7664604261148441, 0.7376336551200183, 0.7055343215781692, 0.712766054612298, 0.8559563108447727, 0.9346076702263583, 0.6897328079468799, 0.2873886699778666, 0.05747773399557332, 0.793138413190914, 0.7216288906729913, 0.9455768831598038, 0.7795985366214015, 0.2863292254902196, 0.5726584509804392, 0.7648174172031533, 0.7563541476182343, 0.7175722478492055, 0.7358626402826381, 0.7358692043603343, 0.8609919876343478, 0.7216282965959472, 0.31977397392257034, 0.31977397392257034, 0.31977397392257034, 0.31977397392257034, 0.36662614163393825, 0.36662614163393825, 0.18331307081696913, 0.28066441894130184, 0.5613288378826037, 0.28066441894130184, 0.7216281268598286, 0.32226712879167796, 0.6445342575833559, 0.7421556394469364, 0.7055343215781692, 0.7127668368549045, 0.44511284029483894, 0.44511284029483894, 0.7216279005451278, 0.7563541476182343, 0.21040871537930403, 0.42081743075860806, 0.42081743075860806, 0.7055343516025216, 0.4883502008044287, 0.4883502008044287, 0.7577654944823267, 0.18944137362058167, 0.5123386851704089, 0.5123386851704089, 0.814553420391305, 0.7216281268598286, 0.7421564439430066, 0.7667169937584569, 0.18025995587155466, 0.18025995587155466, 0.5407798676146639, 0.7216288906729913, 0.712766054612298, 0.7442960963848253, 0.7216967779111257, 0.7793579261175554, 0.12989298768625923, 0.6914218846790002, 0.7055345317486907, 0.8926726676103316, 0.7667168589369129, 0.7664604261148441, 0.7127663479530743, 0.7563537935893274, 0.7664604261148441, 0.7563541476182343, 0.5442848829963945, 0.5442848829963945, 0.7196555974206045, 0.34728192563390764, 0.5209228884508614, 0.5084781335542939, 0.5084781335542939, 0.09029949949627752, 0.04514974974813876, 0.18059899899255505, 0.09029949949627752, 0.4514974974813876, 0.09029949949627752, 0.04514974974813876, 0.504932701838576, 0.126233175459644, 0.252466350919288, 0.126233175459644, 0.126233175459644, 0.9114095350670574, 0.74215585851224, 0.7358781745841562, 0.8182733669935744, 0.3267776063241948, 0.3267776063241948, 0.3267776063241948, 0.7563541476182343, 0.6675371595247437, 0.7727975689755411, 0.34191531075818465, 0.6838306215163693, 0.7376333033022464, 0.7679792582770653, 0.7376333033022464, 0.281678427419269, 0.563356854838538, 0.7358625356767703, 0.7442964869563765, 0.6914678456783395, 0.8909206507133901, 0.20983934881348032, 0.20983934881348032, 0.629518046440441, 0.4487105435050634, 0.0815837351827388, 0.0815837351827388, 0.1631674703654776, 0.1223756027741082, 0.0815837351827388, 0.7776238433092251, 0.74215585851224, 0.7667205216057125, 0.7376335468683606, 0.50490470328316, 0.19043051058329524, 0.19043051058329524, 0.19043051058329524, 0.5712915317498858, 0.6828144875534825, 0.22760482918449418, 0.8805288645061278, 0.7094703930303269, 0.2199264087612153, 0.2199264087612153, 0.6597792262836458, 0.13885134326268941, 0.13885134326268941, 0.13885134326268941, 0.27770268652537883, 0.41655402978806827, 0.7664605057664827, 0.7055356726765641, 0.217294330134708, 0.651882990404124, 0.7358739117391523, 0.25549531634193895, 0.25549531634193895, 0.25549531634193895, 0.8067509634456903, 0.7667205216057125, 0.4920788314030731, 0.4920788314030731, 0.7055345317486907, 0.5777247842170679, 0.24919488159709718, 0.062298720399274296, 0.12459744079854859, 0.37379232239564575, 0.062298720399274296, 0.12459744079854859, 0.062298720399274296, 0.3175295223407181, 0.3175295223407181, 0.5777247842170679, 0.7421560048698451, 0.5657567549430306, 0.3771711699620204, 0.8036830932217446, 0.759415540851498, 0.7216282965959472, 0.7216343788595607, 0.3061803013594743, 0.6123606027189487, 0.2889687325154808, 0.5779374650309616, 0.7376336551200183, 0.1911563543874349, 0.1911563543874349, 0.1911563543874349, 0.5734690631623047], \"Term\": [\"1000\", \"1377\", \"1945\", \"1970-ih\", \"2000\", \"2021\", \"24SATA.HR\", \"24SATA.HR\", \"24SATA.HR\", \"24SATA.HR\", \"24SATA.HR\", \"24SATA.HR\", \"24SATA.HR\", \"400.000\", \"46-godi\\u0161njaku\", \"DIREKTNO.HR\", \"DIREKTNO.HR\", \"DIREKTNO.HR\", \"DIREKTNO.HR\", \"DIREKTNO.HR\", \"DIREKTNO.HR\", \"DIREKTNO.HR\", \"DNEVNIK.HR\", \"DNEVNIK.HR\", \"DNEVNIK.HR\", \"DNEVNIK.HR\", \"DNEVNIK.HR\", \"DNEVNIK.HR\", \"DNEVNIK.HR\", \"INDEX.HR\", \"INDEX.HR\", \"INDEX.HR\", \"INDEX.HR\", \"INDEX.HR\", \"INDEX.HR\", \"INDEX.HR\", \"JUTARNJI.HR\", \"JUTARNJI.HR\", \"JUTARNJI.HR\", \"JUTARNJI.HR\", \"JUTARNJI.HR\", \"JUTARNJI.HR\", \"JUTARNJI.HR\", \"JUTARNJI.HR\", \"JUTARNJI.HR\", \"NET.HR\", \"NET.HR\", \"NET.HR\", \"NET.HR\", \"NET.HR\", \"NET.HR\", \"NET.HR\", \"NET.HR\", \"NET.HR\", \"NET.HR\", \"NOVILIST.HR\", \"NOVILIST.HR\", \"NOVILIST.HR\", \"NOVILIST.HR\", \"RTL.HR\", \"RTL.HR\", \"SLOBODNADALMACIJA.HR\", \"SLOBODNADALMACIJA.HR\", \"SLOBODNADALMACIJA.HR\", \"SLOBODNADALMACIJA.HR\", \"SLOBODNADALMACIJA.HR\", \"SLOBODNADALMACIJA.HR\", \"VECERNJI.HR\", \"VECERNJI.HR\", \"VECERNJI.HR\", \"VECERNJI.HR\", \"VECERNJI.HR\", \"VECERNJI.HR\", \"adekvatan\", \"aktivnost\", \"alarm\", \"alemko\", \"arktika\", \"australski\", \"austrija\", \"autobus\", \"autobus\", \"balkan\", \"bandi\\u0107\", \"beograd\", \"bero\\u0161\", \"bero\\u0161\", \"bero\\u0161\", \"bero\\u0161\", \"beskoristan\", \"bitak\", \"biti\", \"biti\", \"biti\", \"biti\", \"blokirati\", \"bolest\", \"bolest\", \"bolnica\", \"bolni\\u010dki\", \"borba\", \"borba\", \"boriti\", \"bo\\u017einovi\\u0107\", \"brinuti\", \"broj\", \"brojati\", \"brojati\", \"brojka\", \"brojka\", \"bundesliga\", \"capak\", \"capak\", \"centar\", \"cijepiti\", \"cijepljenje\", \"cjepivo\", \"cjepivo\", \"cjepivo\", \"cjepivo\", \"covid\", \"covid\", \"covid\", \"covid\", \"covid-19\", \"covid-19\", \"covida-19\", \"covida-19\", \"daljnji\", \"dalmatinski\", \"danas\", \"dati\", \"dati\", \"dati\", \"dati\", \"dati\", \"dati\", \"dati\", \"davan\", \"delicija\", \"depresija\", \"deset\", \"desetogodi\\u0161nji\", \"desni\", \"detaljan\", \"djeca\", \"dnevan\", \"dnevan\", \"dobar\", \"dokaz\", \"doktor\", \"donesen\", \"dopu\\u0161ten\", \"dospjeti\", \"dramati\\u010dan\", \"drug\", \"drugim\", \"druk\\u010diji\", \"dr\\u017eava\", \"dr\\u017eava\", \"dubrovnik\", \"dvije\", \"ecdc\", \"enigma\", \"epidemija\", \"epidemija\", \"epidemija\", \"epidemija\", \"epidemija\", \"epidemilog\", \"epidemiolog\", \"epidemiolog\", \"epidemiolo\\u0161ki\", \"epidemiolo\\u0161ki\", \"eti\\u010dar\", \"europa\", \"europski\", \"europski\", \"eventualan\", \"faza\", \"film\", \"fotelja\", \"foto\", \"frizer\", \"general\", \"general\", \"gleda\", \"godina\", \"godina\", \"gora\", \"gorjeti\", \"gotov\", \"grad\", \"gradili\\u0161te\", \"gra\\u0111anin\", \"gra\\u0111anin\", \"grupa\", \"hospitaliziran\", \"hrvat\", \"hrvatski\", \"hrvatski\", \"hrvatski\", \"hrvatski\", \"hrvatski\", \"hrvatski\", \"hrvatski\", \"hrvatski\", \"hrvatski\", \"iako\", \"imati\", \"imati\", \"imati\", \"imati\", \"imati\", \"imati\", \"imati\", \"imunolog\", \"inteligentan\", \"ispijanje\", \"ispod\", \"isprazniti\", \"ispra\\u0107ati\", \"istok\", \"istu\", \"italija\", \"italija\", \"izgledati\", \"izlazak\", \"janez\", \"jan\\u0161a\", \"jasan\", \"javan\", \"jedan\", \"jedan\", \"jedna\", \"jedna\", \"jednoj\", \"kafi\\u0107\", \"kafi\\u0107\", \"kako\", \"kako\", \"kako\", \"kako\", \"karantena\", \"karantena\", \"karta\", \"kasan\", \"kava\", \"kazati\", \"kazniti\", \"kineski\", \"kino\", \"kino\", \"klju\\u010dan\", \"klub\", \"kninski\", \"koje\", \"koji\", \"koji\", \"koji\", \"koji\", \"koji\", \"kojima\", \"kolika\", \"kontakt\", \"konvoj\", \"kori\\u0161tenje\", \"korona\", \"korona\", \"korona\", \"koronavirus\", \"koronavirus\", \"koronavirus\", \"koronavirus\", \"koronavirusa\", \"koronavirusa\", \"koronavirusa\", \"koronavirusa\", \"koronavirusa\", \"koronavirusom\", \"koronavirusom\", \"koronavirusu\", \"korone\", \"korone\", \"koroni\", \"koronom\", \"koronom\", \"koronom\", \"koronu\", \"koronu\", \"koronu\", \"krajnji\", \"krenuti\", \"kretanje\", \"kretati\", \"kritizirati\", \"kriv\", \"kriza\", \"kroni\\u010dan\", \"kroz\", \"kr\\u0161enje\", \"kulturan\", \"kuna\", \"lauc\", \"lijek\", \"lije\\u010diti\", \"lije\\u010dnik\", \"lije\\u010dnik\", \"lije\\u010dnik\", \"lije\\u010dnik\", \"lizati\", \"lockdown\", \"lockdowna\", \"lueti\\u0107\", \"luksemburg\", \"mali\", \"manje\", \"manje\", \"mazak\", \"mazak\", \"milijun\", \"ministar\", \"ministarski\", \"mjera\", \"mjera\", \"mjera\", \"mjeriti\", \"mjeriti\", \"mjeriti\", \"mjeriti\", \"mjeriti\", \"mjeriti\", \"mjesec\", \"mjesec\", \"mjesec\", \"mjesec\", \"mlad\", \"model\", \"morati\", \"mo\\u0107an\", \"mo\\u0107i\", \"mo\\u0107i\", \"mo\\u0107i\", \"mo\\u0107i\", \"mo\\u0107i\", \"mo\\u017eda\", \"mo\\u017eda\", \"mrtav\", \"mrtav\", \"nabavljati\", \"nacionalan\", \"najbolj\", \"najgori\", \"najodogovorniji\", \"najve\\u0107a\", \"najve\\u0107im\", \"najvi\\u0161e\", \"najvi\\u0161e\", \"nakon\", \"nakon\", \"nakon\", \"nakon\", \"nakon\", \"napokon\", \"naran\\u010dast\", \"nastavati\", \"nastavljati\", \"nastavljati\", \"na\\u010din\", \"na\\u0161e\", \"na\\u0161eg\", \"nedostajati\", \"nego\", \"nego\", \"nego\", \"nego\", \"neka\", \"neki\", \"neko\", \"neodgovornost\", \"nepravedan\", \"neprihvatljiv\", \"nestati\", \"neugodan\", \"ne\\u0107e\", \"ne\\u0107emo\", \"nije\", \"nije\", \"nije\", \"nikad\", \"nisu\", \"nitko\", \"ni\\u0161ta\", \"nogomet\", \"nosilac\", \"novozara\\u017eenih\", \"novozara\\u017eenih\", \"no\\u0107an\", \"nultog\", \"obaviti\", \"objasniti\", \"objaviti\", \"obolijevanje\", \"oboljeo\", \"oboljeo\", \"oboljeo\", \"oboljeti\", \"odgovor\", \"odgovoran\", \"odlazak\", \"odobren\", \"oglasiti\", \"ograni\\u010denja\", \"ohrabrivati\", \"online\", \"onome\", \"opet\", \"opisati\", \"oporaviti\", \"oporavljati\", \"organizirati\", \"oru\\u017eje\", \"osjetljiv\", \"oslabjeti\", \"oslabjeti\", \"osoba\", \"osoba\", \"osoba\", \"ostati\", \"otkriti\", \"otkriti\", \"ovaj\", \"ovakva\", \"ovisiti\", \"ovoga\", \"ovoj\", \"oxfordski\", \"oxfordski\", \"ozbiljan\", \"ozdraviti\", \"o\\u010dekivati\", \"o\\u0161te\\u0107enje\", \"o\\u017eujak\", \"pacijent\", \"pacijent\", \"pacijent\", \"pandemija\", \"panika\", \"patrijarah\", \"pelje\\u0161ac\", \"performans\", \"pitanje\", \"plenkovi\\u0107\", \"plenkovi\\u0107\", \"plenkovi\\u0107\", \"plenkovi\\u0107\", \"plu\\u0107\", \"pobjeda\", \"podatak\", \"podsje\\u0107ati\", \"pojasniti\", \"pokazan\", \"polica\", \"policijski\", \"policijski\", \"policijski\", \"pona\\u0161anje\", \"ponovan\", \"popu\\u0161tanje\", \"popu\\u0161tanje\", \"porasti\", \"porasti\", \"poslati\", \"poslije\", \"posljedica\", \"posti\", \"posti\", \"posto\", \"posto\", \"posto\", \"potpun\", \"pove\\u0107ati\", \"pozitivan\", \"pozitivan\", \"poziv\", \"pozvati\", \"po\\u010delo\", \"po\\u010detak\", \"po\\u010detak\", \"po\\u010detak\", \"po\\u010dinjati\", \"po\\u0161iljka\", \"pratiti\", \"preboljeti\", \"predlagati\", \"predstaviti\", \"predvi\\u0111ati\", \"preko\", \"preko\", \"prekretnica\", \"premijerov\", \"preminuo\", \"preminuti\", \"preminuti\", \"preminuti\", \"pre\\u0161u\\u0107ivati\", \"prihvatljiv\", \"prijevoz\", \"pripremati\", \"pri\\u010dati\", \"proboj\", \"probuditi\", \"prodavati\", \"produ\\u017eivati\", \"prognoza\", \"prometan\", \"promijeniti\", \"protiv\", \"protiv\", \"protiv\", \"protiv\", \"prozivati\", \"prva\", \"prvog\", \"pula\", \"pustiti\", \"putin\", \"putnik\", \"pu\\u0107i\", \"raditi\", \"raditi\", \"raspodjela\", \"razgovarati\", \"razgovor\", \"razvijati\", \"razviti\", \"ra\\u0161iren\", \"redukcija\", \"rekordan\", \"rekordan\", \"respirator\", \"revolucija\", \"re\\u0107i\", \"rizik\", \"rizi\\u010dan\", \"samo\", \"samo\", \"samo\", \"samo\", \"samoizolacija\", \"samoizolacija\", \"samoizolacija\", \"samoizolacija\", \"sastanak\", \"scenariti\", \"sestara\", \"siguran\", \"siguran\", \"sije\\u010danj\", \"simptom\", \"situacija\", \"situacija\", \"sjediti\", \"sklop\", \"skra\\u0107en\", \"sli\\u010dan\", \"slova\\u010dki\", \"slovenija\", \"slu\\u010daj\", \"slu\\u010daj\", \"slu\\u010daj\", \"snaga\", \"spadati\", \"splitski\", \"sprije\\u010diti\", \"srbija\", \"srbija\", \"sredina\", \"srijemski\", \"sri\\u0107a\", \"stanje\", \"stanovnik\", \"star\", \"stara\\u010dki\", \"sti\\u0107i\", \"sti\\u0107i\", \"sti\\u0107i\", \"sti\\u0107i\", \"sto\\u017eer\", \"sto\\u017eer\", \"sto\\u017eer\", \"strog\", \"strog\", \"strog\", \"struka\", \"studi\", \"studi\", \"stvar\", \"stvoren\", \"super\\u017eari\\u0161ta\", \"sustav\", \"sustav\", \"su\\u0111en\", \"svadba\", \"svijet\", \"svijet\", \"svijet\", \"svi\\u0111ati\", \"tako\", \"tako\", \"testiranje\", \"testiranje\", \"testirati\", \"testirati\", \"te\\u017eak\", \"totalan\", \"trajan\", \"tra\\u017eenje\", \"trebati\", \"trebati\", \"trebati\", \"trudnica\", \"ugledan\", \"ukidanje\", \"ukupan\", \"umro\", \"umro\", \"unato\\u010d\", \"upozoravati\", \"upozoriti\", \"ure\\u0111aj\", \"uskoro\", \"uspjeh\", \"uspjeti\", \"ustroj\", \"uveden\", \"uvesti\", \"uvesti\", \"va\\u017ean\", \"velik\", \"velik\", \"vikend\", \"vikend\", \"virus\", \"virus\", \"virus\", \"virus\", \"virus\", \"virus\", \"virus\", \"vi\\u0161e\", \"vi\\u0161e\", \"vi\\u0161e\", \"vi\\u0161e\", \"vi\\u0161e\", \"vlada\", \"voditi\", \"vrao\", \"vratiti\", \"vrijeme\", \"vrijeme\", \"vrijeme\", \"vukovarski\", \"zabilje\\u017een\", \"zabraniti\", \"zabranjen\", \"zabranjen\", \"zadarski\", \"zadnji\", \"zadranin\", \"zagrepsti\", \"zagrepsti\", \"zaintrigirati\", \"zamah\", \"zapravo\", \"zaraza\", \"zaraziti\", \"zaraziti\", \"zaraziti\", \"zara\\u017een\", \"zara\\u017een\", \"zara\\u017een\", \"zara\\u017een\", \"zara\\u017een\", \"zara\\u017een\", \"zatvarati\", \"zaustaviti\", \"zaustavljati\", \"zauvijek\", \"zavjera\", \"za\\u0161to\", \"za\\u0161to\", \"za\\u0161to\", \"za\\u0161to\", \"zbog\", \"zbog\", \"zdravstven\", \"zelen\", \"zemlja\", \"zemlja\", \"zemlja\", \"znanstvenik\", \"znanstvenik\", \"znanstvenik\", \"znanstvenik\", \"znanstvenik\", \"zna\\u010dajan\", \"zna\\u010diti\", \"zona\", \"zona\", \"zraka\", \"\\u0107emo\", \"\\u0107emo\", \"\\u0107emo\", \"\\u010dekati\", \"\\u010detveroslojne\", \"\\u010de\\u0161ki\", \"\\u010de\\u0161ki\", \"\\u010de\\u0161\\u0107i\", \"\\u010di\\u010din\", \"\\u010dovjek\", \"\\u010dovjek\", \"\\u010dovjek\", \"\\u010dovjek\", \"\\u010dovjek\", \"\\u010dovjek\", \"\\u010dovjek\", \"\\u0111iki\\u0107\", \"\\u0111iki\\u0107\", \"\\u0161ain\", \"\\u0161ibenski\", \"\\u0161irenje\", \"\\u0161irenje\", \"\\u0161iriti\", \"\\u0161kola\", \"\\u0161ostar\", \"\\u0161takor\", \"\\u017eari\\u0161te\", \"\\u017eari\\u0161te\", \"\\u017eivot\", \"\\u017eivot\", \"\\u017elica\", \"\\u017eupanija\", \"\\u017eupanija\", \"\\u017eupanija\", \"\\u017eupanija\"]}, \"R\": 30, \"lambda.step\": 0.01, \"plot.opts\": {\"xlab\": \"PC1\", \"ylab\": \"PC2\"}, \"topic.order\": [15, 14, 20, 6, 3, 10, 7, 1, 18, 17, 4, 19, 13, 11, 2, 8, 5, 16, 9, 12]};\n",
       "\n",
       "function LDAvis_load_lib(url, callback){\n",
       "  var s = document.createElement('script');\n",
       "  s.src = url;\n",
       "  s.async = true;\n",
       "  s.onreadystatechange = s.onload = callback;\n",
       "  s.onerror = function(){console.warn(\"failed to load library \" + url);};\n",
       "  document.getElementsByTagName(\"head\")[0].appendChild(s);\n",
       "}\n",
       "\n",
       "if(typeof(LDAvis) !== \"undefined\"){\n",
       "   // already loaded: just create the visualization\n",
       "   !function(LDAvis){\n",
       "       new LDAvis(\"#\" + \"ldavis_el109881400145811860005228961292\", ldavis_el109881400145811860005228961292_data);\n",
       "   }(LDAvis);\n",
       "}else if(typeof define === \"function\" && define.amd){\n",
       "   // require.js is available: use it to load d3/LDAvis\n",
       "   require.config({paths: {d3: \"https://d3js.org/d3.v5\"}});\n",
       "   require([\"d3\"], function(d3){\n",
       "      window.d3 = d3;\n",
       "      LDAvis_load_lib(\"https://cdn.jsdelivr.net/gh/bmabey/pyLDAvis@3.2.2/pyLDAvis/js/ldavis.v3.0.0.js\", function(){\n",
       "        new LDAvis(\"#\" + \"ldavis_el109881400145811860005228961292\", ldavis_el109881400145811860005228961292_data);\n",
       "      });\n",
       "    });\n",
       "}else{\n",
       "    // require.js not available: dynamically load d3 & LDAvis\n",
       "    LDAvis_load_lib(\"https://d3js.org/d3.v5.js\", function(){\n",
       "         LDAvis_load_lib(\"https://cdn.jsdelivr.net/gh/bmabey/pyLDAvis@3.2.2/pyLDAvis/js/ldavis.v3.0.0.js\", function(){\n",
       "                 new LDAvis(\"#\" + \"ldavis_el109881400145811860005228961292\", ldavis_el109881400145811860005228961292_data);\n",
       "            })\n",
       "         });\n",
       "}\n",
       "</script>"
      ],
      "text/plain": [
       "PreparedData(topic_coordinates=              x         y  topics  cluster       Freq\n",
       "topic                                                \n",
       "14     0.169586 -0.175811       1        1  13.362371\n",
       "13    -0.029147  0.034982       2        1   7.205291\n",
       "19     0.088468 -0.086369       3        1   7.098067\n",
       "5     -0.020927 -0.093572       4        1   6.673316\n",
       "2      0.100587  0.148881       5        1   6.547038\n",
       "9      0.061223 -0.048519       6        1   6.010358\n",
       "6      0.010547 -0.044168       7        1   5.502975\n",
       "0     -0.242246 -0.045170       8        1   5.391122\n",
       "17     0.032190  0.066945       9        1   5.343268\n",
       "16     0.010163  0.055178      10        1   4.899797\n",
       "3     -0.175706 -0.058739      11        1   4.890630\n",
       "18     0.018555 -0.074988      12        1   4.875209\n",
       "12     0.046504  0.051536      13        1   4.229045\n",
       "10    -0.042875  0.014771      14        1   3.750244\n",
       "1      0.040858  0.025416      15        1   3.640566\n",
       "7      0.019974  0.104298      16        1   3.158501\n",
       "4     -0.014600  0.056514      17        1   2.726265\n",
       "15    -0.036618  0.017166      18        1   2.317176\n",
       "8     -0.036150  0.028536      19        1   1.866556\n",
       "11    -0.000385  0.023112      20        1   0.512206, topic_info=            Term       Freq      Total Category  logprob  loglift\n",
       "9    DIREKTNO.HR  27.000000  27.000000  Default  30.0000  30.0000\n",
       "230       slučaj  17.000000  17.000000  Default  29.0000  29.0000\n",
       "12        korona  16.000000  16.000000  Default  28.0000  28.0000\n",
       "14         virus  22.000000  22.000000  Default  27.0000  27.0000\n",
       "78          dati  20.000000  20.000000  Default  26.0000  26.0000\n",
       "..           ...        ...        ...      ...      ...      ...\n",
       "20          kroz   0.010012   1.287983  Topic20  -6.9007   0.4171\n",
       "21      liječiti   0.010012   1.287983  Topic20  -6.9007   0.4171\n",
       "22          ćemo   0.010012   3.913966  Topic20  -6.9007  -0.6943\n",
       "23         alarm   0.010012   1.417365  Topic20  -6.9007   0.3214\n",
       "24         beroš   0.010012  18.263623  Topic20  -6.9007  -2.2347\n",
       "\n",
       "[846 rows x 6 columns], token_table=      Topic      Freq      Term\n",
       "term                           \n",
       "348      13  0.766722      1000\n",
       "425      13  0.766717      1377\n",
       "398       5  0.717569      1945\n",
       "537       6  0.721628   1970-ih\n",
       "241      13  0.766717      2000\n",
       "...     ...       ...       ...\n",
       "536       7  0.737634     žlica\n",
       "76        5  0.191156  županija\n",
       "76        7  0.191156  županija\n",
       "76       10  0.191156  županija\n",
       "76       16  0.573469  županija\n",
       "\n",
       "[746 rows x 3 columns], R=30, lambda_step=0.01, plot_opts={'xlab': 'PC1', 'ylab': 'PC2'}, topic_order=[15, 14, 20, 6, 3, 10, 7, 1, 18, 17, 4, 19, 13, 11, 2, 8, 5, 16, 9, 12])"
      ]
     },
     "execution_count": 106,
     "metadata": {},
     "output_type": "execute_result"
    }
   ],
   "source": [
    "pyLDAvis.enable_notebook()\n",
    "vis = pyLDAvis.gensim.prepare(lda_model, corpus, id2word)\n",
    "vis"
   ]
  },
  {
   "cell_type": "code",
   "execution_count": null,
   "metadata": {},
   "outputs": [],
   "source": []
  }
 ],
 "metadata": {
  "kernelspec": {
   "display_name": "Python 3",
   "language": "python",
   "name": "python3"
  },
  "language_info": {
   "codemirror_mode": {
    "name": "ipython",
    "version": 3
   },
   "file_extension": ".py",
   "mimetype": "text/x-python",
   "name": "python",
   "nbconvert_exporter": "python",
   "pygments_lexer": "ipython3",
   "version": "3.8.6"
  }
 },
 "nbformat": 4,
 "nbformat_minor": 4
}
